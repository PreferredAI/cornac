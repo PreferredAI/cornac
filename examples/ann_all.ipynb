{
 "cells": [
  {
   "cell_type": "code",
   "execution_count": 1,
   "id": "74a9e78f-3e8a-4ee2-89fe-b3a3f4784b53",
   "metadata": {},
   "outputs": [],
   "source": [
    "import numpy as np\n",
    "import cornac\n",
    "from cornac.data import Reader\n",
    "from cornac.datasets import netflix\n",
    "from cornac.eval_methods import RatioSplit\n",
    "from cornac.models import MF"
   ]
  },
  {
   "cell_type": "markdown",
   "id": "cf6bb9a5-ffb5-4221-8122-9aa286af1d9c",
   "metadata": {},
   "source": [
    "## Train a base recommender model"
   ]
  },
  {
   "cell_type": "code",
   "execution_count": 2,
   "id": "76a0c130-7dd7-4004-a613-5b123dcc75d2",
   "metadata": {},
   "outputs": [
    {
     "name": "stdout",
     "output_type": "stream",
     "text": [
      "rating_threshold = 1.0\n",
      "exclude_unknowns = True\n",
      "---\n",
      "Training data:\n",
      "Number of users = 9986\n",
      "Number of items = 4921\n",
      "Number of ratings = 547022\n",
      "Max rating = 1.0\n",
      "Min rating = 1.0\n",
      "Global mean = 1.0\n",
      "---\n",
      "Test data:\n",
      "Number of users = 9986\n",
      "Number of items = 4921\n",
      "Number of ratings = 60747\n",
      "Number of unknown users = 0\n",
      "Number of unknown items = 0\n",
      "---\n",
      "Total users = 9986\n",
      "Total items = 4921\n",
      "\n",
      "[MF] Training started!\n"
     ]
    },
    {
     "data": {
      "application/vnd.jupyter.widget-view+json": {
       "model_id": "5f2de0606b84458cb20f3c5453487143",
       "version_major": 2,
       "version_minor": 0
      },
      "text/plain": [
       "  0%|          | 0/25 [00:00<?, ?it/s]"
      ]
     },
     "metadata": {},
     "output_type": "display_data"
    },
    {
     "name": "stdout",
     "output_type": "stream",
     "text": [
      "Optimization finished!\n",
      "\n",
      "[MF] Evaluation started!\n"
     ]
    },
    {
     "data": {
      "application/vnd.jupyter.widget-view+json": {
       "model_id": "c074be6de68c4dec92d856cf103f126c",
       "version_major": 2,
       "version_minor": 0
      },
      "text/plain": [
       "Ranking:   0%|          | 0/8233 [00:00<?, ?it/s]"
      ]
     },
     "metadata": {},
     "output_type": "display_data"
    },
    {
     "ename": "KeyboardInterrupt",
     "evalue": "",
     "output_type": "error",
     "traceback": [
      "\u001b[0;31m---------------------------------------------------------------------------\u001b[0m",
      "\u001b[0;31mKeyboardInterrupt\u001b[0m                         Traceback (most recent call last)",
      "Cell \u001b[0;32mIn[2], line 30\u001b[0m\n\u001b[1;32m     22\u001b[0m auc \u001b[38;5;241m=\u001b[39m cornac\u001b[38;5;241m.\u001b[39mmetrics\u001b[38;5;241m.\u001b[39mAUC()\n\u001b[1;32m     23\u001b[0m rec_20 \u001b[38;5;241m=\u001b[39m cornac\u001b[38;5;241m.\u001b[39mmetrics\u001b[38;5;241m.\u001b[39mRecall(k\u001b[38;5;241m=\u001b[39m\u001b[38;5;241m20\u001b[39m)\n\u001b[1;32m     25\u001b[0m \u001b[43mcornac\u001b[49m\u001b[38;5;241;43m.\u001b[39;49m\u001b[43mExperiment\u001b[49m\u001b[43m(\u001b[49m\n\u001b[1;32m     26\u001b[0m \u001b[43m    \u001b[49m\u001b[43meval_method\u001b[49m\u001b[38;5;241;43m=\u001b[39;49m\u001b[43mratio_split\u001b[49m\u001b[43m,\u001b[49m\n\u001b[1;32m     27\u001b[0m \u001b[43m    \u001b[49m\u001b[43mmodels\u001b[49m\u001b[38;5;241;43m=\u001b[39;49m\u001b[43m[\u001b[49m\u001b[43mmf\u001b[49m\u001b[43m]\u001b[49m\u001b[43m,\u001b[49m\n\u001b[1;32m     28\u001b[0m \u001b[43m    \u001b[49m\u001b[43mmetrics\u001b[49m\u001b[38;5;241;43m=\u001b[39;49m\u001b[43m[\u001b[49m\u001b[43mauc\u001b[49m\u001b[43m,\u001b[49m\u001b[43m \u001b[49m\u001b[43mrec_20\u001b[49m\u001b[43m]\u001b[49m\u001b[43m,\u001b[49m\n\u001b[1;32m     29\u001b[0m \u001b[43m    \u001b[49m\u001b[43muser_based\u001b[49m\u001b[38;5;241;43m=\u001b[39;49m\u001b[38;5;28;43;01mTrue\u001b[39;49;00m\u001b[43m,\u001b[49m\n\u001b[0;32m---> 30\u001b[0m \u001b[43m)\u001b[49m\u001b[38;5;241;43m.\u001b[39;49m\u001b[43mrun\u001b[49m\u001b[43m(\u001b[49m\u001b[43m)\u001b[49m\n",
      "File \u001b[0;32m~/cornac/cornac/experiment/experiment.py:131\u001b[0m, in \u001b[0;36mExperiment.run\u001b[0;34m(self)\u001b[0m\n\u001b[1;32m    128\u001b[0m \u001b[38;5;28mself\u001b[39m\u001b[38;5;241m.\u001b[39m_create_result()\n\u001b[1;32m    130\u001b[0m \u001b[38;5;28;01mfor\u001b[39;00m model \u001b[38;5;129;01min\u001b[39;00m \u001b[38;5;28mself\u001b[39m\u001b[38;5;241m.\u001b[39mmodels:\n\u001b[0;32m--> 131\u001b[0m     test_result, val_result \u001b[38;5;241m=\u001b[39m \u001b[38;5;28;43mself\u001b[39;49m\u001b[38;5;241;43m.\u001b[39;49m\u001b[43meval_method\u001b[49m\u001b[38;5;241;43m.\u001b[39;49m\u001b[43mevaluate\u001b[49m\u001b[43m(\u001b[49m\n\u001b[1;32m    132\u001b[0m \u001b[43m        \u001b[49m\u001b[43mmodel\u001b[49m\u001b[38;5;241;43m=\u001b[39;49m\u001b[43mmodel\u001b[49m\u001b[43m,\u001b[49m\n\u001b[1;32m    133\u001b[0m \u001b[43m        \u001b[49m\u001b[43mmetrics\u001b[49m\u001b[38;5;241;43m=\u001b[39;49m\u001b[38;5;28;43mself\u001b[39;49m\u001b[38;5;241;43m.\u001b[39;49m\u001b[43mmetrics\u001b[49m\u001b[43m,\u001b[49m\n\u001b[1;32m    134\u001b[0m \u001b[43m        \u001b[49m\u001b[43muser_based\u001b[49m\u001b[38;5;241;43m=\u001b[39;49m\u001b[38;5;28;43mself\u001b[39;49m\u001b[38;5;241;43m.\u001b[39;49m\u001b[43muser_based\u001b[49m\u001b[43m,\u001b[49m\n\u001b[1;32m    135\u001b[0m \u001b[43m        \u001b[49m\u001b[43mshow_validation\u001b[49m\u001b[38;5;241;43m=\u001b[39;49m\u001b[38;5;28;43mself\u001b[39;49m\u001b[38;5;241;43m.\u001b[39;49m\u001b[43mshow_validation\u001b[49m\u001b[43m,\u001b[49m\n\u001b[1;32m    136\u001b[0m \u001b[43m    \u001b[49m\u001b[43m)\u001b[49m\n\u001b[1;32m    138\u001b[0m     \u001b[38;5;28mself\u001b[39m\u001b[38;5;241m.\u001b[39mresult\u001b[38;5;241m.\u001b[39mappend(test_result)\n\u001b[1;32m    139\u001b[0m     \u001b[38;5;28;01mif\u001b[39;00m \u001b[38;5;28mself\u001b[39m\u001b[38;5;241m.\u001b[39mval_result \u001b[38;5;129;01mis\u001b[39;00m \u001b[38;5;129;01mnot\u001b[39;00m \u001b[38;5;28;01mNone\u001b[39;00m:\n",
      "File \u001b[0;32m~/cornac/cornac/eval_methods/base_method.py:727\u001b[0m, in \u001b[0;36mBaseMethod.evaluate\u001b[0;34m(self, model, metrics, user_based, show_validation)\u001b[0m\n\u001b[1;32m    725\u001b[0m start \u001b[38;5;241m=\u001b[39m time\u001b[38;5;241m.\u001b[39mtime()\n\u001b[1;32m    726\u001b[0m model\u001b[38;5;241m.\u001b[39mtransform(\u001b[38;5;28mself\u001b[39m\u001b[38;5;241m.\u001b[39mtest_set)\n\u001b[0;32m--> 727\u001b[0m test_result \u001b[38;5;241m=\u001b[39m \u001b[38;5;28;43mself\u001b[39;49m\u001b[38;5;241;43m.\u001b[39;49m\u001b[43m_eval\u001b[49m\u001b[43m(\u001b[49m\n\u001b[1;32m    728\u001b[0m \u001b[43m    \u001b[49m\u001b[43mmodel\u001b[49m\u001b[38;5;241;43m=\u001b[39;49m\u001b[43mmodel\u001b[49m\u001b[43m,\u001b[49m\n\u001b[1;32m    729\u001b[0m \u001b[43m    \u001b[49m\u001b[43mtest_set\u001b[49m\u001b[38;5;241;43m=\u001b[39;49m\u001b[38;5;28;43mself\u001b[39;49m\u001b[38;5;241;43m.\u001b[39;49m\u001b[43mtest_set\u001b[49m\u001b[43m,\u001b[49m\n\u001b[1;32m    730\u001b[0m \u001b[43m    \u001b[49m\u001b[43mval_set\u001b[49m\u001b[38;5;241;43m=\u001b[39;49m\u001b[38;5;28;43mself\u001b[39;49m\u001b[38;5;241;43m.\u001b[39;49m\u001b[43mval_set\u001b[49m\u001b[43m,\u001b[49m\n\u001b[1;32m    731\u001b[0m \u001b[43m    \u001b[49m\u001b[43muser_based\u001b[49m\u001b[38;5;241;43m=\u001b[39;49m\u001b[43muser_based\u001b[49m\u001b[43m,\u001b[49m\n\u001b[1;32m    732\u001b[0m \u001b[43m\u001b[49m\u001b[43m)\u001b[49m\n\u001b[1;32m    733\u001b[0m test_time \u001b[38;5;241m=\u001b[39m time\u001b[38;5;241m.\u001b[39mtime() \u001b[38;5;241m-\u001b[39m start\n\u001b[1;32m    734\u001b[0m test_result\u001b[38;5;241m.\u001b[39mmetric_avg_results[\u001b[38;5;124m\"\u001b[39m\u001b[38;5;124mTrain (s)\u001b[39m\u001b[38;5;124m\"\u001b[39m] \u001b[38;5;241m=\u001b[39m train_time\n",
      "File \u001b[0;32m~/cornac/cornac/eval_methods/base_method.py:663\u001b[0m, in \u001b[0;36mBaseMethod._eval\u001b[0;34m(self, model, test_set, val_set, user_based)\u001b[0m\n\u001b[1;32m    660\u001b[0m     metric_avg_results[mt\u001b[38;5;241m.\u001b[39mname] \u001b[38;5;241m=\u001b[39m avg_results[i]\n\u001b[1;32m    661\u001b[0m     metric_user_results[mt\u001b[38;5;241m.\u001b[39mname] \u001b[38;5;241m=\u001b[39m user_results[i]\n\u001b[0;32m--> 663\u001b[0m avg_results, user_results \u001b[38;5;241m=\u001b[39m \u001b[43mranking_eval\u001b[49m\u001b[43m(\u001b[49m\n\u001b[1;32m    664\u001b[0m \u001b[43m    \u001b[49m\u001b[43mmodel\u001b[49m\u001b[38;5;241;43m=\u001b[39;49m\u001b[43mmodel\u001b[49m\u001b[43m,\u001b[49m\n\u001b[1;32m    665\u001b[0m \u001b[43m    \u001b[49m\u001b[43mmetrics\u001b[49m\u001b[38;5;241;43m=\u001b[39;49m\u001b[38;5;28;43mself\u001b[39;49m\u001b[38;5;241;43m.\u001b[39;49m\u001b[43mranking_metrics\u001b[49m\u001b[43m,\u001b[49m\n\u001b[1;32m    666\u001b[0m \u001b[43m    \u001b[49m\u001b[43mtrain_set\u001b[49m\u001b[38;5;241;43m=\u001b[39;49m\u001b[38;5;28;43mself\u001b[39;49m\u001b[38;5;241;43m.\u001b[39;49m\u001b[43mtrain_set\u001b[49m\u001b[43m,\u001b[49m\n\u001b[1;32m    667\u001b[0m \u001b[43m    \u001b[49m\u001b[43mtest_set\u001b[49m\u001b[38;5;241;43m=\u001b[39;49m\u001b[43mtest_set\u001b[49m\u001b[43m,\u001b[49m\n\u001b[1;32m    668\u001b[0m \u001b[43m    \u001b[49m\u001b[43mval_set\u001b[49m\u001b[38;5;241;43m=\u001b[39;49m\u001b[43mval_set\u001b[49m\u001b[43m,\u001b[49m\n\u001b[1;32m    669\u001b[0m \u001b[43m    \u001b[49m\u001b[43mrating_threshold\u001b[49m\u001b[38;5;241;43m=\u001b[39;49m\u001b[38;5;28;43mself\u001b[39;49m\u001b[38;5;241;43m.\u001b[39;49m\u001b[43mrating_threshold\u001b[49m\u001b[43m,\u001b[49m\n\u001b[1;32m    670\u001b[0m \u001b[43m    \u001b[49m\u001b[43mexclude_unknowns\u001b[49m\u001b[38;5;241;43m=\u001b[39;49m\u001b[38;5;28;43mself\u001b[39;49m\u001b[38;5;241;43m.\u001b[39;49m\u001b[43mexclude_unknowns\u001b[49m\u001b[43m,\u001b[49m\n\u001b[1;32m    671\u001b[0m \u001b[43m    \u001b[49m\u001b[43mverbose\u001b[49m\u001b[38;5;241;43m=\u001b[39;49m\u001b[38;5;28;43mself\u001b[39;49m\u001b[38;5;241;43m.\u001b[39;49m\u001b[43mverbose\u001b[49m\u001b[43m,\u001b[49m\n\u001b[1;32m    672\u001b[0m \u001b[43m\u001b[49m\u001b[43m)\u001b[49m\n\u001b[1;32m    673\u001b[0m \u001b[38;5;28;01mfor\u001b[39;00m i, mt \u001b[38;5;129;01min\u001b[39;00m \u001b[38;5;28menumerate\u001b[39m(\u001b[38;5;28mself\u001b[39m\u001b[38;5;241m.\u001b[39mranking_metrics):\n\u001b[1;32m    674\u001b[0m     metric_avg_results[mt\u001b[38;5;241m.\u001b[39mname] \u001b[38;5;241m=\u001b[39m avg_results[i]\n",
      "File \u001b[0;32m~/cornac/cornac/eval_methods/base_method.py:206\u001b[0m, in \u001b[0;36mranking_eval\u001b[0;34m(model, metrics, train_set, test_set, val_set, rating_threshold, exclude_unknowns, verbose)\u001b[0m\n\u001b[1;32m    203\u001b[0m u_gt_pos_items \u001b[38;5;241m=\u001b[39m np\u001b[38;5;241m.\u001b[39mnonzero(u_gt_pos_mask)[\u001b[38;5;241m0\u001b[39m]\n\u001b[1;32m    204\u001b[0m u_gt_neg_items \u001b[38;5;241m=\u001b[39m np\u001b[38;5;241m.\u001b[39mnonzero(u_gt_neg_mask)[\u001b[38;5;241m0\u001b[39m]\n\u001b[0;32m--> 206\u001b[0m item_rank, item_scores \u001b[38;5;241m=\u001b[39m \u001b[43mmodel\u001b[49m\u001b[38;5;241;43m.\u001b[39;49m\u001b[43mrank\u001b[49m\u001b[43m(\u001b[49m\u001b[43muser_idx\u001b[49m\u001b[43m,\u001b[49m\u001b[43m \u001b[49m\u001b[43mitem_indices\u001b[49m\u001b[43m)\u001b[49m\n\u001b[1;32m    208\u001b[0m \u001b[38;5;28;01mfor\u001b[39;00m i, mt \u001b[38;5;129;01min\u001b[39;00m \u001b[38;5;28menumerate\u001b[39m(metrics):\n\u001b[1;32m    209\u001b[0m     mt_score \u001b[38;5;241m=\u001b[39m mt\u001b[38;5;241m.\u001b[39mcompute(\n\u001b[1;32m    210\u001b[0m         gt_pos\u001b[38;5;241m=\u001b[39mu_gt_pos_items,\n\u001b[1;32m    211\u001b[0m         gt_neg\u001b[38;5;241m=\u001b[39mu_gt_neg_items,\n\u001b[0;32m   (...)\u001b[0m\n\u001b[1;32m    214\u001b[0m         item_indices\u001b[38;5;241m=\u001b[39mitem_indices,\n\u001b[1;32m    215\u001b[0m     )\n",
      "File \u001b[0;32m~/cornac/cornac/models/recommender.py:462\u001b[0m, in \u001b[0;36mRecommender.rank\u001b[0;34m(self, user_idx, item_indices, **kwargs)\u001b[0m\n\u001b[1;32m    460\u001b[0m \u001b[38;5;66;03m# obtain item scores from the model\u001b[39;00m\n\u001b[1;32m    461\u001b[0m \u001b[38;5;28;01mtry\u001b[39;00m:\n\u001b[0;32m--> 462\u001b[0m     known_item_scores \u001b[38;5;241m=\u001b[39m \u001b[38;5;28;43mself\u001b[39;49m\u001b[38;5;241;43m.\u001b[39;49m\u001b[43mscore\u001b[49m\u001b[43m(\u001b[49m\u001b[43muser_idx\u001b[49m\u001b[43m,\u001b[49m\u001b[43m \u001b[49m\u001b[38;5;241;43m*\u001b[39;49m\u001b[38;5;241;43m*\u001b[39;49m\u001b[43mkwargs\u001b[49m\u001b[43m)\u001b[49m\n\u001b[1;32m    463\u001b[0m \u001b[38;5;28;01mexcept\u001b[39;00m ScoreException:\n\u001b[1;32m    464\u001b[0m     known_item_scores \u001b[38;5;241m=\u001b[39m np\u001b[38;5;241m.\u001b[39mones(\u001b[38;5;28mself\u001b[39m\u001b[38;5;241m.\u001b[39mtotal_items) \u001b[38;5;241m*\u001b[39m \u001b[38;5;28mself\u001b[39m\u001b[38;5;241m.\u001b[39mdefault_score()\n",
      "File \u001b[0;32m~/cornac/cornac/models/mf/recom_mf.py:278\u001b[0m, in \u001b[0;36mMF.score\u001b[0;34m(self, user_idx, item_idx)\u001b[0m\n\u001b[1;32m    276\u001b[0m     \u001b[38;5;28;01mif\u001b[39;00m \u001b[38;5;28mself\u001b[39m\u001b[38;5;241m.\u001b[39mknows_user(user_idx):\n\u001b[1;32m    277\u001b[0m         known_item_scores \u001b[38;5;241m+\u001b[39m\u001b[38;5;241m=\u001b[39m \u001b[38;5;28mself\u001b[39m\u001b[38;5;241m.\u001b[39mu_biases[user_idx]\n\u001b[0;32m--> 278\u001b[0m         \u001b[43mfast_dot\u001b[49m\u001b[43m(\u001b[49m\u001b[38;5;28;43mself\u001b[39;49m\u001b[38;5;241;43m.\u001b[39;49m\u001b[43mu_factors\u001b[49m\u001b[43m[\u001b[49m\u001b[43muser_idx\u001b[49m\u001b[43m]\u001b[49m\u001b[43m,\u001b[49m\u001b[43m \u001b[49m\u001b[38;5;28;43mself\u001b[39;49m\u001b[38;5;241;43m.\u001b[39;49m\u001b[43mi_factors\u001b[49m\u001b[43m,\u001b[49m\u001b[43m \u001b[49m\u001b[43mknown_item_scores\u001b[49m\u001b[43m)\u001b[49m\n\u001b[1;32m    279\u001b[0m     \u001b[38;5;28;01mreturn\u001b[39;00m known_item_scores\n\u001b[1;32m    280\u001b[0m \u001b[38;5;28;01melse\u001b[39;00m:\n",
      "\u001b[0;31mKeyboardInterrupt\u001b[0m: "
     ]
    }
   ],
   "source": [
    "data = netflix.load_feedback(variant=\"small\", reader=Reader(bin_threshold=1.0))\n",
    "\n",
    "ratio_split = RatioSplit(\n",
    "    data=data,\n",
    "    test_size=0.1,\n",
    "    rating_threshold=1.0,\n",
    "    exclude_unknowns=True,\n",
    "    verbose=True,\n",
    "    seed=123,\n",
    ")\n",
    "\n",
    "mf = MF(\n",
    "    k=50, \n",
    "    max_iter=25, \n",
    "    learning_rate=0.01, \n",
    "    lambda_reg=0.02, \n",
    "    use_bias=False,\n",
    "    verbose=True,\n",
    "    seed=123,\n",
    ")\n",
    "\n",
    "auc = cornac.metrics.AUC()\n",
    "rec_20 = cornac.metrics.Recall(k=20)\n",
    "\n",
    "cornac.Experiment(\n",
    "    eval_method=ratio_split,\n",
    "    models=[mf],\n",
    "    metrics=[auc, rec_20],\n",
    "    user_based=True,\n",
    ").run()"
   ]
  },
  {
   "cell_type": "markdown",
   "id": "0b6707bc-a63a-4729-8e49-51bafca31723",
   "metadata": {},
   "source": [
    "## Test setting"
   ]
  },
  {
   "cell_type": "code",
   "execution_count": null,
   "id": "46c5f959-f706-4406-85c9-a4acf2ac20c0",
   "metadata": {},
   "outputs": [],
   "source": [
    "K = 20\n",
    "N = 10000\n",
    "test_users = np.random.RandomState(123).choice(mf.user_ids, size=N)"
   ]
  },
  {
   "cell_type": "markdown",
   "id": "68f6350e-ba2c-4112-87f4-efe780ca314f",
   "metadata": {},
   "source": [
    "### Time taken by the base model"
   ]
  },
  {
   "cell_type": "code",
   "execution_count": null,
   "id": "6730a93f-729d-4bea-b5aa-8fb9d9cef867",
   "metadata": {},
   "outputs": [],
   "source": [
    "%%time\n",
    "mf_recs = []\n",
    "for uid in test_users:\n",
    "    mf_recs.append(mf.recommend(uid, k=K))"
   ]
  },
  {
   "cell_type": "code",
   "execution_count": null,
   "id": "9808c778-9513-483f-bc76-87aa63541bbc",
   "metadata": {},
   "outputs": [],
   "source": [
    "def compute_recall(retrieved_neighbors, true_neighbors):\n",
    "    total = 0\n",
    "    for retrieved, true in zip(retrieved_neighbors, true_neighbors):\n",
    "        total += np.intersect1d(retrieved, true).shape[0]\n",
    "    return total / (N * K)"
   ]
  },
  {
   "cell_type": "markdown",
   "id": "7a1ebae2-caeb-4379-8391-1a670fb7e837",
   "metadata": {},
   "source": [
    "## Test performance"
   ]
  },
  {
   "cell_type": "code",
   "execution_count": null,
   "id": "fa280b9d-ec04-41eb-9de2-acfb67fbeb80",
   "metadata": {},
   "outputs": [],
   "source": [
    "import time\n",
    "from cornac.models import FaissANN\n",
    "from cornac.models import HNSWLibANN\n",
    "from cornac.models import ScaNNANN\n",
    "\n",
    "anns = [\n",
    "    FaissANN(model=mf, nlist=100, nprobe=50, use_gpu=False, seed=123, num_threads=-1),\n",
    "    HNSWLibANN(model=mf, M=16, ef_construction=100, ef=50, seed=123, num_threads=-1),\n",
    "    ScaNNANN(\n",
    "        model=mf,\n",
    "        partition_params={\"num_leaves\": 100, \"num_leaves_to_search\": 50},\n",
    "        score_params={\"dimensions_per_block\": 2, \"anisotropic_quantization_threshold\": 0.2}, \n",
    "        rescore_params={\"reordering_num_neighbors\": 100},\n",
    "        seed=123, num_threads=-1,\n",
    "    ),\n",
    "]\n",
    "\n",
    "for ann in anns:\n",
    "    s = time.time()\n",
    "    ann.build_index()\n",
    "    t1 = time.time() - s\n",
    "    \n",
    "    s = time.time()\n",
    "    ann_recs = []\n",
    "    for uid in test_users:\n",
    "        ann_recs.append(ann.recommend(uid, k=K))\n",
    "    t2 = time.time() - s\n",
    "\n",
    "    recall = compute_recall(ann_recs, mf_recs)\n",
    "    print(f\"{ann.name}\\t\\tIndexing={int(t1*1000)}ms\\t\\tRetrieval={int(t2*1000)}ms\\t\\tRecall={recall:.5f}\")"
   ]
  },
  {
   "cell_type": "markdown",
   "id": "daf585e5-f84b-4dc5-99f2-d6a5bd05ede4",
   "metadata": {},
   "source": [
    "## Test save/load"
   ]
  },
  {
   "cell_type": "code",
   "execution_count": null,
   "id": "1fec7413-482b-417b-a12f-362a93aefb85",
   "metadata": {},
   "outputs": [],
   "source": [
    "for ann in anns:\n",
    "    saved_path = ann.save(\"save_dir\")\n",
    "    loaded_ann = ann.load(saved_path)\n",
    "    print(\n",
    "        ann.name, \n",
    "        np.array_equal(\n",
    "            ann.recommend_batch(test_users[:10], k=K), \n",
    "            loaded_ann.recommend_batch(test_users[:10], k=K)\n",
    "        )\n",
    "    ) "
   ]
  },
  {
   "cell_type": "code",
   "execution_count": null,
   "id": "9791a743-5cbe-462c-b3f3-f7909e8476ad",
   "metadata": {},
   "outputs": [],
   "source": []
  }
 ],
 "metadata": {
  "kernelspec": {
   "display_name": "cornac",
   "language": "python",
   "name": "cornac"
  },
  "language_info": {
   "codemirror_mode": {
    "name": "ipython",
    "version": 3
   },
   "file_extension": ".py",
   "mimetype": "text/x-python",
   "name": "python",
   "nbconvert_exporter": "python",
   "pygments_lexer": "ipython3",
   "version": "3.10.13"
  }
 },
 "nbformat": 4,
 "nbformat_minor": 5
}
