{
 "cells": [
  {
   "cell_type": "markdown",
   "id": "c9004b98-e34b-4ce3-bfb3-bb2ddba0f125",
   "metadata": {},
   "source": [
    "*Copyright (c) Cornac Authors. All rights reserved.*\n",
    "\n",
    "*Licensed under the Apache 2.0 License.*\n",
    "\n",
    "# Model Ensembling"
   ]
  },
  {
   "cell_type": "markdown",
   "id": "faed055c",
   "metadata": {},
   "source": [
    "<table class=\"tfo-notebook-buttons\" align=\"left\">\n",
    "  <td>\n",
    "    <a target=\"_blank\" href=\"https://colab.research.google.com/github/PreferredAI/cornac/blob/master/tutorials/model_ensembling.ipynb\"><img src=\"https://www.tensorflow.org/images/colab_logo_32px.png\" />Run in Google Colab</a>\n",
    "  </td>\n",
    "  <td>\n",
    "    <a target=\"_blank\" href=\"https://github.com/PreferredAI/cornac/blob/master/tutorials/model_ensembling.ipynb\"><img src=\"https://www.tensorflow.org/images/GitHub-Mark-32px.png\" />View source on GitHub</a>\n",
    "  </td>\n",
    "</table>"
   ]
  },
  {
   "cell_type": "markdown",
   "id": "9c98761e-37fc-4407-b451-d59a68aecd83",
   "metadata": {},
   "source": [
    "This Jupyter Notebook shows how to combine multiple recommendation models using the Cornac library. Ensembling is a technique where we combine predictions from different models to get more accurate results. By using this method, we can improve the performance of a recommendation system.\n",
    "\n",
    "### What You'll Learn\n",
    "This tutorial is divided into five parts:\n",
    "\n",
    "1. **Introduction**.\n",
    "We’ll start with a simple experiment using the **BPR** and **WMF** models and explore the dataset.\n",
    "2. **Simple Model Ensembling**.\n",
    "Learn how to combine BPR and WMF predictions using a method called **Borda Count**.\n",
    "3. **Further Ensembling**.\n",
    "Create variations of the WMF model and ensemble their predictions.\n",
    "4. **Ensembling with Regression Models**.\n",
    "Use **linear regression** and **random forest regression** from `scikit-learn` to combine WMF models.\n",
    "5. **Further Evaluation**.\n",
    "Evaluate the ensemble models to see how they perform compared to individual models."
   ]
  },
  {
   "cell_type": "markdown",
   "id": "8bd6262f",
   "metadata": {},
   "source": [
    "**Note:** Part of this notebook (in Section 4) uses the `scikit-learn` package. "
   ]
  },
  {
   "cell_type": "markdown",
   "id": "82295d13-46da-4e8e-a052-b420beb969e8",
   "metadata": {},
   "source": [
    "## 1. Introduction\n",
    "<a id='introduction'></a>"
   ]
  },
  {
   "cell_type": "markdown",
   "id": "50e0c21e",
   "metadata": {},
   "source": [
    "In this section, we’ll run a basic experiment with the **BPR** (Bayesian Personalized Ranking) and **WMF** (Weighted Matrix Factorization) models to see how they work. We’ll also look at the dataset to understand its structure and distribution."
   ]
  },
  {
   "cell_type": "markdown",
   "id": "db09b809",
   "metadata": {},
   "source": [
    "### 1.1 Install required dependencies"
   ]
  },
  {
   "cell_type": "code",
   "execution_count": 1,
   "id": "89ef2804",
   "metadata": {},
   "outputs": [
    {
     "name": "stdout",
     "output_type": "stream",
     "text": [
      "\u001b[33mWARNING: Skipping /Users/darrylong/miniconda3/envs/gcmc-pytorch/lib/python3.11/site-packages/docutils-0.18.1.dist-info due to invalid metadata entry 'name'\u001b[0m\u001b[33m\n",
      "\u001b[0m\u001b[33mWARNING: Skipping /Users/darrylong/miniconda3/envs/gcmc-pytorch/lib/python3.11/site-packages/docutils-0.18.1.dist-info due to invalid metadata entry 'name'\u001b[0m\u001b[33m\n",
      "\u001b[0mRequirement already satisfied: cornac==2.2.2 in /Users/darrylong/miniconda3/envs/gcmc-pytorch/lib/python3.11/site-packages (2.2.2)\n",
      "Requirement already satisfied: tensorflow==2.12.0 in /Users/darrylong/miniconda3/envs/gcmc-pytorch/lib/python3.11/site-packages (2.12.0)\n",
      "Requirement already satisfied: scikit-learn in /Users/darrylong/miniconda3/envs/gcmc-pytorch/lib/python3.11/site-packages (1.5.1)\n",
      "Requirement already satisfied: numpy<2.0.0 in /Users/darrylong/miniconda3/envs/gcmc-pytorch/lib/python3.11/site-packages (from cornac==2.2.2) (1.23.5)\n",
      "Requirement already satisfied: scipy<=1.13.1 in /Users/darrylong/miniconda3/envs/gcmc-pytorch/lib/python3.11/site-packages (from cornac==2.2.2) (1.10.1)\n",
      "Requirement already satisfied: tqdm in /Users/darrylong/miniconda3/envs/gcmc-pytorch/lib/python3.11/site-packages (from cornac==2.2.2) (4.65.0)\n",
      "Requirement already satisfied: powerlaw in /Users/darrylong/miniconda3/envs/gcmc-pytorch/lib/python3.11/site-packages/powerlaw-1.5-py3.11.egg (from cornac==2.2.2) (1.5)\n",
      "Requirement already satisfied: absl-py>=1.0.0 in /Users/darrylong/miniconda3/envs/gcmc-pytorch/lib/python3.11/site-packages (from tensorflow==2.12.0) (2.1.0)\n",
      "Requirement already satisfied: astunparse>=1.6.0 in /Users/darrylong/miniconda3/envs/gcmc-pytorch/lib/python3.11/site-packages (from tensorflow==2.12.0) (1.6.3)\n",
      "Requirement already satisfied: flatbuffers>=2.0 in /Users/darrylong/miniconda3/envs/gcmc-pytorch/lib/python3.11/site-packages (from tensorflow==2.12.0) (24.3.25)\n",
      "Requirement already satisfied: gast<=0.4.0,>=0.2.1 in /Users/darrylong/miniconda3/envs/gcmc-pytorch/lib/python3.11/site-packages (from tensorflow==2.12.0) (0.4.0)\n",
      "Requirement already satisfied: google-pasta>=0.1.1 in /Users/darrylong/miniconda3/envs/gcmc-pytorch/lib/python3.11/site-packages (from tensorflow==2.12.0) (0.2.0)\n",
      "Requirement already satisfied: h5py>=2.9.0 in /Users/darrylong/miniconda3/envs/gcmc-pytorch/lib/python3.11/site-packages (from tensorflow==2.12.0) (3.11.0)\n",
      "Requirement already satisfied: jax>=0.3.15 in /Users/darrylong/miniconda3/envs/gcmc-pytorch/lib/python3.11/site-packages (from tensorflow==2.12.0) (0.4.30)\n",
      "Requirement already satisfied: libclang>=13.0.0 in /Users/darrylong/miniconda3/envs/gcmc-pytorch/lib/python3.11/site-packages (from tensorflow==2.12.0) (18.1.1)\n",
      "Requirement already satisfied: opt-einsum>=2.3.2 in /Users/darrylong/miniconda3/envs/gcmc-pytorch/lib/python3.11/site-packages (from tensorflow==2.12.0) (3.3.0)\n",
      "Requirement already satisfied: packaging in /Users/darrylong/miniconda3/envs/gcmc-pytorch/lib/python3.11/site-packages/packaging-23.1-py3.11.egg (from tensorflow==2.12.0) (23.1)\n",
      "Requirement already satisfied: protobuf!=4.21.0,!=4.21.1,!=4.21.2,!=4.21.3,!=4.21.4,!=4.21.5,<5.0.0dev,>=3.20.3 in /Users/darrylong/miniconda3/envs/gcmc-pytorch/lib/python3.11/site-packages (from tensorflow==2.12.0) (4.25.3)\n",
      "Requirement already satisfied: setuptools in /Users/darrylong/miniconda3/envs/gcmc-pytorch/lib/python3.11/site-packages (from tensorflow==2.12.0) (67.8.0)\n",
      "Requirement already satisfied: six>=1.12.0 in /Users/darrylong/miniconda3/envs/gcmc-pytorch/lib/python3.11/site-packages/six-1.16.0-py3.11.egg (from tensorflow==2.12.0) (1.16.0)\n",
      "Requirement already satisfied: termcolor>=1.1.0 in /Users/darrylong/miniconda3/envs/gcmc-pytorch/lib/python3.11/site-packages (from tensorflow==2.12.0) (2.4.0)\n",
      "Requirement already satisfied: typing-extensions>=3.6.6 in /Users/darrylong/miniconda3/envs/gcmc-pytorch/lib/python3.11/site-packages (from tensorflow==2.12.0) (4.12.2)\n",
      "Requirement already satisfied: wrapt<1.15,>=1.11.0 in /Users/darrylong/miniconda3/envs/gcmc-pytorch/lib/python3.11/site-packages (from tensorflow==2.12.0) (1.14.1)\n",
      "Requirement already satisfied: grpcio<2.0,>=1.24.3 in /Users/darrylong/miniconda3/envs/gcmc-pytorch/lib/python3.11/site-packages (from tensorflow==2.12.0) (1.65.1)\n",
      "Requirement already satisfied: tensorboard<2.13,>=2.12 in /Users/darrylong/miniconda3/envs/gcmc-pytorch/lib/python3.11/site-packages (from tensorflow==2.12.0) (2.12.3)\n",
      "Requirement already satisfied: tensorflow-estimator<2.13,>=2.12.0 in /Users/darrylong/miniconda3/envs/gcmc-pytorch/lib/python3.11/site-packages (from tensorflow==2.12.0) (2.12.0)\n",
      "Requirement already satisfied: keras<2.13,>=2.12.0 in /Users/darrylong/miniconda3/envs/gcmc-pytorch/lib/python3.11/site-packages (from tensorflow==2.12.0) (2.12.0)\n",
      "Requirement already satisfied: tensorflow-io-gcs-filesystem>=0.23.1 in /Users/darrylong/miniconda3/envs/gcmc-pytorch/lib/python3.11/site-packages (from tensorflow==2.12.0) (0.37.1)\n",
      "Requirement already satisfied: joblib>=1.2.0 in /Users/darrylong/miniconda3/envs/gcmc-pytorch/lib/python3.11/site-packages (from scikit-learn) (1.4.2)\n",
      "Requirement already satisfied: threadpoolctl>=3.1.0 in /Users/darrylong/miniconda3/envs/gcmc-pytorch/lib/python3.11/site-packages (from scikit-learn) (3.5.0)\n",
      "Requirement already satisfied: wheel<1.0,>=0.23.0 in /Users/darrylong/miniconda3/envs/gcmc-pytorch/lib/python3.11/site-packages (from astunparse>=1.6.0->tensorflow==2.12.0) (0.38.4)\n",
      "Requirement already satisfied: jaxlib<=0.4.30,>=0.4.27 in /Users/darrylong/miniconda3/envs/gcmc-pytorch/lib/python3.11/site-packages (from jax>=0.3.15->tensorflow==2.12.0) (0.4.30)\n",
      "Requirement already satisfied: ml-dtypes>=0.2.0 in /Users/darrylong/miniconda3/envs/gcmc-pytorch/lib/python3.11/site-packages (from jax>=0.3.15->tensorflow==2.12.0) (0.3.2)\n",
      "Requirement already satisfied: google-auth<3,>=1.6.3 in /Users/darrylong/miniconda3/envs/gcmc-pytorch/lib/python3.11/site-packages (from tensorboard<2.13,>=2.12->tensorflow==2.12.0) (2.35.0)\n",
      "Requirement already satisfied: google-auth-oauthlib<1.1,>=0.5 in /Users/darrylong/miniconda3/envs/gcmc-pytorch/lib/python3.11/site-packages (from tensorboard<2.13,>=2.12->tensorflow==2.12.0) (1.0.0)\n",
      "Requirement already satisfied: markdown>=2.6.8 in /Users/darrylong/miniconda3/envs/gcmc-pytorch/lib/python3.11/site-packages (from tensorboard<2.13,>=2.12->tensorflow==2.12.0) (3.6)\n",
      "Requirement already satisfied: requests<3,>=2.21.0 in /Users/darrylong/miniconda3/envs/gcmc-pytorch/lib/python3.11/site-packages (from tensorboard<2.13,>=2.12->tensorflow==2.12.0) (2.31.0)\n",
      "Requirement already satisfied: tensorboard-data-server<0.8.0,>=0.7.0 in /Users/darrylong/miniconda3/envs/gcmc-pytorch/lib/python3.11/site-packages (from tensorboard<2.13,>=2.12->tensorflow==2.12.0) (0.7.2)\n",
      "Requirement already satisfied: werkzeug>=1.0.1 in /Users/darrylong/miniconda3/envs/gcmc-pytorch/lib/python3.11/site-packages (from tensorboard<2.13,>=2.12->tensorflow==2.12.0) (3.0.1)\n",
      "Requirement already satisfied: matplotlib in /Users/darrylong/miniconda3/envs/gcmc-pytorch/lib/python3.11/site-packages/matplotlib-3.7.1-py3.11-macosx-10.9-x86_64.egg (from powerlaw->cornac==2.2.2) (3.7.1)\n",
      "Requirement already satisfied: mpmath in /Users/darrylong/miniconda3/envs/gcmc-pytorch/lib/python3.11/site-packages (from powerlaw->cornac==2.2.2) (1.3.0)\n",
      "Requirement already satisfied: cachetools<6.0,>=2.0.0 in /Users/darrylong/miniconda3/envs/gcmc-pytorch/lib/python3.11/site-packages (from google-auth<3,>=1.6.3->tensorboard<2.13,>=2.12->tensorflow==2.12.0) (5.5.0)\n",
      "Requirement already satisfied: pyasn1-modules>=0.2.1 in /Users/darrylong/miniconda3/envs/gcmc-pytorch/lib/python3.11/site-packages (from google-auth<3,>=1.6.3->tensorboard<2.13,>=2.12->tensorflow==2.12.0) (0.4.1)\n",
      "Requirement already satisfied: rsa<5,>=3.1.4 in /Users/darrylong/miniconda3/envs/gcmc-pytorch/lib/python3.11/site-packages (from google-auth<3,>=1.6.3->tensorboard<2.13,>=2.12->tensorflow==2.12.0) (4.9)\n",
      "Requirement already satisfied: requests-oauthlib>=0.7.0 in /Users/darrylong/miniconda3/envs/gcmc-pytorch/lib/python3.11/site-packages (from google-auth-oauthlib<1.1,>=0.5->tensorboard<2.13,>=2.12->tensorflow==2.12.0) (2.0.0)\n",
      "Requirement already satisfied: charset-normalizer<4,>=2 in /Users/darrylong/miniconda3/envs/gcmc-pytorch/lib/python3.11/site-packages (from requests<3,>=2.21.0->tensorboard<2.13,>=2.12->tensorflow==2.12.0) (2.0.4)\n",
      "Requirement already satisfied: idna<4,>=2.5 in /Users/darrylong/miniconda3/envs/gcmc-pytorch/lib/python3.11/site-packages (from requests<3,>=2.21.0->tensorboard<2.13,>=2.12->tensorflow==2.12.0) (3.4)\n",
      "Requirement already satisfied: urllib3<3,>=1.21.1 in /Users/darrylong/miniconda3/envs/gcmc-pytorch/lib/python3.11/site-packages (from requests<3,>=2.21.0->tensorboard<2.13,>=2.12->tensorflow==2.12.0) (2.0.2)\n",
      "Requirement already satisfied: certifi>=2017.4.17 in /Users/darrylong/miniconda3/envs/gcmc-pytorch/lib/python3.11/site-packages (from requests<3,>=2.21.0->tensorboard<2.13,>=2.12->tensorflow==2.12.0) (2023.5.7)\n",
      "Requirement already satisfied: MarkupSafe>=2.1.1 in /Users/darrylong/miniconda3/envs/gcmc-pytorch/lib/python3.11/site-packages (from werkzeug>=1.0.1->tensorboard<2.13,>=2.12->tensorflow==2.12.0) (2.1.1)\n",
      "Requirement already satisfied: contourpy>=1.0.1 in /Users/darrylong/miniconda3/envs/gcmc-pytorch/lib/python3.11/site-packages/contourpy-1.1.0-py3.11-macosx-10.9-x86_64.egg (from matplotlib->powerlaw->cornac==2.2.2) (1.1.0)\n",
      "Requirement already satisfied: cycler>=0.10 in /Users/darrylong/miniconda3/envs/gcmc-pytorch/lib/python3.11/site-packages/cycler-0.11.0-py3.11.egg (from matplotlib->powerlaw->cornac==2.2.2) (0.11.0)\n",
      "Requirement already satisfied: fonttools>=4.22.0 in /Users/darrylong/miniconda3/envs/gcmc-pytorch/lib/python3.11/site-packages/fonttools-4.40.0-py3.11.egg (from matplotlib->powerlaw->cornac==2.2.2) (4.40.0)\n",
      "Requirement already satisfied: kiwisolver>=1.0.1 in /Users/darrylong/miniconda3/envs/gcmc-pytorch/lib/python3.11/site-packages/kiwisolver-1.4.4-py3.11-macosx-10.9-x86_64.egg (from matplotlib->powerlaw->cornac==2.2.2) (1.4.4)\n",
      "Requirement already satisfied: pillow>=6.2.0 in /Users/darrylong/miniconda3/envs/gcmc-pytorch/lib/python3.11/site-packages/Pillow-9.5.0-py3.11-macosx-10.9-x86_64.egg (from matplotlib->powerlaw->cornac==2.2.2) (9.5.0)\n",
      "Requirement already satisfied: pyparsing>=2.3.1 in /Users/darrylong/miniconda3/envs/gcmc-pytorch/lib/python3.11/site-packages/pyparsing-3.1.0-py3.11.egg (from matplotlib->powerlaw->cornac==2.2.2) (3.1.0)\n",
      "Requirement already satisfied: python-dateutil>=2.7 in /Users/darrylong/miniconda3/envs/gcmc-pytorch/lib/python3.11/site-packages/python_dateutil-2.8.2-py3.11.egg (from matplotlib->powerlaw->cornac==2.2.2) (2.8.2)\n",
      "Requirement already satisfied: pyasn1<0.7.0,>=0.4.6 in /Users/darrylong/miniconda3/envs/gcmc-pytorch/lib/python3.11/site-packages (from pyasn1-modules>=0.2.1->google-auth<3,>=1.6.3->tensorboard<2.13,>=2.12->tensorflow==2.12.0) (0.6.1)\n",
      "Requirement already satisfied: oauthlib>=3.0.0 in /Users/darrylong/miniconda3/envs/gcmc-pytorch/lib/python3.11/site-packages (from requests-oauthlib>=0.7.0->google-auth-oauthlib<1.1,>=0.5->tensorboard<2.13,>=2.12->tensorflow==2.12.0) (3.2.2)\n",
      "\u001b[33mWARNING: Skipping /Users/darrylong/miniconda3/envs/gcmc-pytorch/lib/python3.11/site-packages/docutils-0.18.1.dist-info due to invalid metadata entry 'name'\u001b[0m\u001b[33m\n",
      "\u001b[0m\u001b[33mWARNING: Skipping /Users/darrylong/miniconda3/envs/gcmc-pytorch/lib/python3.11/site-packages/docutils-0.18.1.dist-info due to invalid metadata entry 'name'\u001b[0m\u001b[33m\n",
      "\u001b[0m"
     ]
    }
   ],
   "source": [
    "# Install cornac, tensorflow (required for WMF) and scikit-learn\n",
    "! pip install cornac==2.2.2 tensorflow==2.12.0 scikit-learn"
   ]
  },
  {
   "cell_type": "code",
   "execution_count": 2,
   "id": "bd266ee7",
   "metadata": {},
   "outputs": [
    {
     "name": "stderr",
     "output_type": "stream",
     "text": [
      "/Users/darrylong/miniconda3/envs/gcmc-pytorch/lib/python3.11/site-packages/tqdm/auto.py:21: TqdmWarning: IProgress not found. Please update jupyter and ipywidgets. See https://ipywidgets.readthedocs.io/en/stable/user_install.html\n",
      "  from .autonotebook import tqdm as notebook_tqdm\n"
     ]
    }
   ],
   "source": [
    "# Import necessary libraries and functions\n",
    "from IPython.display import display\n",
    "import numpy as np\n",
    "import pandas as pd\n",
    "from tqdm import tqdm\n",
    "\n",
    "from cornac.datasets import movielens\n",
    "from cornac.models import BPR, WMF\n",
    "from cornac.eval_methods import RatioSplit\n",
    "from cornac.metrics import Precision, Recall\n",
    "from cornac.utils import cache\n",
    "from cornac import Experiment\n",
    "\n",
    "from sklearn import linear_model\n",
    "from sklearn.ensemble import RandomForestRegressor"
   ]
  },
  {
   "cell_type": "markdown",
   "id": "c5636df0-91c3-4b73-8c60-26d75b9bd6f6",
   "metadata": {},
   "source": [
    "### 1.2 Loading Dataset\n",
    "\n",
    "First, we load the **MovieLens 100K** dataset."
   ]
  },
  {
   "cell_type": "code",
   "execution_count": 3,
   "id": "92a57076",
   "metadata": {},
   "outputs": [
    {
     "name": "stdout",
     "output_type": "stream",
     "text": [
      "rating_threshold = 4.0\n",
      "exclude_unknowns = True\n",
      "---\n",
      "Training data:\n",
      "Number of users = 943\n",
      "Number of items = 1651\n",
      "Number of ratings = 80000\n",
      "Max rating = 5.0\n",
      "Min rating = 1.0\n",
      "Global mean = 3.5\n",
      "---\n",
      "Test data:\n",
      "Number of users = 943\n",
      "Number of items = 1651\n",
      "Number of ratings = 19964\n",
      "Number of unknown users = 0\n",
      "Number of unknown items = 0\n",
      "---\n",
      "Total users = 943\n",
      "Total items = 1651\n"
     ]
    }
   ],
   "source": [
    "data = movielens.load_feedback(variant=\"100K\") # Load MovieLens Dataset\n",
    "\n",
    "rs = RatioSplit(data, test_size=0.2, rating_threshold=4.0, seed=42, verbose=True) # Split to train-test set to 80-20\n",
    "train_set, test_set = rs.train_set, rs.test_set"
   ]
  },
  {
   "cell_type": "markdown",
   "id": "2d37011e-1384-42cb-8ea0-4667784f952a",
   "metadata": {},
   "source": [
    "### 1.3 Training BPR and WMF models\n",
    "\n",
    "We will train two models: \n",
    "\n",
    "1. **BPR (Bayesian Personalized Ranking)**\n",
    "2. **WMF (Weighted Matrix Factorization)**"
   ]
  },
  {
   "cell_type": "code",
   "execution_count": 4,
   "id": "ea466b90",
   "metadata": {},
   "outputs": [
    {
     "name": "stdout",
     "output_type": "stream",
     "text": [
      "\n",
      "[BPR] Training started!\n",
      "\n",
      "[BPR] Evaluation started!\n"
     ]
    },
    {
     "name": "stderr",
     "output_type": "stream",
     "text": [
      "Ranking: 100%|██████████| 940/940 [00:00<00:00, 2667.90it/s]\n"
     ]
    },
    {
     "name": "stdout",
     "output_type": "stream",
     "text": [
      "\n",
      "[WMF] Training started!\n"
     ]
    },
    {
     "name": "stderr",
     "output_type": "stream",
     "text": [
      "100%|██████████| 300/300 [00:34<00:00,  8.78it/s, loss=173]\n"
     ]
    },
    {
     "name": "stdout",
     "output_type": "stream",
     "text": [
      "Learning completed!\n",
      "\n",
      "[WMF] Evaluation started!\n"
     ]
    },
    {
     "name": "stderr",
     "output_type": "stream",
     "text": [
      "Ranking: 100%|██████████| 940/940 [00:01<00:00, 838.15it/s]\n"
     ]
    },
    {
     "name": "stdout",
     "output_type": "stream",
     "text": [
      "\n",
      "TEST:\n",
      "...\n",
      "    | Precision@50 | Recall@50 | Train (s) | Test (s)\n",
      "--- + ------------ + --------- + --------- + --------\n",
      "BPR |       0.0985 |    0.4922 |    3.3865 |   0.3619\n",
      "WMF |       0.1133 |    0.5583 |  457.1005 |   1.1311\n",
      "\n"
     ]
    }
   ],
   "source": [
    "bpr_model = BPR(k=10, max_iter=100, learning_rate=0.01, lambda_reg=0.001, seed=123) # Initialize BPR model\n",
    "wmf_model = WMF(k=10, max_iter=300, a=1.0, b=0.1, learning_rate=0.001, lambda_u=0.01, lambda_v=0.01, seed=123) # Initialize WMF model\n",
    "\n",
    "models = [bpr_model, wmf_model]\n",
    "metrics = [Precision(k=50), Recall(k=50)] # Set metrics for experiment\n",
    "\n",
    "experiment = Experiment(rs, models, metrics, user_based=True).run() # Run Experiment to compare BPR model to WMF model individually"
   ]
  },
  {
   "cell_type": "markdown",
   "id": "a6d915d7",
   "metadata": {},
   "source": [
    "Comparing **Precision** and **Recall**, both **BPR** and **WMF** are providing comparable results.\n",
    "\n",
    "Let's move on to try to interpret these results by using the genres of movies that were recommended to us."
   ]
  },
  {
   "cell_type": "markdown",
   "id": "0fcc4831",
   "metadata": {},
   "source": [
    "### 1.4 Interpreting Results"
   ]
  },
  {
   "cell_type": "markdown",
   "id": "0be074f7",
   "metadata": {},
   "source": [
    "##### 1.4.1 Creating a Movie Genre Dataframe"
   ]
  },
  {
   "cell_type": "code",
   "execution_count": 5,
   "id": "6687eea0",
   "metadata": {},
   "outputs": [
    {
     "data": {
      "text/html": [
       "<div>\n",
       "<style scoped>\n",
       "    .dataframe tbody tr th:only-of-type {\n",
       "        vertical-align: middle;\n",
       "    }\n",
       "\n",
       "    .dataframe tbody tr th {\n",
       "        vertical-align: top;\n",
       "    }\n",
       "\n",
       "    .dataframe thead th {\n",
       "        text-align: right;\n",
       "    }\n",
       "</style>\n",
       "<table border=\"1\" class=\"dataframe\">\n",
       "  <thead>\n",
       "    <tr style=\"text-align: right;\">\n",
       "      <th></th>\n",
       "      <th>Title</th>\n",
       "      <th>Release Date</th>\n",
       "      <th>Action</th>\n",
       "      <th>Adventure</th>\n",
       "      <th>Animation</th>\n",
       "      <th>Children's</th>\n",
       "      <th>Comedy</th>\n",
       "      <th>Crime</th>\n",
       "      <th>Documentary</th>\n",
       "      <th>Drama</th>\n",
       "      <th>Fantasy</th>\n",
       "      <th>Film-Noir</th>\n",
       "      <th>Horror</th>\n",
       "      <th>Musical</th>\n",
       "      <th>Mystery</th>\n",
       "      <th>Romance</th>\n",
       "      <th>Sci-Fi</th>\n",
       "      <th>Thriller</th>\n",
       "      <th>War</th>\n",
       "      <th>Western</th>\n",
       "    </tr>\n",
       "    <tr>\n",
       "      <th>ItemID</th>\n",
       "      <th></th>\n",
       "      <th></th>\n",
       "      <th></th>\n",
       "      <th></th>\n",
       "      <th></th>\n",
       "      <th></th>\n",
       "      <th></th>\n",
       "      <th></th>\n",
       "      <th></th>\n",
       "      <th></th>\n",
       "      <th></th>\n",
       "      <th></th>\n",
       "      <th></th>\n",
       "      <th></th>\n",
       "      <th></th>\n",
       "      <th></th>\n",
       "      <th></th>\n",
       "      <th></th>\n",
       "      <th></th>\n",
       "      <th></th>\n",
       "    </tr>\n",
       "  </thead>\n",
       "  <tbody>\n",
       "    <tr>\n",
       "      <th>1</th>\n",
       "      <td>Toy Story (1995)</td>\n",
       "      <td>01-Jan-1995</td>\n",
       "      <td>0</td>\n",
       "      <td>0</td>\n",
       "      <td>1</td>\n",
       "      <td>1</td>\n",
       "      <td>1</td>\n",
       "      <td>0</td>\n",
       "      <td>0</td>\n",
       "      <td>0</td>\n",
       "      <td>0</td>\n",
       "      <td>0</td>\n",
       "      <td>0</td>\n",
       "      <td>0</td>\n",
       "      <td>0</td>\n",
       "      <td>0</td>\n",
       "      <td>0</td>\n",
       "      <td>0</td>\n",
       "      <td>0</td>\n",
       "      <td>0</td>\n",
       "    </tr>\n",
       "    <tr>\n",
       "      <th>2</th>\n",
       "      <td>GoldenEye (1995)</td>\n",
       "      <td>01-Jan-1995</td>\n",
       "      <td>1</td>\n",
       "      <td>1</td>\n",
       "      <td>0</td>\n",
       "      <td>0</td>\n",
       "      <td>0</td>\n",
       "      <td>0</td>\n",
       "      <td>0</td>\n",
       "      <td>0</td>\n",
       "      <td>0</td>\n",
       "      <td>0</td>\n",
       "      <td>0</td>\n",
       "      <td>0</td>\n",
       "      <td>0</td>\n",
       "      <td>0</td>\n",
       "      <td>0</td>\n",
       "      <td>1</td>\n",
       "      <td>0</td>\n",
       "      <td>0</td>\n",
       "    </tr>\n",
       "    <tr>\n",
       "      <th>3</th>\n",
       "      <td>Four Rooms (1995)</td>\n",
       "      <td>01-Jan-1995</td>\n",
       "      <td>0</td>\n",
       "      <td>0</td>\n",
       "      <td>0</td>\n",
       "      <td>0</td>\n",
       "      <td>0</td>\n",
       "      <td>0</td>\n",
       "      <td>0</td>\n",
       "      <td>0</td>\n",
       "      <td>0</td>\n",
       "      <td>0</td>\n",
       "      <td>0</td>\n",
       "      <td>0</td>\n",
       "      <td>0</td>\n",
       "      <td>0</td>\n",
       "      <td>0</td>\n",
       "      <td>1</td>\n",
       "      <td>0</td>\n",
       "      <td>0</td>\n",
       "    </tr>\n",
       "  </tbody>\n",
       "</table>\n",
       "</div>"
      ],
      "text/plain": [
       "                    Title Release Date  Action  Adventure  Animation  \\\n",
       "ItemID                                                                 \n",
       "1        Toy Story (1995)  01-Jan-1995       0          0          1   \n",
       "2        GoldenEye (1995)  01-Jan-1995       1          1          0   \n",
       "3       Four Rooms (1995)  01-Jan-1995       0          0          0   \n",
       "\n",
       "        Children's  Comedy  Crime  Documentary  Drama  Fantasy  Film-Noir  \\\n",
       "ItemID                                                                      \n",
       "1                1       1      0            0      0        0          0   \n",
       "2                0       0      0            0      0        0          0   \n",
       "3                0       0      0            0      0        0          0   \n",
       "\n",
       "        Horror  Musical  Mystery  Romance  Sci-Fi  Thriller  War  Western  \n",
       "ItemID                                                                     \n",
       "1            0        0        0        0       0         0    0        0  \n",
       "2            0        0        0        0       0         1    0        0  \n",
       "3            0        0        0        0       0         1    0        0  "
      ]
     },
     "metadata": {},
     "output_type": "display_data"
    }
   ],
   "source": [
    "# Creating a dataframe of movies with its corresponding genres\n",
    "\n",
    "# Download some information of MovieLens 100K dataset\n",
    "item_df = pd.read_csv(\n",
    "  cache(\"http://files.grouplens.org/datasets/movielens/ml-100k/u.item\"), \n",
    "  sep=\"|\", encoding=\"ISO-8859-1\",\n",
    "  names=[\"ItemID\", \"Title\", \"Release Date\", \"Video Release Date\", \"IMDb URL\", \n",
    "         \"unknown\", \"Action\", \"Adventure\", \"Animation\", \"Children's\", \"Comedy\", \n",
    "         \"Crime\", \"Documentary\", \"Drama\", \"Fantasy\", \"Film-Noir\", \"Horror\", \n",
    "         \"Musical\", \"Mystery\", \"Romance\", \"Sci-Fi\", \"Thriller\", \"War\", \"Western\"]\n",
    ").set_index(\"ItemID\").drop(columns=[\"Video Release Date\", \"IMDb URL\", \"unknown\"])\n",
    "\n",
    "item_idx2id = train_set.item_ids # mapping between item index and origial film ID \n",
    "user_idx2id = train_set.user_ids # mapping between user index and origial user ID\n",
    "\n",
    "# Let's take a look at an example of this dataframe\n",
    "display(item_df.head(3))"
   ]
  },
  {
   "cell_type": "markdown",
   "id": "0a26d684",
   "metadata": {},
   "source": [
    "The `item_df` dataframe consists of all movie items with its corresponding genre attributes.\n",
    "\n",
    "Further down below, we are going to filter this table with the recommendations that we get from the recommender system models we created to get a better sense."
   ]
  },
  {
   "cell_type": "markdown",
   "id": "b476a6f8",
   "metadata": {},
   "source": [
    "##### 1.4.2 Creating Training Data Dataframe\n",
    "\n",
    "To get a sense of what data has been inserted into our model for training, let's count the genres of the training data used to train the model.\n",
    "\n",
    "But first, let's create a `training_data_df` dataframe with all training data.\n",
    "\n",
    "The training data consists of 80000 triplets of **User Index**, **Item Index** and **Rating** rows as seen in the dataset summary in Section 2.1."
   ]
  },
  {
   "cell_type": "code",
   "execution_count": 6,
   "id": "139fc938",
   "metadata": {},
   "outputs": [
    {
     "name": "stdout",
     "output_type": "stream",
     "text": [
      "Sample row of record:\n",
      "(user_index, item_index, rating): (0, 0, 4.0)\n"
     ]
    }
   ],
   "source": [
    "# Let's view a sample of the training data dataframe\n",
    "print(\"Sample row of record:\")\n",
    "print(\"(user_index, item_index, rating):\", list(zip(*train_set.uir_tuple))[0])\n",
    "\n",
    "# Create a training data dataframe\n",
    "training_data_df = pd.DataFrame(zip(*train_set.uir_tuple)) # adding all training data into dataframe\n",
    "training_data_df.columns = ['user_idx', 'item_idx', 'rating'] # adding column names to the data\n",
    "\n",
    "# Add new column, 'item_id', for further filtering in later sections\n",
    "training_data_df['item_id'] = training_data_df.apply(lambda row: item_idx2id[int(row['item_idx'])], axis=1) # converted from the item index field"
   ]
  },
  {
   "cell_type": "markdown",
   "id": "2a2f5733",
   "metadata": {},
   "source": [
    "##### 1.4.3 Filtering Training Data\n",
    "\n",
    "Let's filter based on a particular user to learn more about the user.\n",
    "\n",
    "We set ``UIDX`` to user index **3**, and ``TOPK`` to **50**, to get the top 50 recommendations in each model for comparison."
   ]
  },
  {
   "cell_type": "code",
   "execution_count": 7,
   "id": "3c91c6ae",
   "metadata": {},
   "outputs": [
    {
     "name": "stdout",
     "output_type": "stream",
     "text": [
      "Number of movies: 250\n",
      "Positively rated movies by user index 3 in training data\n"
     ]
    },
    {
     "data": {
      "text/html": [
       "<div>\n",
       "<style scoped>\n",
       "    .dataframe tbody tr th:only-of-type {\n",
       "        vertical-align: middle;\n",
       "    }\n",
       "\n",
       "    .dataframe tbody tr th {\n",
       "        vertical-align: top;\n",
       "    }\n",
       "\n",
       "    .dataframe thead th {\n",
       "        text-align: right;\n",
       "    }\n",
       "</style>\n",
       "<table border=\"1\" class=\"dataframe\">\n",
       "  <thead>\n",
       "    <tr style=\"text-align: right;\">\n",
       "      <th></th>\n",
       "      <th>Sum</th>\n",
       "      <th>%</th>\n",
       "    </tr>\n",
       "  </thead>\n",
       "  <tbody>\n",
       "    <tr>\n",
       "      <th>Drama</th>\n",
       "      <td>117</td>\n",
       "      <td>22.6</td>\n",
       "    </tr>\n",
       "    <tr>\n",
       "      <th>Comedy</th>\n",
       "      <td>72</td>\n",
       "      <td>13.9</td>\n",
       "    </tr>\n",
       "    <tr>\n",
       "      <th>Romance</th>\n",
       "      <td>56</td>\n",
       "      <td>10.8</td>\n",
       "    </tr>\n",
       "    <tr>\n",
       "      <th>Action</th>\n",
       "      <td>55</td>\n",
       "      <td>10.6</td>\n",
       "    </tr>\n",
       "    <tr>\n",
       "      <th>Thriller</th>\n",
       "      <td>50</td>\n",
       "      <td>9.7</td>\n",
       "    </tr>\n",
       "    <tr>\n",
       "      <th>Adventure</th>\n",
       "      <td>36</td>\n",
       "      <td>6.9</td>\n",
       "    </tr>\n",
       "    <tr>\n",
       "      <th>Children's</th>\n",
       "      <td>23</td>\n",
       "      <td>4.4</td>\n",
       "    </tr>\n",
       "    <tr>\n",
       "      <th>War</th>\n",
       "      <td>20</td>\n",
       "      <td>3.9</td>\n",
       "    </tr>\n",
       "    <tr>\n",
       "      <th>Crime</th>\n",
       "      <td>20</td>\n",
       "      <td>3.9</td>\n",
       "    </tr>\n",
       "    <tr>\n",
       "      <th>Sci-Fi</th>\n",
       "      <td>18</td>\n",
       "      <td>3.5</td>\n",
       "    </tr>\n",
       "  </tbody>\n",
       "</table>\n",
       "</div>"
      ],
      "text/plain": [
       "            Sum     %\n",
       "Drama       117  22.6\n",
       "Comedy       72  13.9\n",
       "Romance      56  10.8\n",
       "Action       55  10.6\n",
       "Thriller     50   9.7\n",
       "Adventure    36   6.9\n",
       "Children's   23   4.4\n",
       "War          20   3.9\n",
       "Crime        20   3.9\n",
       "Sci-Fi       18   3.5"
      ]
     },
     "metadata": {},
     "output_type": "display_data"
    }
   ],
   "source": [
    "# Let's define the user index and top-k movies to be recommended\n",
    "UIDX = 3\n",
    "TOPK = 50\n",
    "\n",
    "# Positively rated items by a user (rating >= 4.0 as rating_threshold used earlier, and user index = UIDX)\n",
    "positively_rated_items = training_data_df[\n",
    "    (training_data_df['rating'] >= 4.0) & (training_data_df['user_idx'] == UIDX)\n",
    "]['item_id'].unique()\n",
    "filter_df = item_df.loc[[int(item_id) for item_id in positively_rated_items]] # get genres of movie items\n",
    "\n",
    "print(\"Number of movies:\", len(filter_df)) # Number of movies positvely rated by user index 3 in training data\n",
    "\n",
    "# Group by Movie Genre and Sum by genres\n",
    "filter_df = filter_df.select_dtypes(np.number).sum() \n",
    "filter_df = filter_df.to_frame(\"Sum\") # Let's call that column 'Sum'\n",
    "\n",
    "# Add a new column '%' for the percentage of individual genre sum compared to total sum\n",
    "filter_df[\"%\"] = filter_df[\"Sum\"] / filter_df[\"Sum\"].sum() * 100\n",
    "filter_df[\"%\"] = filter_df[\"%\"].round(1)\n",
    "\n",
    "# Let's see the training data genres, sums and percentages\n",
    "print(\"Positively rated movies by user index 3 in training data\")\n",
    "display(filter_df.sort_values(\"Sum\", ascending=False)[:10])"
   ]
  },
  {
   "cell_type": "markdown",
   "id": "d700c1c1",
   "metadata": {},
   "source": [
    "As shown above in the training data, the top genres for user index 3 with positively rated movies include 'Drama', 'Comedy', 'Romance', 'Action' and 'Thriller'.\n",
    "\n",
    "Let's now compare them to the recommendations of the BPR and WMF models respectively."
   ]
  },
  {
   "cell_type": "markdown",
   "id": "d242944c",
   "metadata": {},
   "source": [
    "##### 1.4.4 Interpreting Recommendations of BPR, WMF Models"
   ]
  },
  {
   "cell_type": "code",
   "execution_count": 9,
   "id": "72759171",
   "metadata": {},
   "outputs": [
    {
     "name": "stdout",
     "output_type": "stream",
     "text": [
      "\n",
      "Top 5 Genres in training data: ['Drama', 'Comedy', 'Romance', 'Action', 'Thriller']\n"
     ]
    },
    {
     "data": {
      "text/plain": [
       "'BPR: Top recommendations'"
      ]
     },
     "metadata": {},
     "output_type": "display_data"
    },
    {
     "data": {
      "text/html": [
       "<div>\n",
       "<style scoped>\n",
       "    .dataframe tbody tr th:only-of-type {\n",
       "        vertical-align: middle;\n",
       "    }\n",
       "\n",
       "    .dataframe tbody tr th {\n",
       "        vertical-align: top;\n",
       "    }\n",
       "\n",
       "    .dataframe thead th {\n",
       "        text-align: right;\n",
       "    }\n",
       "</style>\n",
       "<table border=\"1\" class=\"dataframe\">\n",
       "  <thead>\n",
       "    <tr style=\"text-align: right;\">\n",
       "      <th></th>\n",
       "      <th>Title</th>\n",
       "      <th>Drama</th>\n",
       "      <th>Comedy</th>\n",
       "      <th>Romance</th>\n",
       "      <th>Action</th>\n",
       "      <th>Thriller</th>\n",
       "    </tr>\n",
       "    <tr>\n",
       "      <th>ItemID</th>\n",
       "      <th></th>\n",
       "      <th></th>\n",
       "      <th></th>\n",
       "      <th></th>\n",
       "      <th></th>\n",
       "      <th></th>\n",
       "    </tr>\n",
       "  </thead>\n",
       "  <tbody>\n",
       "    <tr>\n",
       "      <th>781</th>\n",
       "      <td>French Kiss (1995)</td>\n",
       "      <td>0</td>\n",
       "      <td>1</td>\n",
       "      <td>1</td>\n",
       "      <td>0</td>\n",
       "      <td>0</td>\n",
       "    </tr>\n",
       "    <tr>\n",
       "      <th>294</th>\n",
       "      <td>Liar Liar (1997)</td>\n",
       "      <td>0</td>\n",
       "      <td>1</td>\n",
       "      <td>0</td>\n",
       "      <td>0</td>\n",
       "      <td>0</td>\n",
       "    </tr>\n",
       "    <tr>\n",
       "      <th>1</th>\n",
       "      <td>Toy Story (1995)</td>\n",
       "      <td>0</td>\n",
       "      <td>1</td>\n",
       "      <td>0</td>\n",
       "      <td>0</td>\n",
       "      <td>0</td>\n",
       "    </tr>\n",
       "    <tr>\n",
       "      <th>181</th>\n",
       "      <td>Return of the Jedi (1983)</td>\n",
       "      <td>0</td>\n",
       "      <td>0</td>\n",
       "      <td>1</td>\n",
       "      <td>1</td>\n",
       "      <td>0</td>\n",
       "    </tr>\n",
       "    <tr>\n",
       "      <th>121</th>\n",
       "      <td>Independence Day (ID4) (1996)</td>\n",
       "      <td>0</td>\n",
       "      <td>0</td>\n",
       "      <td>0</td>\n",
       "      <td>1</td>\n",
       "      <td>0</td>\n",
       "    </tr>\n",
       "    <tr>\n",
       "      <th>100</th>\n",
       "      <td>Fargo (1996)</td>\n",
       "      <td>1</td>\n",
       "      <td>0</td>\n",
       "      <td>0</td>\n",
       "      <td>0</td>\n",
       "      <td>1</td>\n",
       "    </tr>\n",
       "    <tr>\n",
       "      <th>739</th>\n",
       "      <td>Pretty Woman (1990)</td>\n",
       "      <td>0</td>\n",
       "      <td>1</td>\n",
       "      <td>1</td>\n",
       "      <td>0</td>\n",
       "      <td>0</td>\n",
       "    </tr>\n",
       "    <tr>\n",
       "      <th>313</th>\n",
       "      <td>Titanic (1997)</td>\n",
       "      <td>1</td>\n",
       "      <td>0</td>\n",
       "      <td>1</td>\n",
       "      <td>1</td>\n",
       "      <td>0</td>\n",
       "    </tr>\n",
       "    <tr>\n",
       "      <th>402</th>\n",
       "      <td>Ghost (1990)</td>\n",
       "      <td>0</td>\n",
       "      <td>1</td>\n",
       "      <td>1</td>\n",
       "      <td>0</td>\n",
       "      <td>1</td>\n",
       "    </tr>\n",
       "    <tr>\n",
       "      <th>471</th>\n",
       "      <td>Courage Under Fire (1996)</td>\n",
       "      <td>1</td>\n",
       "      <td>0</td>\n",
       "      <td>0</td>\n",
       "      <td>0</td>\n",
       "      <td>0</td>\n",
       "    </tr>\n",
       "  </tbody>\n",
       "</table>\n",
       "</div>"
      ],
      "text/plain": [
       "                                Title  Drama  Comedy  Romance  Action  \\\n",
       "ItemID                                                                  \n",
       "781                French Kiss (1995)      0       1        1       0   \n",
       "294                  Liar Liar (1997)      0       1        0       0   \n",
       "1                    Toy Story (1995)      0       1        0       0   \n",
       "181         Return of the Jedi (1983)      0       0        1       1   \n",
       "121     Independence Day (ID4) (1996)      0       0        0       1   \n",
       "100                      Fargo (1996)      1       0        0       0   \n",
       "739               Pretty Woman (1990)      0       1        1       0   \n",
       "313                    Titanic (1997)      1       0        1       1   \n",
       "402                      Ghost (1990)      0       1        1       0   \n",
       "471         Courage Under Fire (1996)      1       0        0       0   \n",
       "\n",
       "        Thriller  \n",
       "ItemID            \n",
       "781            0  \n",
       "294            0  \n",
       "1              0  \n",
       "181            0  \n",
       "121            0  \n",
       "100            1  \n",
       "739            0  \n",
       "313            0  \n",
       "402            1  \n",
       "471            0  "
      ]
     },
     "metadata": {},
     "output_type": "display_data"
    },
    {
     "data": {
      "text/plain": [
       "'WMF: Top recommendations'"
      ]
     },
     "metadata": {},
     "output_type": "display_data"
    },
    {
     "data": {
      "text/html": [
       "<div>\n",
       "<style scoped>\n",
       "    .dataframe tbody tr th:only-of-type {\n",
       "        vertical-align: middle;\n",
       "    }\n",
       "\n",
       "    .dataframe tbody tr th {\n",
       "        vertical-align: top;\n",
       "    }\n",
       "\n",
       "    .dataframe thead th {\n",
       "        text-align: right;\n",
       "    }\n",
       "</style>\n",
       "<table border=\"1\" class=\"dataframe\">\n",
       "  <thead>\n",
       "    <tr style=\"text-align: right;\">\n",
       "      <th></th>\n",
       "      <th>Title</th>\n",
       "      <th>Drama</th>\n",
       "      <th>Comedy</th>\n",
       "      <th>Romance</th>\n",
       "      <th>Action</th>\n",
       "      <th>Thriller</th>\n",
       "    </tr>\n",
       "    <tr>\n",
       "      <th>ItemID</th>\n",
       "      <th></th>\n",
       "      <th></th>\n",
       "      <th></th>\n",
       "      <th></th>\n",
       "      <th></th>\n",
       "      <th></th>\n",
       "    </tr>\n",
       "  </thead>\n",
       "  <tbody>\n",
       "    <tr>\n",
       "      <th>313</th>\n",
       "      <td>Titanic (1997)</td>\n",
       "      <td>1</td>\n",
       "      <td>0</td>\n",
       "      <td>1</td>\n",
       "      <td>1</td>\n",
       "      <td>0</td>\n",
       "    </tr>\n",
       "    <tr>\n",
       "      <th>204</th>\n",
       "      <td>Back to the Future (1985)</td>\n",
       "      <td>0</td>\n",
       "      <td>1</td>\n",
       "      <td>0</td>\n",
       "      <td>0</td>\n",
       "      <td>0</td>\n",
       "    </tr>\n",
       "    <tr>\n",
       "      <th>125</th>\n",
       "      <td>Phenomenon (1996)</td>\n",
       "      <td>1</td>\n",
       "      <td>0</td>\n",
       "      <td>1</td>\n",
       "      <td>0</td>\n",
       "      <td>0</td>\n",
       "    </tr>\n",
       "    <tr>\n",
       "      <th>8</th>\n",
       "      <td>Babe (1995)</td>\n",
       "      <td>1</td>\n",
       "      <td>1</td>\n",
       "      <td>0</td>\n",
       "      <td>0</td>\n",
       "      <td>0</td>\n",
       "    </tr>\n",
       "    <tr>\n",
       "      <th>318</th>\n",
       "      <td>Schindler's List (1993)</td>\n",
       "      <td>1</td>\n",
       "      <td>0</td>\n",
       "      <td>0</td>\n",
       "      <td>0</td>\n",
       "      <td>0</td>\n",
       "    </tr>\n",
       "    <tr>\n",
       "      <th>15</th>\n",
       "      <td>Mr. Holland's Opus (1995)</td>\n",
       "      <td>1</td>\n",
       "      <td>0</td>\n",
       "      <td>0</td>\n",
       "      <td>0</td>\n",
       "      <td>0</td>\n",
       "    </tr>\n",
       "    <tr>\n",
       "      <th>64</th>\n",
       "      <td>Shawshank Redemption, The (1994)</td>\n",
       "      <td>1</td>\n",
       "      <td>0</td>\n",
       "      <td>0</td>\n",
       "      <td>0</td>\n",
       "      <td>0</td>\n",
       "    </tr>\n",
       "    <tr>\n",
       "      <th>655</th>\n",
       "      <td>Stand by Me (1986)</td>\n",
       "      <td>1</td>\n",
       "      <td>1</td>\n",
       "      <td>0</td>\n",
       "      <td>0</td>\n",
       "      <td>0</td>\n",
       "    </tr>\n",
       "    <tr>\n",
       "      <th>692</th>\n",
       "      <td>American President, The (1995)</td>\n",
       "      <td>1</td>\n",
       "      <td>1</td>\n",
       "      <td>1</td>\n",
       "      <td>0</td>\n",
       "      <td>0</td>\n",
       "    </tr>\n",
       "    <tr>\n",
       "      <th>732</th>\n",
       "      <td>Dave (1993)</td>\n",
       "      <td>0</td>\n",
       "      <td>1</td>\n",
       "      <td>1</td>\n",
       "      <td>0</td>\n",
       "      <td>0</td>\n",
       "    </tr>\n",
       "  </tbody>\n",
       "</table>\n",
       "</div>"
      ],
      "text/plain": [
       "                                   Title  Drama  Comedy  Romance  Action  \\\n",
       "ItemID                                                                     \n",
       "313                       Titanic (1997)      1       0        1       1   \n",
       "204            Back to the Future (1985)      0       1        0       0   \n",
       "125                    Phenomenon (1996)      1       0        1       0   \n",
       "8                            Babe (1995)      1       1        0       0   \n",
       "318              Schindler's List (1993)      1       0        0       0   \n",
       "15             Mr. Holland's Opus (1995)      1       0        0       0   \n",
       "64      Shawshank Redemption, The (1994)      1       0        0       0   \n",
       "655                   Stand by Me (1986)      1       1        0       0   \n",
       "692       American President, The (1995)      1       1        1       0   \n",
       "732                          Dave (1993)      0       1        1       0   \n",
       "\n",
       "        Thriller  \n",
       "ItemID            \n",
       "313            0  \n",
       "204            0  \n",
       "125            0  \n",
       "8              0  \n",
       "318            0  \n",
       "15             0  \n",
       "64             0  \n",
       "655            0  \n",
       "692            0  \n",
       "732            0  "
      ]
     },
     "metadata": {},
     "output_type": "display_data"
    }
   ],
   "source": [
    "# Get the Top 5 Genres in filtered training data for user index 3\n",
    "top_genres = filter_df.sort_values(\"Sum\", ascending=False).head(5).index.tolist()\n",
    "print(\"\\nTop 5 Genres in training data:\", top_genres)\n",
    "\n",
    "# Get top K recommendations for BPR and put them into the genre dataframe\n",
    "bpr_recommendations, bpr_scores = bpr_model.rank(UIDX) # rank recommendations by score, limit to top K\n",
    "bpr_recommendations = bpr_recommendations[:TOPK] # limit to top K\n",
    "bpr_topk = [item_idx2id[iidx] for iidx in bpr_recommendations] # convert item indexes into item ids\n",
    "bpr_df = item_df.loc[[int(iid) for iid in bpr_topk]] # filter the movie genre dataframe by item ids\n",
    "\n",
    "# Let's view the top recommendations for BPR by top genres\n",
    "display(\"BPR: Top recommendations\", bpr_df[[\"Title\"] + top_genres].head(10))\n",
    "\n",
    "# Now, let's do likewise for WMF - get top K recommendations and put them into the genre dataframe\n",
    "wmf_recommendations, wmf_scores = wmf_model.rank(UIDX) # rank recommendations by score\n",
    "wmf_recommendations = wmf_recommendations[:TOPK] # limit to top K\n",
    "wmf_topk = [item_idx2id[iidx] for iidx in wmf_recommendations] # convert item indexes into item ids\n",
    "wmf_df = item_df.loc[[int(iid) for iid in wmf_topk]] # filter the movie genre dataframe by item ids\n",
    "\n",
    "# View the top recommendations for WMF\n",
    "display(\"WMF: Top recommendations\", wmf_df[[\"Title\"] + top_genres].head(10))"
   ]
  },
  {
   "cell_type": "markdown",
   "id": "ed2f0abc",
   "metadata": {},
   "source": [
    "Now that we have seen the top recommendations of the BPR and WMF models, let's do a comparison by taking a look at the genre distribution."
   ]
  },
  {
   "cell_type": "markdown",
   "id": "9f02bf37",
   "metadata": {},
   "source": [
    "##### 1.4.5 Comparing Models by Genre Distribution"
   ]
  },
  {
   "cell_type": "code",
   "execution_count": 12,
   "id": "283ca840",
   "metadata": {},
   "outputs": [
    {
     "data": {
      "text/plain": [
       "'Train Data to Recommended % Distribution'"
      ]
     },
     "metadata": {},
     "output_type": "display_data"
    },
    {
     "data": {
      "text/html": [
       "<div>\n",
       "<style scoped>\n",
       "    .dataframe tbody tr th:only-of-type {\n",
       "        vertical-align: middle;\n",
       "    }\n",
       "\n",
       "    .dataframe tbody tr th {\n",
       "        vertical-align: top;\n",
       "    }\n",
       "\n",
       "    .dataframe thead th {\n",
       "        text-align: right;\n",
       "    }\n",
       "</style>\n",
       "<table border=\"1\" class=\"dataframe\">\n",
       "  <thead>\n",
       "    <tr style=\"text-align: right;\">\n",
       "      <th></th>\n",
       "      <th>Train Data %</th>\n",
       "      <th>BPR %</th>\n",
       "      <th>WMF %</th>\n",
       "    </tr>\n",
       "  </thead>\n",
       "  <tbody>\n",
       "    <tr>\n",
       "      <th>Drama</th>\n",
       "      <td>22.6</td>\n",
       "      <td>40.0</td>\n",
       "      <td>52.0</td>\n",
       "    </tr>\n",
       "    <tr>\n",
       "      <th>Comedy</th>\n",
       "      <td>13.9</td>\n",
       "      <td>32.0</td>\n",
       "      <td>42.0</td>\n",
       "    </tr>\n",
       "    <tr>\n",
       "      <th>Romance</th>\n",
       "      <td>10.8</td>\n",
       "      <td>42.0</td>\n",
       "      <td>36.0</td>\n",
       "    </tr>\n",
       "    <tr>\n",
       "      <th>Action</th>\n",
       "      <td>10.6</td>\n",
       "      <td>32.0</td>\n",
       "      <td>16.0</td>\n",
       "    </tr>\n",
       "    <tr>\n",
       "      <th>Thriller</th>\n",
       "      <td>9.7</td>\n",
       "      <td>30.0</td>\n",
       "      <td>14.0</td>\n",
       "    </tr>\n",
       "    <tr>\n",
       "      <th>Adventure</th>\n",
       "      <td>6.9</td>\n",
       "      <td>16.0</td>\n",
       "      <td>10.0</td>\n",
       "    </tr>\n",
       "    <tr>\n",
       "      <th>Children's</th>\n",
       "      <td>4.4</td>\n",
       "      <td>4.0</td>\n",
       "      <td>4.0</td>\n",
       "    </tr>\n",
       "    <tr>\n",
       "      <th>War</th>\n",
       "      <td>3.9</td>\n",
       "      <td>12.0</td>\n",
       "      <td>10.0</td>\n",
       "    </tr>\n",
       "    <tr>\n",
       "      <th>Crime</th>\n",
       "      <td>3.9</td>\n",
       "      <td>6.0</td>\n",
       "      <td>2.0</td>\n",
       "    </tr>\n",
       "    <tr>\n",
       "      <th>Sci-Fi</th>\n",
       "      <td>3.5</td>\n",
       "      <td>8.0</td>\n",
       "      <td>8.0</td>\n",
       "    </tr>\n",
       "  </tbody>\n",
       "</table>\n",
       "</div>"
      ],
      "text/plain": [
       "            Train Data %  BPR %  WMF %\n",
       "Drama               22.6   40.0   52.0\n",
       "Comedy              13.9   32.0   42.0\n",
       "Romance             10.8   42.0   36.0\n",
       "Action              10.6   32.0   16.0\n",
       "Thriller             9.7   30.0   14.0\n",
       "Adventure            6.9   16.0   10.0\n",
       "Children's           4.4    4.0    4.0\n",
       "War                  3.9   12.0   10.0\n",
       "Crime                3.9    6.0    2.0\n",
       "Sci-Fi               3.5    8.0    8.0"
      ]
     },
     "metadata": {},
     "output_type": "display_data"
    }
   ],
   "source": [
    "# Let's introduce `combined_df` for comparison.\n",
    "# This dataframe will be used to compare models by summing up genres from recommendations of different models\n",
    "combined_df = pd.DataFrame({\n",
    "    \"Train Data %\": filter_df[\"%\"],\n",
    "    \"BPR Sum\": bpr_df.select_dtypes(np.number).sum(), # group by genres, then get sum of each genre\n",
    "    \"WMF Sum\": wmf_df.select_dtypes(np.number).sum() # likewise for WMF\n",
    "})\n",
    "\n",
    "# Get percentages of movie genre sums\n",
    "combined_df['BPR %'] = combined_df['BPR Sum'] / TOPK * 100 \n",
    "combined_df[\"WMF %\"] = combined_df[\"WMF Sum\"] / TOPK * 100\n",
    "\n",
    "combined_df = combined_df.round(1) # round all \n",
    "combined_df = combined_df.sort_values(\"Train Data %\", ascending=False)\n",
    "\n",
    "# Let's take a look at the genre distribution by percentages\n",
    "display(\"Train Data to Recommended % Distribution\", combined_df[['Train Data %', 'BPR %', 'WMF %']][:10])"
   ]
  },
  {
   "cell_type": "markdown",
   "id": "c30fe92b",
   "metadata": {},
   "source": [
    "Note that many movies belong to multiple genres, so the sum of the genre counts may exceed the total number of recommendations.\n",
    "\n",
    "-------\n",
    "\n",
    "Now that we have seen the distribution of individual models, we are curious about what kind of distribution we will get from ensembling these models.\n",
    "\n",
    "Let's see what happens when we ensemble these two models. "
   ]
  },
  {
   "cell_type": "markdown",
   "id": "7cce45f7",
   "metadata": {},
   "source": [
    "## 2. Simple Model Ensembling\n",
    "\n",
    "In this section, we’ll combine the predictions from the **BPR** and **WMF** models using a method called **Borda Count**.\n",
    "\n",
    "### What is Borda Count?\n",
    "\n",
    "Borda Count is a simple ranking method that assigns points based on an item’s rank in each model. Higher-ranked items get more points. We then add up the points from all models to get a combined ranking.\n",
    "\n",
    "**Example**:\n",
    "1. Each model ranks items from 1 to 5.\n",
    "2. Items earn points based on their rank (e.g., 1st place gets 4 points, 2nd gets 3 points, etc.).\n",
    "3. We sum the points for each item across all models.\n",
    "4. The item with the highest total points becomes the top recommendation.\n",
    "\n",
    "Here’s a sample ranking for a user:\n",
    "\n",
    "| Rank | Model 1 | Model 2 | Model 3 | Points (5 - rank) |\n",
    "|------|---------|---------|---------|-------------------|\n",
    "| 1    | A       | D       | E       | 4                 |\n",
    "| 2    | B       | C       | A       | 3                 |\n",
    "| 3    | C       | A       | B       | 2                 |\n",
    "| 4    | D       | B       | D       | 1                 |\n",
    "| 5    | E       | E       | C       | 0                 |\n",
    "\n",
    "**Borda Count Result**:\n",
    "\n",
    "| Item | Total Points |\n",
    "|------|--------------|\n",
    "| A    | 9            |\n",
    "| B    | 6            |\n",
    "| C    | 5            |\n",
    "| D    | 6            |\n",
    "| E    | 4            |\n",
    "\n",
    "**Final Ranking: A > B, D > C > E**\n",
    "\n",
    "Now, let’s implement this method!"
   ]
  },
  {
   "cell_type": "code",
   "execution_count": 16,
   "id": "b349407b",
   "metadata": {},
   "outputs": [
    {
     "data": {
      "text/html": [
       "<div>\n",
       "<style scoped>\n",
       "    .dataframe tbody tr th:only-of-type {\n",
       "        vertical-align: middle;\n",
       "    }\n",
       "\n",
       "    .dataframe tbody tr th {\n",
       "        vertical-align: top;\n",
       "    }\n",
       "\n",
       "    .dataframe thead th {\n",
       "        text-align: right;\n",
       "    }\n",
       "</style>\n",
       "<table border=\"1\" class=\"dataframe\">\n",
       "  <thead>\n",
       "    <tr style=\"text-align: right;\">\n",
       "      <th></th>\n",
       "      <th>ItemID</th>\n",
       "      <th>BPR Rank</th>\n",
       "      <th>WMF Rank</th>\n",
       "      <th>Borda Rank</th>\n",
       "      <th>Borda Count</th>\n",
       "    </tr>\n",
       "  </thead>\n",
       "  <tbody>\n",
       "    <tr>\n",
       "      <th>152</th>\n",
       "      <td>313</td>\n",
       "      <td>8</td>\n",
       "      <td>1</td>\n",
       "      <td>1</td>\n",
       "      <td>3293</td>\n",
       "    </tr>\n",
       "    <tr>\n",
       "      <th>194</th>\n",
       "      <td>739</td>\n",
       "      <td>7</td>\n",
       "      <td>11</td>\n",
       "      <td>2</td>\n",
       "      <td>3284</td>\n",
       "    </tr>\n",
       "    <tr>\n",
       "      <th>425</th>\n",
       "      <td>237</td>\n",
       "      <td>15</td>\n",
       "      <td>18</td>\n",
       "      <td>3</td>\n",
       "      <td>3269</td>\n",
       "    </tr>\n",
       "    <tr>\n",
       "      <th>382</th>\n",
       "      <td>655</td>\n",
       "      <td>27</td>\n",
       "      <td>8</td>\n",
       "      <td>4</td>\n",
       "      <td>3267</td>\n",
       "    </tr>\n",
       "    <tr>\n",
       "      <th>310</th>\n",
       "      <td>692</td>\n",
       "      <td>26</td>\n",
       "      <td>9</td>\n",
       "      <td>4</td>\n",
       "      <td>3267</td>\n",
       "    </tr>\n",
       "  </tbody>\n",
       "</table>\n",
       "</div>"
      ],
      "text/plain": [
       "    ItemID  BPR Rank  WMF Rank  Borda Rank  Borda Count\n",
       "152    313         8         1           1         3293\n",
       "194    739         7        11           2         3284\n",
       "425    237        15        18           3         3269\n",
       "382    655        27         8           4         3267\n",
       "310    692        26         9           4         3267"
      ]
     },
     "metadata": {},
     "output_type": "display_data"
    }
   ],
   "source": [
    "# Let's create a new dataframe to calculate ranking and borda count\n",
    "rank_df = pd.DataFrame({\n",
    "    \"ItemID\": item_idx2id,\n",
    "})\n",
    "\n",
    "total_items = len(rank_df) # 1651 items\n",
    "\n",
    "# Obtain points (inverse of rank) of the items based on the BPR score\n",
    "rank_df[\"BPR Score\"] = bpr_scores\n",
    "rank_df[\"BPR Rank\"] = rank_df[\"BPR Score\"].rank(ascending=False).astype(int) # Get Rank where 1 = Top recommendation\n",
    "rank_df[\"BPR Points\"] = total_items - rank_df[\"BPR Rank\"] # Get points by calculating ('Total Item count' - 'Rank')\n",
    "\n",
    "# Do likewise for WMF\n",
    "rank_df[\"WMF Score\"] = wmf_scores\n",
    "rank_df[\"WMF Rank\"] = rank_df[\"WMF Score\"].rank(ascending=False).astype(int) # Get Rank where 1 = Top recommendation\n",
    "rank_df[\"WMF Points\"] = total_items - rank_df[\"WMF Rank\"] # Get points by calculating ('Total Item count' - 'Rank')\n",
    "\n",
    "# Get Borda Count by summing up points of BPR and WMF\n",
    "rank_df[\"Borda Count\"] = rank_df[\"BPR Points\"] + rank_df[\"WMF Points\"]\n",
    "rank_df[\"Borda Rank\"] = rank_df[\"Borda Count\"].rank(ascending=False).astype(int) # Get Rank where 1 = Top recommendation\n",
    "\n",
    "# Round decimal places for readability purposes\n",
    "rank_df = rank_df.round(3)\n",
    "rank_df.sort_values(\"Borda Rank\", inplace=True)\n",
    "\n",
    "# Now let's take a look at the table with Borda Count \n",
    "display(rank_df[[\"ItemID\", \"BPR Rank\", \"WMF Rank\", \"Borda Rank\", \"Borda Count\"]].head(5))"
   ]
  },
  {
   "cell_type": "markdown",
   "id": "90a095da",
   "metadata": {},
   "source": [
    "Now that we have Borda Count, let's rerank this list and to provide the ensembled model's recommendation."
   ]
  },
  {
   "cell_type": "markdown",
   "id": "57994d68",
   "metadata": {},
   "source": [
    "The top recommendation, **ItemID 313**, was ranked **8th** by BPR and **1st** by WMF. Similarly, the second recommendation, **ItemID 739**, was ranked **7th** by BPR and **11th** by WMF.\n",
    "\n",
    "This demonstrates how ensembling allows us to leverage the strengths of multiple models to produce a more balanced recommendation.\n",
    "\n",
    "---\n",
    "\n",
    "Next, we’ll incorporate the recommendations into the genre distribution dataframe to compare their performance against the individual base models."
   ]
  },
  {
   "cell_type": "code",
   "execution_count": 18,
   "id": "ac86f568",
   "metadata": {},
   "outputs": [
    {
     "data": {
      "text/plain": [
       "'Borda Count Recommendations Distribution'"
      ]
     },
     "metadata": {},
     "output_type": "display_data"
    },
    {
     "data": {
      "text/html": [
       "<div>\n",
       "<style scoped>\n",
       "    .dataframe tbody tr th:only-of-type {\n",
       "        vertical-align: middle;\n",
       "    }\n",
       "\n",
       "    .dataframe tbody tr th {\n",
       "        vertical-align: top;\n",
       "    }\n",
       "\n",
       "    .dataframe thead th {\n",
       "        text-align: right;\n",
       "    }\n",
       "</style>\n",
       "<table border=\"1\" class=\"dataframe\">\n",
       "  <thead>\n",
       "    <tr style=\"text-align: right;\">\n",
       "      <th></th>\n",
       "      <th>Train Data %</th>\n",
       "      <th>BPR %</th>\n",
       "      <th>WMF %</th>\n",
       "      <th>Borda Count %</th>\n",
       "    </tr>\n",
       "  </thead>\n",
       "  <tbody>\n",
       "    <tr>\n",
       "      <th>Drama</th>\n",
       "      <td>22.6</td>\n",
       "      <td>40.0</td>\n",
       "      <td>52.0</td>\n",
       "      <td>40.0</td>\n",
       "    </tr>\n",
       "    <tr>\n",
       "      <th>Comedy</th>\n",
       "      <td>13.9</td>\n",
       "      <td>32.0</td>\n",
       "      <td>42.0</td>\n",
       "      <td>44.0</td>\n",
       "    </tr>\n",
       "    <tr>\n",
       "      <th>Romance</th>\n",
       "      <td>10.8</td>\n",
       "      <td>42.0</td>\n",
       "      <td>36.0</td>\n",
       "      <td>44.0</td>\n",
       "    </tr>\n",
       "    <tr>\n",
       "      <th>Action</th>\n",
       "      <td>10.6</td>\n",
       "      <td>32.0</td>\n",
       "      <td>16.0</td>\n",
       "      <td>24.0</td>\n",
       "    </tr>\n",
       "    <tr>\n",
       "      <th>Thriller</th>\n",
       "      <td>9.7</td>\n",
       "      <td>30.0</td>\n",
       "      <td>14.0</td>\n",
       "      <td>18.0</td>\n",
       "    </tr>\n",
       "    <tr>\n",
       "      <th>Adventure</th>\n",
       "      <td>6.9</td>\n",
       "      <td>16.0</td>\n",
       "      <td>10.0</td>\n",
       "      <td>16.0</td>\n",
       "    </tr>\n",
       "    <tr>\n",
       "      <th>Children's</th>\n",
       "      <td>4.4</td>\n",
       "      <td>4.0</td>\n",
       "      <td>4.0</td>\n",
       "      <td>4.0</td>\n",
       "    </tr>\n",
       "    <tr>\n",
       "      <th>War</th>\n",
       "      <td>3.9</td>\n",
       "      <td>12.0</td>\n",
       "      <td>10.0</td>\n",
       "      <td>14.0</td>\n",
       "    </tr>\n",
       "    <tr>\n",
       "      <th>Crime</th>\n",
       "      <td>3.9</td>\n",
       "      <td>6.0</td>\n",
       "      <td>2.0</td>\n",
       "      <td>4.0</td>\n",
       "    </tr>\n",
       "    <tr>\n",
       "      <th>Sci-Fi</th>\n",
       "      <td>3.5</td>\n",
       "      <td>8.0</td>\n",
       "      <td>8.0</td>\n",
       "      <td>16.0</td>\n",
       "    </tr>\n",
       "  </tbody>\n",
       "</table>\n",
       "</div>"
      ],
      "text/plain": [
       "            Train Data %  BPR %  WMF %  Borda Count %\n",
       "Drama               22.6   40.0   52.0           40.0\n",
       "Comedy              13.9   32.0   42.0           44.0\n",
       "Romance             10.8   42.0   36.0           44.0\n",
       "Action              10.6   32.0   16.0           24.0\n",
       "Thriller             9.7   30.0   14.0           18.0\n",
       "Adventure            6.9   16.0   10.0           16.0\n",
       "Children's           4.4    4.0    4.0            4.0\n",
       "War                  3.9   12.0   10.0           14.0\n",
       "Crime                3.9    6.0    2.0            4.0\n",
       "Sci-Fi               3.5    8.0    8.0           16.0"
      ]
     },
     "metadata": {},
     "output_type": "display_data"
    }
   ],
   "source": [
    "UIDX = 3\n",
    "TOPK = 50\n",
    "\n",
    "borda_count_topk = rank_df[\"ItemID\"].values[:TOPK] # Get top K (50) Item IDs\n",
    "\n",
    "borda_df = item_df.loc[[int(i) for i in borda_count_topk]] # Filter genre data frame by the top item IDs\n",
    "\n",
    "# Add Borda Count results into 'combined_df' dataframe for comparison\n",
    "combined_df[\"Borda Count Sum\"] = borda_df.select_dtypes(np.number).sum() # group by genre, and calculate sum of each genre\n",
    "combined_df[\"Borda Count %\"] = combined_df[\"Borda Count Sum\"] / TOPK * 100 # Calculate percentage of sum to total\n",
    "combined_df[\"Borda Count %\"] = combined_df[\"Borda Count %\"].round(1) # rounding for readability purposes\n",
    "\n",
    "# Let's take a look at the genre distribution of train data, BPR, WMF and the newly added Borda Count\n",
    "display(\"Borda Count Recommendations Distribution\", combined_df[[\"Train Data %\", \"BPR %\", \"WMF %\", \"Borda Count %\"]][:10])"
   ]
  },
  {
   "cell_type": "markdown",
   "id": "8a55bb6e",
   "metadata": {},
   "source": [
    "As Borda Count is a combination of both BPR and WMF models, the distributions are expected to be influenced by both models.\n",
    "\n",
    "In the next section, we will further add more models to the ensemble."
   ]
  },
  {
   "cell_type": "markdown",
   "id": "142db187",
   "metadata": {},
   "source": [
    "## 3. Further Ensembling\n",
    "\n",
    "In this step, we enhance our ensemble by creating variations of the **WMF** model and combining their predictions using Borda Count. Each variation introduces slight adjustments, such as changes in parameters, to capture different perspectives of the dataset.\n",
    "\n",
    "Think of choosing a movie with friends, where each person has a slightly different taste. By considering everyone’s preferences, you make a decision that satisfies the group. As with any statistical learning models, there could be some variance in the model trained with different seeds or hyperparameters. By ensembling these models, we can reduce the variance and improve the overall performance. By introducing variations of the WMF model, we obtain a more balanced and robust recommendation.\n",
    "\n",
    "### Approach:\n",
    "1. **Different Random Seeds**:  \n",
    "   Train multiple models with different random seeds (e.g., `seed=123`). This variation captures different nuances, as some models may perform better for certain users than others.\n",
    "   \n",
    "2. **Varying Number of Latent Factors**:  \n",
    "   Adjust the number of latent factors (`k`). By changing `k`, the models can capture diverse aspects of the data, providing a broader view of the underlying patterns.\n",
    "\n",
    "Let’s implement this by training several WMF models with different seeds and latent factor values, then ensemble them using Borda Count to improve the overall recommendation performance."
   ]
  },
  {
   "cell_type": "code",
   "execution_count": 28,
   "id": "5ce879a6",
   "metadata": {},
   "outputs": [
    {
     "name": "stdout",
     "output_type": "stream",
     "text": [
      "\n",
      "[WMF_123] Training started!\n"
     ]
    },
    {
     "name": "stderr",
     "output_type": "stream",
     "text": [
      "100%|██████████| 300/300 [00:17<00:00, 17.30it/s, loss=173]\n"
     ]
    },
    {
     "name": "stdout",
     "output_type": "stream",
     "text": [
      "Learning completed!\n",
      "\n",
      "[WMF_123] Evaluation started!\n"
     ]
    },
    {
     "name": "stderr",
     "output_type": "stream",
     "text": [
      "Ranking: 100%|██████████| 940/940 [00:00<00:00, 2085.29it/s]\n"
     ]
    },
    {
     "name": "stdout",
     "output_type": "stream",
     "text": [
      "\n",
      "[WMF_456] Training started!\n"
     ]
    },
    {
     "name": "stderr",
     "output_type": "stream",
     "text": [
      "100%|██████████| 300/300 [00:17<00:00, 16.77it/s, loss=175]\n"
     ]
    },
    {
     "name": "stdout",
     "output_type": "stream",
     "text": [
      "Learning completed!\n",
      "\n",
      "[WMF_456] Evaluation started!\n"
     ]
    },
    {
     "name": "stderr",
     "output_type": "stream",
     "text": [
      "Ranking: 100%|██████████| 940/940 [00:00<00:00, 2573.25it/s]\n"
     ]
    },
    {
     "name": "stdout",
     "output_type": "stream",
     "text": [
      "\n",
      "[WMF_789] Training started!\n"
     ]
    },
    {
     "name": "stderr",
     "output_type": "stream",
     "text": [
      "100%|██████████| 300/300 [00:17<00:00, 17.36it/s, loss=172]\n"
     ]
    },
    {
     "name": "stdout",
     "output_type": "stream",
     "text": [
      "Learning completed!\n",
      "\n",
      "[WMF_789] Evaluation started!\n"
     ]
    },
    {
     "name": "stderr",
     "output_type": "stream",
     "text": [
      "Ranking: 100%|██████████| 940/940 [00:00<00:00, 2610.95it/s]\n"
     ]
    },
    {
     "name": "stdout",
     "output_type": "stream",
     "text": [
      "\n",
      "[WMF_888] Training started!\n"
     ]
    },
    {
     "name": "stderr",
     "output_type": "stream",
     "text": [
      "100%|██████████| 300/300 [00:17<00:00, 16.71it/s, loss=172]\n"
     ]
    },
    {
     "name": "stdout",
     "output_type": "stream",
     "text": [
      "Learning completed!\n",
      "\n",
      "[WMF_888] Evaluation started!\n"
     ]
    },
    {
     "name": "stderr",
     "output_type": "stream",
     "text": [
      "Ranking: 100%|██████████| 940/940 [00:00<00:00, 2892.63it/s]\n"
     ]
    },
    {
     "name": "stdout",
     "output_type": "stream",
     "text": [
      "\n",
      "[WMF_999] Training started!\n"
     ]
    },
    {
     "name": "stderr",
     "output_type": "stream",
     "text": [
      "100%|██████████| 300/300 [00:18<00:00, 16.50it/s, loss=171]\n"
     ]
    },
    {
     "name": "stdout",
     "output_type": "stream",
     "text": [
      "Learning completed!\n",
      "\n",
      "[WMF_999] Evaluation started!\n"
     ]
    },
    {
     "name": "stderr",
     "output_type": "stream",
     "text": [
      "Ranking: 100%|██████████| 940/940 [00:00<00:00, 2258.68it/s]\n"
     ]
    },
    {
     "name": "stdout",
     "output_type": "stream",
     "text": [
      "\n",
      "[WMF_k20] Training started!\n"
     ]
    },
    {
     "name": "stderr",
     "output_type": "stream",
     "text": [
      "100%|██████████| 300/300 [00:19<00:00, 15.14it/s, loss=147]\n"
     ]
    },
    {
     "name": "stdout",
     "output_type": "stream",
     "text": [
      "Learning completed!\n",
      "\n",
      "[WMF_k20] Evaluation started!\n"
     ]
    },
    {
     "name": "stderr",
     "output_type": "stream",
     "text": [
      "Ranking: 100%|██████████| 940/940 [00:00<00:00, 2439.94it/s]\n"
     ]
    },
    {
     "name": "stdout",
     "output_type": "stream",
     "text": [
      "\n",
      "[WMF_k30] Training started!\n"
     ]
    },
    {
     "name": "stderr",
     "output_type": "stream",
     "text": [
      "100%|██████████| 300/300 [00:20<00:00, 14.99it/s, loss=129]\n"
     ]
    },
    {
     "name": "stdout",
     "output_type": "stream",
     "text": [
      "Learning completed!\n",
      "\n",
      "[WMF_k30] Evaluation started!\n"
     ]
    },
    {
     "name": "stderr",
     "output_type": "stream",
     "text": [
      "Ranking: 100%|██████████| 940/940 [-1:59:59<00:00, -604.26it/s]\n"
     ]
    },
    {
     "name": "stdout",
     "output_type": "stream",
     "text": [
      "\n",
      "[WMF_k40] Training started!\n"
     ]
    },
    {
     "name": "stderr",
     "output_type": "stream",
     "text": [
      "100%|██████████| 300/300 [00:20<00:00, 14.33it/s, loss=115] \n"
     ]
    },
    {
     "name": "stdout",
     "output_type": "stream",
     "text": [
      "Learning completed!\n",
      "\n",
      "[WMF_k40] Evaluation started!\n"
     ]
    },
    {
     "name": "stderr",
     "output_type": "stream",
     "text": [
      "Ranking: 100%|██████████| 940/940 [00:00<00:00, 2769.90it/s]\n"
     ]
    },
    {
     "name": "stdout",
     "output_type": "stream",
     "text": [
      "\n",
      "[WMF_k50] Training started!\n"
     ]
    },
    {
     "name": "stderr",
     "output_type": "stream",
     "text": [
      "100%|██████████| 300/300 [00:25<00:00, 11.98it/s, loss=102] \n"
     ]
    },
    {
     "name": "stdout",
     "output_type": "stream",
     "text": [
      "Learning completed!\n",
      "\n",
      "[WMF_k50] Evaluation started!\n"
     ]
    },
    {
     "name": "stderr",
     "output_type": "stream",
     "text": [
      "Ranking: 100%|██████████| 940/940 [00:00<00:00, 2749.19it/s]"
     ]
    },
    {
     "name": "stdout",
     "output_type": "stream",
     "text": [
      "\n",
      "TEST:\n",
      "...\n",
      "        | Precision@50 | Recall@50 | Train (s) | Test (s)\n",
      "------- + ------------ + --------- + --------- + --------\n",
      "WMF_123 |       0.1133 |    0.5583 |   17.7788 |   0.4557\n",
      "WMF_456 |       0.1099 |    0.5500 |   18.0442 |   0.3699\n",
      "WMF_789 |       0.1131 |    0.5604 |   17.4421 |   0.3643\n",
      "WMF_888 |       0.1126 |    0.5529 |   18.0820 |   0.3295\n",
      "WMF_999 |       0.1134 |    0.5597 |   18.3150 |   0.4208\n",
      "WMF_k20 |       0.1153 |    0.5736 |   19.9460 |   0.3897\n",
      "WMF_k30 |       0.1108 |    0.5530 |   20.1790 |  -1.5478\n",
      "WMF_k40 |       0.1075 |    0.5419 |   21.0963 |   0.3441\n",
      "WMF_k50 |       0.1044 |    0.5290 |   25.1880 |   0.3466\n",
      "\n"
     ]
    },
    {
     "name": "stderr",
     "output_type": "stream",
     "text": [
      "\n"
     ]
    }
   ],
   "source": [
    "# WMF models with different seeds\n",
    "wmf_model_123 = WMF(name=\"WMF_123\", k=10, max_iter=300, a=1.0, b=0.1, learning_rate=0.001, lambda_u=0.01, lambda_v=0.01, seed=123)\n",
    "wmf_model_456 = WMF(name=\"WMF_456\", k=10, max_iter=300, a=1.0, b=0.1, learning_rate=0.001, lambda_u=0.01, lambda_v=0.01, seed=456)\n",
    "wmf_model_789 = WMF(name=\"WMF_789\", k=10, max_iter=300, a=1.0, b=0.1, learning_rate=0.001, lambda_u=0.01, lambda_v=0.01, seed=789)\n",
    "wmf_model_888 = WMF(name=\"WMF_888\", k=10, max_iter=300, a=1.0, b=0.1, learning_rate=0.001, lambda_u=0.01, lambda_v=0.01, seed=888)\n",
    "wmf_model_999 = WMF(name=\"WMF_999\", k=10, max_iter=300, a=1.0, b=0.1, learning_rate=0.001, lambda_u=0.01, lambda_v=0.01, seed=999)\n",
    "# WMF models with different number of latent factors\n",
    "wmf_model_k20 = WMF(name=\"WMF_k20\", k=20, max_iter=300, a=1.0, b=0.1, learning_rate=0.001, lambda_u=0.01, lambda_v=0.01, seed=123)\n",
    "wmf_model_k30 = WMF(name=\"WMF_k30\", k=30, max_iter=300, a=1.0, b=0.1, learning_rate=0.001, lambda_u=0.01, lambda_v=0.01, seed=123)\n",
    "wmf_model_k40 = WMF(name=\"WMF_k40\", k=40, max_iter=300, a=1.0, b=0.1, learning_rate=0.001, lambda_u=0.01, lambda_v=0.01, seed=123)\n",
    "wmf_model_k50 = WMF(name=\"WMF_k50\", k=50, max_iter=300, a=1.0, b=0.1, learning_rate=0.001, lambda_u=0.01, lambda_v=0.01, seed=123)\n",
    "\n",
    "models = [wmf_model_123, wmf_model_456, wmf_model_789, wmf_model_888, wmf_model_999, wmf_model_k20, wmf_model_k30, wmf_model_k40, wmf_model_k50]\n",
    "\n",
    "# Let's run an experiment to take a look at how different these models are, with just different random seeds!\n",
    "experiment = Experiment(rs, models, metrics, user_based=True).run()"
   ]
  },
  {
   "cell_type": "markdown",
   "id": "ce487e7d",
   "metadata": {},
   "source": [
    "Based on the results, we can see that even within the same model, the results can vary. \n",
    "\n",
    "Let's try ensembling all these models together into 1 single model by Borda Count, and look at its recommendations."
   ]
  },
  {
   "cell_type": "code",
   "execution_count": 26,
   "id": "8e745118",
   "metadata": {},
   "outputs": [
    {
     "data": {
      "text/plain": [
       "'Top 10 Recommendations for WMF Borda Count'"
      ]
     },
     "metadata": {},
     "output_type": "display_data"
    },
    {
     "data": {
      "text/html": [
       "<div>\n",
       "<style scoped>\n",
       "    .dataframe tbody tr th:only-of-type {\n",
       "        vertical-align: middle;\n",
       "    }\n",
       "\n",
       "    .dataframe tbody tr th {\n",
       "        vertical-align: top;\n",
       "    }\n",
       "\n",
       "    .dataframe thead th {\n",
       "        text-align: right;\n",
       "    }\n",
       "</style>\n",
       "<table border=\"1\" class=\"dataframe\">\n",
       "  <thead>\n",
       "    <tr style=\"text-align: right;\">\n",
       "      <th></th>\n",
       "      <th>ItemID</th>\n",
       "      <th>WMF Borda Count</th>\n",
       "    </tr>\n",
       "  </thead>\n",
       "  <tbody>\n",
       "    <tr>\n",
       "      <th>152</th>\n",
       "      <td>313</td>\n",
       "      <td>3293</td>\n",
       "    </tr>\n",
       "    <tr>\n",
       "      <th>194</th>\n",
       "      <td>739</td>\n",
       "      <td>3284</td>\n",
       "    </tr>\n",
       "    <tr>\n",
       "      <th>425</th>\n",
       "      <td>237</td>\n",
       "      <td>3269</td>\n",
       "    </tr>\n",
       "    <tr>\n",
       "      <th>310</th>\n",
       "      <td>692</td>\n",
       "      <td>3267</td>\n",
       "    </tr>\n",
       "    <tr>\n",
       "      <th>382</th>\n",
       "      <td>655</td>\n",
       "      <td>3267</td>\n",
       "    </tr>\n",
       "    <tr>\n",
       "      <th>156</th>\n",
       "      <td>64</td>\n",
       "      <td>3266</td>\n",
       "    </tr>\n",
       "    <tr>\n",
       "      <th>511</th>\n",
       "      <td>471</td>\n",
       "      <td>3264</td>\n",
       "    </tr>\n",
       "    <tr>\n",
       "      <th>422</th>\n",
       "      <td>282</td>\n",
       "      <td>3263</td>\n",
       "    </tr>\n",
       "    <tr>\n",
       "      <th>188</th>\n",
       "      <td>294</td>\n",
       "      <td>3260</td>\n",
       "    </tr>\n",
       "    <tr>\n",
       "      <th>8</th>\n",
       "      <td>15</td>\n",
       "      <td>3257</td>\n",
       "    </tr>\n",
       "  </tbody>\n",
       "</table>\n",
       "</div>"
      ],
      "text/plain": [
       "    ItemID  WMF Borda Count\n",
       "152    313             3293\n",
       "194    739             3284\n",
       "425    237             3269\n",
       "310    692             3267\n",
       "382    655             3267\n",
       "156     64             3266\n",
       "511    471             3264\n",
       "422    282             3263\n",
       "188    294             3260\n",
       "8       15             3257"
      ]
     },
     "metadata": {},
     "output_type": "display_data"
    }
   ],
   "source": [
    "# Let's create a different dataframe to calculate ranking and borda count\n",
    "rank_2_df = pd.DataFrame({\n",
    "    \"ItemID\": item_idx2id,\n",
    "})\n",
    "\n",
    "# Add a column named 'Ensembled WMF Model'\n",
    "rank_2_df[\"WMF Borda Count\"] = 0\n",
    "\n",
    "# Calculate the points (inverse of rank) for each of the models and accumulate them into the 'WMF Borda Count' column\n",
    "# We use the same formula as the 'Borda Count' calculation\n",
    "for model in models:\n",
    "    name = model.name\n",
    "    recommendations, scores = model.rank(UIDX)\n",
    "    rank_2_df[name + \"_score\"] = scores\n",
    "    rank_2_df[name + \"_rank\"] = rank_2_df[name + \"_score\"].rank(ascending=False).astype(int)\n",
    "    rank_2_df[name + \"_points\"] = total_items - rank_2_df[name + \"_rank\"]\n",
    "    rank_2_df[\"WMF Borda Count\"] = rank_2_df[\"WMF Borda Count\"] + rank_2_df[name + \"_points\"]\n",
    "\n",
    "# Let's sort and view the top recommendations!\n",
    "display(\"Top 10 Recommendations for WMF Borda Count\", rank_2_df[[\"ItemID\", \"WMF Borda Count\"]].sort_values(\"WMF Borda Count\", ascending=False).head(10))"
   ]
  },
  {
   "cell_type": "markdown",
   "id": "361d3fd9",
   "metadata": {},
   "source": [
    ">> TODO: Add the different variants - WMF Rank, Borda Rank, Borda Count"
   ]
  },
  {
   "cell_type": "code",
   "execution_count": 24,
   "id": "8224e10e",
   "metadata": {},
   "outputs": [
    {
     "data": {
      "text/plain": [
       "'Combined Recommendations Distribution'"
      ]
     },
     "metadata": {},
     "output_type": "display_data"
    },
    {
     "data": {
      "text/html": [
       "<div>\n",
       "<style scoped>\n",
       "    .dataframe tbody tr th:only-of-type {\n",
       "        vertical-align: middle;\n",
       "    }\n",
       "\n",
       "    .dataframe tbody tr th {\n",
       "        vertical-align: top;\n",
       "    }\n",
       "\n",
       "    .dataframe thead th {\n",
       "        text-align: right;\n",
       "    }\n",
       "</style>\n",
       "<table border=\"1\" class=\"dataframe\">\n",
       "  <thead>\n",
       "    <tr style=\"text-align: right;\">\n",
       "      <th></th>\n",
       "      <th>Train Data %</th>\n",
       "      <th>WMF Borda Count %</th>\n",
       "    </tr>\n",
       "  </thead>\n",
       "  <tbody>\n",
       "    <tr>\n",
       "      <th>Drama</th>\n",
       "      <td>22.6</td>\n",
       "      <td>40.0</td>\n",
       "    </tr>\n",
       "    <tr>\n",
       "      <th>Comedy</th>\n",
       "      <td>13.9</td>\n",
       "      <td>44.0</td>\n",
       "    </tr>\n",
       "    <tr>\n",
       "      <th>Romance</th>\n",
       "      <td>10.8</td>\n",
       "      <td>44.0</td>\n",
       "    </tr>\n",
       "    <tr>\n",
       "      <th>Action</th>\n",
       "      <td>10.6</td>\n",
       "      <td>24.0</td>\n",
       "    </tr>\n",
       "    <tr>\n",
       "      <th>Thriller</th>\n",
       "      <td>9.7</td>\n",
       "      <td>18.0</td>\n",
       "    </tr>\n",
       "    <tr>\n",
       "      <th>Adventure</th>\n",
       "      <td>6.9</td>\n",
       "      <td>16.0</td>\n",
       "    </tr>\n",
       "    <tr>\n",
       "      <th>Children's</th>\n",
       "      <td>4.4</td>\n",
       "      <td>4.0</td>\n",
       "    </tr>\n",
       "    <tr>\n",
       "      <th>War</th>\n",
       "      <td>3.9</td>\n",
       "      <td>14.0</td>\n",
       "    </tr>\n",
       "    <tr>\n",
       "      <th>Crime</th>\n",
       "      <td>3.9</td>\n",
       "      <td>4.0</td>\n",
       "    </tr>\n",
       "    <tr>\n",
       "      <th>Sci-Fi</th>\n",
       "      <td>3.5</td>\n",
       "      <td>16.0</td>\n",
       "    </tr>\n",
       "  </tbody>\n",
       "</table>\n",
       "</div>"
      ],
      "text/plain": [
       "            Train Data %  WMF Borda Count %\n",
       "Drama               22.6               40.0\n",
       "Comedy              13.9               44.0\n",
       "Romance             10.8               44.0\n",
       "Action              10.6               24.0\n",
       "Thriller             9.7               18.0\n",
       "Adventure            6.9               16.0\n",
       "Children's           4.4                4.0\n",
       "War                  3.9               14.0\n",
       "Crime                3.9                4.0\n",
       "Sci-Fi               3.5               16.0"
      ]
     },
     "metadata": {},
     "output_type": "display_data"
    }
   ],
   "source": [
    "# Now, let's add them to the combined dataframe for comparison with earlier models\n",
    "wmf_borda_count_topk = rank_2_df.sort_values(\"WMF Borda Count\", ascending=False)[\"ItemID\"].values[:TOPK]\n",
    "wmf_borda_df = item_df.loc[[int(i) for i in wmf_borda_count_topk]]\n",
    "\n",
    "combined_df[\"WMF Borda Count Sum\"] = wmf_borda_df.select_dtypes(np.number).sum()\n",
    "combined_df[\"WMF Borda Count %\"] = combined_df[\"WMF Borda Count Sum\"] / TOPK * 100\n",
    "combined_df[\"WMF Borda Count %\"] = combined_df[\"WMF Borda Count %\"].round(1)\n",
    "\n",
    "# Let's compare the recommendation distribution\n",
    "display(\"Combined Recommendations Distribution\", combined_df[[\"Train Data %\", \"WMF Borda Count %\"]][:10])"
   ]
  },
  {
   "cell_type": "markdown",
   "id": "e13bdce6",
   "metadata": {},
   "source": [
    "Comparing the results of the WMF Borda Count model, we can see that the different random seed initializations, along with the different number of latent factors, have influenced the recommendations.\n",
    "\n",
    "-------\n",
    "\n",
    "Now that we have touched on borda count methods, let's see how we could use other methods and popular packages such as **scikit-learn** to do advanced model ensembling."
   ]
  },
  {
   "cell_type": "markdown",
   "id": "2c286769",
   "metadata": {},
   "source": [
    "## 4. Ensembling with Regression Models\n",
    "\n",
    "In this step, we’ll explore ensembling using **linear regression** and **random forest regression**. These methods allow us to model the relationship between the predictions of multiple models and the actual outcomes, resulting in a more adaptive and accurate ensemble.\n",
    "\n",
    "### Why Use Regression Models?\n",
    "\n",
    "- **Linear Regression**:  \n",
    "  A simple and interpretable approach, best suited when the relationship between model predictions and true values is linear.\n",
    "  \n",
    "- **Random Forest Regression**:  \n",
    "  A more flexible method that captures non-linear relationships and complex interactions, making it well-suited for diverse and intricate datasets.\n",
    "\n",
    "These regression-based methods go beyond basic averaging by adapting to patterns in the data, potentially improving prediction accuracy.\n",
    "\n",
    "### Approach\n",
    "\n",
    "This process can be seen as a meta-learning problem. Here’s how it works:\n",
    "\n",
    "We use the predictions of the base models (WMF Variations) as features, and a meta-learner (such as Linear Regression or Random Forest) is trained to make the final prediction. This framework allows flexibility to experiment with various machine learning models, including Linear Regression, Random Forest, Gradient Boosting, or even Neural Networks.\n",
    "\n",
    "Let’s begin by training a **Linear Regression** model to combine the predictions from the WMF variations."
   ]
  },
  {
   "cell_type": "markdown",
   "id": "f96a39db",
   "metadata": {},
   "source": [
    "##### 4.1 Prepare Data"
   ]
  },
  {
   "cell_type": "code",
   "execution_count": 32,
   "id": "380223e2",
   "metadata": {},
   "outputs": [
    {
     "name": "stderr",
     "output_type": "stream",
     "text": [
      "100%|██████████| 9/9 [02:30<00:00, 16.68s/it]\n"
     ]
    },
    {
     "data": {
      "text/plain": [
       "'Training features'"
      ]
     },
     "metadata": {},
     "output_type": "display_data"
    },
    {
     "data": {
      "text/html": [
       "<div>\n",
       "<style scoped>\n",
       "    .dataframe tbody tr th:only-of-type {\n",
       "        vertical-align: middle;\n",
       "    }\n",
       "\n",
       "    .dataframe tbody tr th {\n",
       "        vertical-align: top;\n",
       "    }\n",
       "\n",
       "    .dataframe thead th {\n",
       "        text-align: right;\n",
       "    }\n",
       "</style>\n",
       "<table border=\"1\" class=\"dataframe\">\n",
       "  <thead>\n",
       "    <tr style=\"text-align: right;\">\n",
       "      <th></th>\n",
       "      <th>WMF_123_score</th>\n",
       "      <th>WMF_456_score</th>\n",
       "      <th>WMF_789_score</th>\n",
       "      <th>WMF_888_score</th>\n",
       "      <th>WMF_999_score</th>\n",
       "      <th>WMF_k20_score</th>\n",
       "      <th>WMF_k30_score</th>\n",
       "      <th>WMF_k40_score</th>\n",
       "      <th>WMF_k50_score</th>\n",
       "    </tr>\n",
       "  </thead>\n",
       "  <tbody>\n",
       "    <tr>\n",
       "      <th>0</th>\n",
       "      <td>2.109998</td>\n",
       "      <td>2.071429</td>\n",
       "      <td>1.903534</td>\n",
       "      <td>2.302128</td>\n",
       "      <td>3.117219</td>\n",
       "      <td>2.806823</td>\n",
       "      <td>3.367875</td>\n",
       "      <td>4.242294</td>\n",
       "      <td>3.840917</td>\n",
       "    </tr>\n",
       "    <tr>\n",
       "      <th>1</th>\n",
       "      <td>2.791594</td>\n",
       "      <td>2.692412</td>\n",
       "      <td>2.421495</td>\n",
       "      <td>2.478934</td>\n",
       "      <td>2.736730</td>\n",
       "      <td>2.779788</td>\n",
       "      <td>2.640383</td>\n",
       "      <td>2.263831</td>\n",
       "      <td>2.303503</td>\n",
       "    </tr>\n",
       "    <tr>\n",
       "      <th>2</th>\n",
       "      <td>3.750995</td>\n",
       "      <td>3.385061</td>\n",
       "      <td>3.541965</td>\n",
       "      <td>3.757422</td>\n",
       "      <td>3.728073</td>\n",
       "      <td>4.114565</td>\n",
       "      <td>3.430787</td>\n",
       "      <td>3.497283</td>\n",
       "      <td>3.115823</td>\n",
       "    </tr>\n",
       "  </tbody>\n",
       "</table>\n",
       "</div>"
      ],
      "text/plain": [
       "   WMF_123_score  WMF_456_score  WMF_789_score  WMF_888_score  WMF_999_score  \\\n",
       "0       2.109998       2.071429       1.903534       2.302128       3.117219   \n",
       "1       2.791594       2.692412       2.421495       2.478934       2.736730   \n",
       "2       3.750995       3.385061       3.541965       3.757422       3.728073   \n",
       "\n",
       "   WMF_k20_score  WMF_k30_score  WMF_k40_score  WMF_k50_score  \n",
       "0       2.806823       3.367875       4.242294       3.840917  \n",
       "1       2.779788       2.640383       2.263831       2.303503  \n",
       "2       4.114565       3.430787       3.497283       3.115823  "
      ]
     },
     "metadata": {},
     "output_type": "display_data"
    },
    {
     "data": {
      "text/plain": [
       "'Target values'"
      ]
     },
     "metadata": {},
     "output_type": "display_data"
    },
    {
     "data": {
      "text/plain": [
       "0    4.0\n",
       "1    3.0\n",
       "2    4.0\n",
       "Name: rating, dtype: float64"
      ]
     },
     "metadata": {},
     "output_type": "display_data"
    },
    {
     "data": {
      "text/plain": [
       "'Inference Data'"
      ]
     },
     "metadata": {},
     "output_type": "display_data"
    },
    {
     "data": {
      "text/html": [
       "<div>\n",
       "<style scoped>\n",
       "    .dataframe tbody tr th:only-of-type {\n",
       "        vertical-align: middle;\n",
       "    }\n",
       "\n",
       "    .dataframe tbody tr th {\n",
       "        vertical-align: top;\n",
       "    }\n",
       "\n",
       "    .dataframe thead th {\n",
       "        text-align: right;\n",
       "    }\n",
       "</style>\n",
       "<table border=\"1\" class=\"dataframe\">\n",
       "  <thead>\n",
       "    <tr style=\"text-align: right;\">\n",
       "      <th></th>\n",
       "      <th>WMF_123_score</th>\n",
       "      <th>WMF_456_score</th>\n",
       "      <th>WMF_789_score</th>\n",
       "      <th>WMF_888_score</th>\n",
       "      <th>WMF_999_score</th>\n",
       "      <th>WMF_k20_score</th>\n",
       "      <th>WMF_k30_score</th>\n",
       "      <th>WMF_k40_score</th>\n",
       "      <th>WMF_k50_score</th>\n",
       "    </tr>\n",
       "  </thead>\n",
       "  <tbody>\n",
       "    <tr>\n",
       "      <th>0</th>\n",
       "      <td>2.109998</td>\n",
       "      <td>2.071429</td>\n",
       "      <td>1.903534</td>\n",
       "      <td>2.302128</td>\n",
       "      <td>3.117219</td>\n",
       "      <td>2.806823</td>\n",
       "      <td>3.367875</td>\n",
       "      <td>4.242294</td>\n",
       "      <td>3.840917</td>\n",
       "    </tr>\n",
       "    <tr>\n",
       "      <th>1</th>\n",
       "      <td>0.807329</td>\n",
       "      <td>1.295570</td>\n",
       "      <td>0.918373</td>\n",
       "      <td>0.553849</td>\n",
       "      <td>0.588498</td>\n",
       "      <td>-0.075745</td>\n",
       "      <td>-0.366928</td>\n",
       "      <td>-0.917656</td>\n",
       "      <td>0.786125</td>\n",
       "    </tr>\n",
       "    <tr>\n",
       "      <th>2</th>\n",
       "      <td>1.648487</td>\n",
       "      <td>1.456568</td>\n",
       "      <td>1.591698</td>\n",
       "      <td>1.270859</td>\n",
       "      <td>1.677644</td>\n",
       "      <td>2.485114</td>\n",
       "      <td>2.034434</td>\n",
       "      <td>2.333905</td>\n",
       "      <td>0.949877</td>\n",
       "    </tr>\n",
       "  </tbody>\n",
       "</table>\n",
       "</div>"
      ],
      "text/plain": [
       "   WMF_123_score  WMF_456_score  WMF_789_score  WMF_888_score  WMF_999_score  \\\n",
       "0       2.109998       2.071429       1.903534       2.302128       3.117219   \n",
       "1       0.807329       1.295570       0.918373       0.553849       0.588498   \n",
       "2       1.648487       1.456568       1.591698       1.270859       1.677644   \n",
       "\n",
       "   WMF_k20_score  WMF_k30_score  WMF_k40_score  WMF_k50_score  \n",
       "0       2.806823       3.367875       4.242294       3.840917  \n",
       "1      -0.075745      -0.366928      -0.917656       0.786125  \n",
       "2       2.485114       2.034434       2.333905       0.949877  "
      ]
     },
     "metadata": {},
     "output_type": "display_data"
    }
   ],
   "source": [
    "# First, lets create training and test data dataframes\n",
    "training_df = pd.DataFrame(zip(*train_set.uir_tuple)) # Add 'User Index', 'Item Index', 'Rating' triples as records in dataframe\n",
    "training_df.columns = ['user_idx', 'item_idx', 'rating'] # Set column names\n",
    "\n",
    "# Get all possible user_index, item_index combinations, add them into dataframe for inference\n",
    "all_df = pd.DataFrame({\n",
    "    \"user_idx\": [user_idx for user_idx in range(train_set.num_users) for _ in range(train_set.num_items)],\n",
    "    \"item_idx\": [item_idx for _ in range(train_set.num_users) for item_idx in range(train_set.num_items)],\n",
    "})\n",
    "all_df['item_id'] = all_df.apply(lambda row: item_idx2id[int(row['item_idx'])], axis=1) # Add 'Item ID' column into dataframe by converting 'Item Index' to 'Item ID'\n",
    "\n",
    "# Lets get all the scores for the models trained in Part 3.\n",
    "models = [wmf_model_123, wmf_model_456, wmf_model_789, wmf_model_888, wmf_model_999, wmf_model_k20, wmf_model_k30, wmf_model_k40, wmf_model_k50]\n",
    "\n",
    "# For each model, we add individual predicted ratings by individual models to training and test dataframes\n",
    "for model in tqdm(models):\n",
    "    name = model.name\n",
    "    training_df[name + \"_score\"] = training_df.apply(lambda row: model.score(int(row['user_idx']), int(row['item_idx'])), axis=1) # for training\n",
    "    all_df[name + \"_score\"] = all_df.apply(lambda row: model.score(int(row['user_idx']), int(row['item_idx'])), axis=1) # for inference\n",
    "\n",
    "# Let's pick out the 5 features - predicted ratings from the 5 models trained\n",
    "X_train = training_df[['WMF_123_score', 'WMF_456_score', 'WMF_789_score', 'WMF_888_score', 'WMF_999_score', 'WMF_k20_score', 'WMF_k30_score', 'WMF_k40_score', 'WMF_k50_score']] # use these predicted ratings as features\n",
    "y_train = training_df['rating'] # use ground truth to train this linear regression model\n",
    "X_inference = all_df[['WMF_123_score', 'WMF_456_score', 'WMF_789_score', 'WMF_888_score', 'WMF_999_score', 'WMF_k20_score', 'WMF_k30_score', 'WMF_k40_score', 'WMF_k50_score']] # all data, used to predict values for ranking\n",
    "\n",
    "display(\"Training features\", X_train.head(3)) # predicting ratings as features\n",
    "display(\"Target values\", y_train.head(3)) # ground truth ratings\n",
    "display(\"Inference Data\", X_inference.head(3)) # all inference data "
   ]
  },
  {
   "cell_type": "markdown",
   "id": "3fc8a785",
   "metadata": {},
   "source": [
    "Now that we have already prepared the data for fitting into a **scikit-learn** model, let's first try to train a Linear Regression model"
   ]
  },
  {
   "cell_type": "markdown",
   "id": "7a75e842",
   "metadata": {},
   "source": [
    "##### 4.2 Fitting Linear Regression Model"
   ]
  },
  {
   "cell_type": "code",
   "execution_count": 33,
   "id": "16a564bd",
   "metadata": {},
   "outputs": [
    {
     "name": "stdout",
     "output_type": "stream",
     "text": [
      "Coefficients of the linear regression model\n",
      "[-0.03534374  0.05045098 -0.09062641 -0.05270565 -0.12603936 -0.1051683\n",
      "  0.13939755  0.48237574  0.8496893 ]\n",
      "0.0\n"
     ]
    }
   ],
   "source": [
    "UIDX = 3\n",
    "TOPK = 50\n",
    "\n",
    "# Let's now fit into a Linear Regression model\n",
    "regr = linear_model.LinearRegression(fit_intercept=False) # force model to only use predictions from WMF models\n",
    "regr.fit(X_train, y_train) # train the model\n",
    "\n",
    "# Input: 9 base model predicted ratings. Output: final predicted rating based on linear regression\n",
    "y_pred = regr.predict(X_inference) # Get predictions based on trained model\n",
    "\n",
    "all_df[\"WMF Linear Regression\"] = y_pred # create a column in `test_df` for the predictions\n",
    "\n",
    "# Get Top K ratings from predictions\n",
    "sorted_df = all_df.sort_values(\"WMF Linear Regression\", ascending=False) # sort by predicted ratings\n",
    "top_item_ids = sorted_df[sorted_df['user_idx'] == UIDX]['item_id'].values[:TOPK] # filter top K (50 as set in Section 2.3)\n",
    "\n",
    "# Place them into the comparison distribution dataframe\n",
    "linear_regression_df = item_df.loc[[int(i) for i in top_item_ids]] # Get genres of ratings\n",
    "combined_df[\"WMF Linear Regression Sum\"] = linear_regression_df.select_dtypes(np.number).sum() # group by genre and sum them up\n",
    "combined_df[\"WMF Linear Regression %\"] = combined_df[\"WMF Linear Regression Sum\"] / TOPK * 100 # get percentages of (genre sum / whole sum)\n",
    "\n",
    "combined_df[\"WMF Linear Regression %\"] = combined_df[\"WMF Linear Regression %\"].round(1) # round values for readability\n",
    "\n",
    "print(\"Coefficients of the linear regression model\")\n",
    "print(regr.coef_) # coefficients of the linear regression model\n",
    "print(regr.intercept_) # intercept of the linear regression model"
   ]
  },
  {
   "cell_type": "markdown",
   "id": "048c684f",
   "metadata": {},
   "source": [
    "Coefficients of the Linear Regression model indicate the importance of each base model in the ensemble. A higher coefficient suggests that the model plays a more significant role in the final prediction.\n",
    "\n",
    "The coefficients from the model indicate that the `WMF_k50` model received the highest weight, suggesting it plays a significant role in the final predictions.\n",
    "\n",
    "We have successfully trained a **Linear Regression** model using the predictions from the 9 WMF base models, which included variations with different seeds and latent factors.\n",
    "\n",
    "Next, let's proceed to train a **Random Forest Regressor** model."
   ]
  },
  {
   "cell_type": "markdown",
   "id": "d6bed0bc-f6c1-43fc-9c4b-acb56bcae554",
   "metadata": {},
   "source": [
    "##### 4.3 Fitting the Random Forest Model\n",
    "\n",
    "We will use the same training data to fit a **Random Forest Regressor** model.\n",
    "\n",
    "While we are using a Random Forest in this example, we also have the option to experiment with other models, such as Gradient Boosting and others, to see how they perform."
   ]
  },
  {
   "cell_type": "code",
   "execution_count": 52,
   "id": "0fe095ce",
   "metadata": {},
   "outputs": [
    {
     "data": {
      "text/plain": [
       "'Combined Recommendations Distribution'"
      ]
     },
     "metadata": {},
     "output_type": "display_data"
    },
    {
     "data": {
      "text/html": [
       "<div>\n",
       "<style scoped>\n",
       "    .dataframe tbody tr th:only-of-type {\n",
       "        vertical-align: middle;\n",
       "    }\n",
       "\n",
       "    .dataframe tbody tr th {\n",
       "        vertical-align: top;\n",
       "    }\n",
       "\n",
       "    .dataframe thead th {\n",
       "        text-align: right;\n",
       "    }\n",
       "</style>\n",
       "<table border=\"1\" class=\"dataframe\">\n",
       "  <thead>\n",
       "    <tr style=\"text-align: right;\">\n",
       "      <th></th>\n",
       "      <th>Train Data %</th>\n",
       "      <th>WMF %</th>\n",
       "      <th>WMF Borda Count %</th>\n",
       "      <th>WMF Linear Regression %</th>\n",
       "      <th>WMF Random Forest %</th>\n",
       "    </tr>\n",
       "  </thead>\n",
       "  <tbody>\n",
       "    <tr>\n",
       "      <th>Drama</th>\n",
       "      <td>22.6</td>\n",
       "      <td>52.0</td>\n",
       "      <td>40.0</td>\n",
       "      <td>54.0</td>\n",
       "      <td>60.0</td>\n",
       "    </tr>\n",
       "    <tr>\n",
       "      <th>Comedy</th>\n",
       "      <td>13.9</td>\n",
       "      <td>42.0</td>\n",
       "      <td>44.0</td>\n",
       "      <td>24.0</td>\n",
       "      <td>26.0</td>\n",
       "    </tr>\n",
       "    <tr>\n",
       "      <th>Romance</th>\n",
       "      <td>10.8</td>\n",
       "      <td>36.0</td>\n",
       "      <td>44.0</td>\n",
       "      <td>24.0</td>\n",
       "      <td>24.0</td>\n",
       "    </tr>\n",
       "    <tr>\n",
       "      <th>Action</th>\n",
       "      <td>10.6</td>\n",
       "      <td>16.0</td>\n",
       "      <td>24.0</td>\n",
       "      <td>26.0</td>\n",
       "      <td>22.0</td>\n",
       "    </tr>\n",
       "    <tr>\n",
       "      <th>Thriller</th>\n",
       "      <td>9.7</td>\n",
       "      <td>14.0</td>\n",
       "      <td>18.0</td>\n",
       "      <td>24.0</td>\n",
       "      <td>18.0</td>\n",
       "    </tr>\n",
       "    <tr>\n",
       "      <th>Adventure</th>\n",
       "      <td>6.9</td>\n",
       "      <td>10.0</td>\n",
       "      <td>16.0</td>\n",
       "      <td>18.0</td>\n",
       "      <td>16.0</td>\n",
       "    </tr>\n",
       "    <tr>\n",
       "      <th>Children's</th>\n",
       "      <td>4.4</td>\n",
       "      <td>4.0</td>\n",
       "      <td>4.0</td>\n",
       "      <td>4.0</td>\n",
       "      <td>2.0</td>\n",
       "    </tr>\n",
       "    <tr>\n",
       "      <th>War</th>\n",
       "      <td>3.9</td>\n",
       "      <td>10.0</td>\n",
       "      <td>14.0</td>\n",
       "      <td>8.0</td>\n",
       "      <td>6.0</td>\n",
       "    </tr>\n",
       "    <tr>\n",
       "      <th>Crime</th>\n",
       "      <td>3.9</td>\n",
       "      <td>2.0</td>\n",
       "      <td>4.0</td>\n",
       "      <td>8.0</td>\n",
       "      <td>6.0</td>\n",
       "    </tr>\n",
       "    <tr>\n",
       "      <th>Sci-Fi</th>\n",
       "      <td>3.5</td>\n",
       "      <td>8.0</td>\n",
       "      <td>16.0</td>\n",
       "      <td>6.0</td>\n",
       "      <td>4.0</td>\n",
       "    </tr>\n",
       "  </tbody>\n",
       "</table>\n",
       "</div>"
      ],
      "text/plain": [
       "            Train Data %  WMF %  WMF Borda Count %  WMF Linear Regression %  \\\n",
       "Drama               22.6   52.0               40.0                     54.0   \n",
       "Comedy              13.9   42.0               44.0                     24.0   \n",
       "Romance             10.8   36.0               44.0                     24.0   \n",
       "Action              10.6   16.0               24.0                     26.0   \n",
       "Thriller             9.7   14.0               18.0                     24.0   \n",
       "Adventure            6.9   10.0               16.0                     18.0   \n",
       "Children's           4.4    4.0                4.0                      4.0   \n",
       "War                  3.9   10.0               14.0                      8.0   \n",
       "Crime                3.9    2.0                4.0                      8.0   \n",
       "Sci-Fi               3.5    8.0               16.0                      6.0   \n",
       "\n",
       "            WMF Random Forest %  \n",
       "Drama                      60.0  \n",
       "Comedy                     26.0  \n",
       "Romance                    24.0  \n",
       "Action                     22.0  \n",
       "Thriller                   18.0  \n",
       "Adventure                  16.0  \n",
       "Children's                  2.0  \n",
       "War                         6.0  \n",
       "Crime                       6.0  \n",
       "Sci-Fi                      4.0  "
      ]
     },
     "metadata": {},
     "output_type": "display_data"
    }
   ],
   "source": [
    "UIDX = 3\n",
    "TOPK = 50\n",
    "\n",
    "# Let's now train a Random Forest model\n",
    "randomforest_model = RandomForestRegressor(n_estimators=30, random_state=42) \n",
    "randomforest_model.fit(X_train, y_train) # Train the model\n",
    "\n",
    "# Input: 5 base model predicted ratings. Output: final predicted rating based on random forest\n",
    "y_pred = randomforest_model.predict(X_inference)\n",
    "\n",
    "all_df[\"WMF Random Forest\"] = y_pred # create a column in `all_df` for the predictions\n",
    "\n",
    "# Get Top K ratings from predictions\n",
    "sorted_df = all_df.sort_values(\"WMF Random Forest\", ascending=False) # sort by predicted ratings\n",
    "top_item_ids = sorted_df[sorted_df['user_idx'] == UIDX]['item_id'].values[:TOPK] # filter top K (50 as set in Section 2.3)\n",
    "\n",
    "# Place them into the comparison distribution dataframe\n",
    "random_forest_df = item_df.loc[[int(i) for i in top_item_ids]] # Get genres of ratings\n",
    "combined_df[\"WMF Random Forest Sum\"] = random_forest_df.select_dtypes(np.number).sum() # group by genre and sum them up\n",
    "combined_df[\"WMF Random Forest %\"] = combined_df[\"WMF Random Forest Sum\"] / TOPK * 100 # get percentages of (genre sum / whole sum)\n",
    "\n",
    "combined_df[\"WMF Random Forest %\"] = combined_df[\"WMF Random Forest %\"].round(1) # round values for readability\n",
    "\n",
    "# Now let's take a look at how the genre distribution is\n",
    "display(\"Combined Recommendations Distribution\", combined_df[[\"Train Data %\", \"WMF %\", \"WMF Borda Count %\", \"WMF Linear Regression %\", \"WMF Random Forest %\"]][:10])"
   ]
  },
  {
   "cell_type": "markdown",
   "id": "7fa25cc1",
   "metadata": {},
   "source": [
    "\n",
    "\n",
    "We have also successfully trained a **Random Forest Regressor** model using the predictions from the 9 WMF base models, which included variations with different seeds and latent factors.\n",
    "\n",
    "The distribution of the results indicates that these ensemble models leveraged the base model predictions in different ways to generate the final predictions.\n",
    "\n",
    "---\n",
    "\n",
    "In the next section, we will compare the results of the various models to evaluate their performance."
   ]
  },
  {
   "cell_type": "markdown",
   "id": "c6ac3d4e",
   "metadata": {},
   "source": [
    "## 5. Further Evaluation"
   ]
  },
  {
   "cell_type": "markdown",
   "id": "2d02a252",
   "metadata": {},
   "source": [
    "In the beginning, we have split the dataset into training and testing sets. Now, we will evaluate the performance of the ensemble models using **Precision@50** and **Recall@50** metrics.\n",
    "\n",
    "We will use the test set to evaluate the models. \n",
    "\n",
    "### 5.1 Preparing the Data"
   ]
  },
  {
   "cell_type": "code",
   "execution_count": 35,
   "id": "553f4f32",
   "metadata": {},
   "outputs": [
    {
     "name": "stderr",
     "output_type": "stream",
     "text": [
      "  0%|          | 0/11 [00:00<?, ?it/s]"
     ]
    },
    {
     "name": "stderr",
     "output_type": "stream",
     "text": [
      "100%|██████████| 11/11 [03:33<00:00, 19.39s/it]\n"
     ]
    }
   ],
   "source": [
    "rank_df = pd.DataFrame({\n",
    "    \"user_idx\": all_df[\"user_idx\"],\n",
    "    \"item_idx\": all_df[\"item_idx\"],\n",
    "})\n",
    "\n",
    "total_items = train_set.num_items # 1651 items\n",
    "\n",
    "models_to_calculate = [bpr_model, wmf_model, wmf_model_123, wmf_model_456, wmf_model_789, wmf_model_888, wmf_model_999, wmf_model_k20, wmf_model_k30, wmf_model_k40, wmf_model_k50]\n",
    "\n",
    "# Calculate points for each model using the Borda count process.\n",
    "# Take note that points should be calculated on a per user basis.\n",
    "for model in tqdm(models_to_calculate):\n",
    "    name = model.name\n",
    "    rank_df[name + \"_score\"] = rank_df.apply(lambda row: model.score(int(row['user_idx']), int(row['item_idx'])), axis=1)\n",
    "    point_list = [] # This list will be added into the dataframe later\n",
    "\n",
    "    # Calculate points for each user\n",
    "    for user_idx in range(train_set.num_users):\n",
    "        sub_rank_df = rank_df[rank_df[\"user_idx\"] == user_idx].copy() # get all items for a user\n",
    "        sub_rank_df.loc[:, name + \"_rank\"] = sub_rank_df[name + \"_score\"].rank(ascending=False).astype(int)  # Rank items\n",
    "        sub_rank_df.loc[:, name + \"_points\"] = total_items - sub_rank_df[name + \"_rank\"]  # Calculate points\n",
    "        point_list.extend(sub_rank_df[name + \"_points\"].values.tolist())  # Add points to the list\n",
    "    \n",
    "    rank_df[name + \"_points\"] = point_list\n"
   ]
  },
  {
   "cell_type": "markdown",
   "id": "04f63b15",
   "metadata": {},
   "source": [
    "This is how you calculate Borda Count scores for all users.\n",
    "\n",
    "Once we have the scores calculated, we will sum them up according to the Borda Count formula outlined in Sections 2 and 3.\n",
    "\n",
    "**Simple Borda Count**:  \n",
    "To clarify, our basic Borda Count model includes the **BPR Model** and the **WMF Model**.\n",
    "\n",
    "**WMF Borda Count**:  \n",
    "The `WMF Borda Count` model, on the other hand, consists of multiple variations:\n",
    "- Models initialized with different random seeds: **wmf_model_123**, **wmf_model_456**, **wmf_model_789**, **wmf_model_888**, and **wmf_model_999**.\n",
    "- Models with different latent factors: **wmf_model_k20**, **wmf_model_k30**, **wmf_model_k40**, and **wmf_model_k50**."
   ]
  },
  {
   "cell_type": "code",
   "execution_count": 36,
   "id": "240fec5f",
   "metadata": {},
   "outputs": [],
   "source": [
    "borda_count_models = [bpr_model, wmf_model]\n",
    "rank_df[\"Borda Count\"] = rank_df[[model.name + \"_points\" for model in borda_count_models]].sum(axis=1) # Sum up points of BPR and WMF\n",
    "\n",
    "wmf_borda_count_models = [wmf_model_123, wmf_model_456, wmf_model_789, wmf_model_888, wmf_model_999, wmf_model_k20, wmf_model_k30, wmf_model_k40, wmf_model_k50]\n",
    "rank_df[\"WMF Borda Count\"] = rank_df[[model.name + \"_points\" for model in wmf_borda_count_models]].sum(axis=1) # Sum up points of all WMF models\n",
    "\n",
    "# Now, lets add them into the `all_df` dataframe for comparison\n",
    "all_df.sort_values(by=[\"user_idx\", \"item_idx\"], inplace=True) # ensure that the dataframe is sorted by user index and item index\n",
    "\n",
    "all_df[\"BPR_score\"] = rank_df[\"BPR_score\"].values\n",
    "all_df[\"WMF_score\"] = rank_df[\"WMF_score\"].values\n",
    "\n",
    "all_df[\"Borda Count\"] = rank_df[\"Borda Count\"].values\n",
    "all_df[\"WMF Borda Count\"] = rank_df[\"WMF Borda Count\"].values"
   ]
  },
  {
   "cell_type": "markdown",
   "id": "b728ef78",
   "metadata": {},
   "source": [
    "Now that we have all model scores in the same table. Let's calculate the same **Precision@K** and **Recall@K** values as run in the experiments.\n",
    "\n",
    "We do this by manually calculating recall values with the respective formulas.\n",
    "\n",
    "### 5.2 Results for Borda Count of BPR and WMF\n",
    "\n",
    "We calculate the **Precision@50** and **Recall@50** values for the Borda Count model, which combines the BPR and WMF models."
   ]
  },
  {
   "cell_type": "code",
   "execution_count": 38,
   "id": "916b390b",
   "metadata": {},
   "outputs": [
    {
     "name": "stderr",
     "output_type": "stream",
     "text": [
      "100%|██████████| 3/3 [00:14<00:00,  4.86s/it]\n"
     ]
    },
    {
     "data": {
      "text/plain": [
       "'Base BPR, WMF comparison with Borda Count (BPR + WMF)'"
      ]
     },
     "metadata": {},
     "output_type": "display_data"
    },
    {
     "data": {
      "text/html": [
       "<div>\n",
       "<style scoped>\n",
       "    .dataframe tbody tr th:only-of-type {\n",
       "        vertical-align: middle;\n",
       "    }\n",
       "\n",
       "    .dataframe tbody tr th {\n",
       "        vertical-align: top;\n",
       "    }\n",
       "\n",
       "    .dataframe thead th {\n",
       "        text-align: right;\n",
       "    }\n",
       "</style>\n",
       "<table border=\"1\" class=\"dataframe\">\n",
       "  <thead>\n",
       "    <tr style=\"text-align: right;\">\n",
       "      <th></th>\n",
       "      <th>Metrics</th>\n",
       "      <th>BPR_score</th>\n",
       "      <th>WMF_score</th>\n",
       "      <th>Borda Count</th>\n",
       "    </tr>\n",
       "  </thead>\n",
       "  <tbody>\n",
       "    <tr>\n",
       "      <th>0</th>\n",
       "      <td>Precision@50</td>\n",
       "      <td>0.099574</td>\n",
       "      <td>0.103213</td>\n",
       "      <td>0.103043</td>\n",
       "    </tr>\n",
       "    <tr>\n",
       "      <th>1</th>\n",
       "      <td>Recall@50</td>\n",
       "      <td>0.363850</td>\n",
       "      <td>0.372319</td>\n",
       "      <td>0.374389</td>\n",
       "    </tr>\n",
       "  </tbody>\n",
       "</table>\n",
       "</div>"
      ],
      "text/plain": [
       "        Metrics  BPR_score  WMF_score  Borda Count\n",
       "0  Precision@50   0.099574   0.103213     0.103043\n",
       "1     Recall@50   0.363850   0.372319     0.374389"
      ]
     },
     "metadata": {},
     "output_type": "display_data"
    }
   ],
   "source": [
    "models = [\"BPR_score\", \"WMF_score\", \"Borda Count\"]\n",
    "\n",
    "result_data = {\n",
    "    \"Metrics\": [\"Precision@50\", \"Recall@50\"],\n",
    "}\n",
    "\n",
    "test_users = set(test_set.uir_tuple[0])\n",
    "for model in tqdm(models):\n",
    "    sorted_df = all_df.sort_values(model, ascending=False) # sort by predicted ratings\n",
    "    precisions, recalls = [], []\n",
    "    \n",
    "    for uidx in test_users:\n",
    "        true_top_k = test_set.user_data[uidx][0] # ground truth data\n",
    "        predicted_top_k = sorted_df[sorted_df['user_idx'] == uidx]['item_idx'].values[:TOPK].astype(int)\n",
    "        # Precision@K\n",
    "        precision = len(set(true_top_k) & set(predicted_top_k)) / len(predicted_top_k)\n",
    "        precisions.append(precision)\n",
    "        # Recall@K\n",
    "        recall = len(set(true_top_k) & set(predicted_top_k)) / len(true_top_k)\n",
    "        recalls.append(recall)\n",
    "        \n",
    "    result_data[model] = [np.mean(precisions), np.mean(recalls)]\n",
    "    # result_df[f\"Recall@{TOPK}\"].append(np.mean(recalls))\n",
    "\n",
    "# Now let's take a look at the results\n",
    "result_df = pd.DataFrame(result_data)\n",
    "\n",
    "display(\"Base BPR, WMF comparison with Borda Count (BPR + WMF)\", result_df[[\"Metrics\", \"BPR_score\", \"WMF_score\", \"Borda Count\"]])"
   ]
  },
  {
   "cell_type": "markdown",
   "id": "0fb0e717",
   "metadata": {},
   "source": [
    "### 5.3 Results for WMF Related Models\n",
    "\n",
    "We calculate the **Precision@50** and **Recall@50** values for the WMF related models."
   ]
  },
  {
   "cell_type": "code",
   "execution_count": 53,
   "id": "7188ca7d",
   "metadata": {},
   "outputs": [
    {
     "name": "stderr",
     "output_type": "stream",
     "text": [
      "100%|██████████| 3/3 [00:13<00:00,  4.44s/it]\n"
     ]
    },
    {
     "data": {
      "text/plain": [
       "'WMF Models Comparison'"
      ]
     },
     "metadata": {},
     "output_type": "display_data"
    },
    {
     "data": {
      "text/html": [
       "<div>\n",
       "<style scoped>\n",
       "    .dataframe tbody tr th:only-of-type {\n",
       "        vertical-align: middle;\n",
       "    }\n",
       "\n",
       "    .dataframe tbody tr th {\n",
       "        vertical-align: top;\n",
       "    }\n",
       "\n",
       "    .dataframe thead th {\n",
       "        text-align: right;\n",
       "    }\n",
       "</style>\n",
       "<table border=\"1\" class=\"dataframe\">\n",
       "  <thead>\n",
       "    <tr style=\"text-align: right;\">\n",
       "      <th></th>\n",
       "      <th>Metrics</th>\n",
       "      <th>WMF Borda Count</th>\n",
       "      <th>WMF Linear Regression</th>\n",
       "      <th>WMF Random Forest</th>\n",
       "    </tr>\n",
       "  </thead>\n",
       "  <tbody>\n",
       "    <tr>\n",
       "      <th>0</th>\n",
       "      <td>Precision@50</td>\n",
       "      <td>0.099894</td>\n",
       "      <td>0.075894</td>\n",
       "      <td>0.06917</td>\n",
       "    </tr>\n",
       "    <tr>\n",
       "      <th>1</th>\n",
       "      <td>Recall@50</td>\n",
       "      <td>0.379790</td>\n",
       "      <td>0.312299</td>\n",
       "      <td>0.28381</td>\n",
       "    </tr>\n",
       "  </tbody>\n",
       "</table>\n",
       "</div>"
      ],
      "text/plain": [
       "        Metrics  WMF Borda Count  WMF Linear Regression  WMF Random Forest\n",
       "0  Precision@50         0.099894               0.075894            0.06917\n",
       "1     Recall@50         0.379790               0.312299            0.28381"
      ]
     },
     "metadata": {},
     "output_type": "display_data"
    }
   ],
   "source": [
    "models = [\"WMF Borda Count\", \"WMF Linear Regression\", \"WMF Random Forest\"]\n",
    "\n",
    "result_data = {\n",
    "    \"Metrics\": [\"Precision@50\", \"Recall@50\"],\n",
    "}\n",
    "\n",
    "test_users = set(test_set.uir_tuple[0])\n",
    "for model in tqdm(models):\n",
    "    sorted_df = all_df.sort_values(model, ascending=False) # sort by predicted ratings\n",
    "    precisions, recalls = [], []\n",
    "    \n",
    "    for uidx in test_users:\n",
    "        true_top_k = test_set.user_data[uidx][0] # ground truth data\n",
    "        predicted_top_k = sorted_df[sorted_df['user_idx'] == uidx]['item_idx'].values[:TOPK].astype(int)\n",
    "        # Precision@K\n",
    "        precision = len(set(true_top_k) & set(predicted_top_k)) / len(predicted_top_k)\n",
    "        precisions.append(precision)\n",
    "        # Recall@K\n",
    "        recall = len(set(true_top_k) & set(predicted_top_k)) / len(true_top_k)\n",
    "        recalls.append(recall)\n",
    "        \n",
    "    result_data[model] = [np.mean(precisions), np.mean(recalls)]\n",
    "    # result_df[f\"Recall@{TOPK}\"].append(np.mean(recalls))\n",
    "\n",
    "# Now let's take a look at the results\n",
    "result_df = pd.DataFrame(result_data)\n",
    "\n",
    "display(\"WMF Models Comparison\", result_df[[\"Metrics\", \"WMF Borda Count\", \"WMF Linear Regression\", \"WMF Random Forest\"]])"
   ]
  },
  {
   "cell_type": "markdown",
   "id": "42885a8b",
   "metadata": {},
   "source": [
    "With the results in hand, we can now compare the performance of the ensemble models against the individual base models.\n",
    "\n",
    "During the development of these models, we find that there are many ways to experiment about to improve the models. However, there is also a risk of overfitting the model to the training data.\n",
    "\n",
    "It is important to evaluate the models on the test set to ensure that they generalize well to unseen data."
   ]
  },
  {
   "cell_type": "markdown",
   "id": "da02e512-2e13-43f5-8bfa-c0f14bb44fbe",
   "metadata": {},
   "source": [
    "## 6. Conclusion\n",
    "\n",
    "Our results show that **Precision@50** and **Recall@50** can vary significantly across models and ensembling techniques. There’s no one-size-fits-all solution—different datasets may favor different models or ensembles.\n",
    "\n",
    "### Key Takeaways\n",
    "\n",
    "Testing multiple models and ensemble techniques helps find the best approach for each dataset. While ensembling can improve accuracy, results will depend on how well models complement each other.\n",
    "\n",
    "- **Try Different Base Models**: Cornac offers a variety of models; experimenting with each helps reveal what works best.\n",
    "- **Explore Ensembling Methods**: Beyond Borda Count, techniques like averaging or stacking may yield better results.\n",
    "- **Adjust Model Parameters**: Tuning settings can optimize individual models and enhance ensemble performance.\n",
    "- **Balance Diversity and Simplicity**: Borda Count’s ability to combine diverse predictions can help, but may not always outperform simpler methods.\n",
    "\n",
    "### Considerations for Model Ensembling\n",
    "\n",
    "- **Performance vs. Resources**: Ensembles often require more computation, so it’s important to balance resource use with performance gains.\n",
    "- **Know When Not to Ensemble**: In some cases, a single well-tuned model may work as well as, or even better than, an ensemble.\n",
    "\n",
    "### Questions for Further Exploration\n",
    "\n",
    "- Which base models and configurations perform best?\n",
    "- What makes an ensemble effective?\n",
    "- When should simpler, single models be preferred?\n",
    "\n",
    "These questions guide future experiments as we continue improving recommendation systems."
   ]
  }
 ],
 "metadata": {
  "kernelspec": {
   "display_name": "gcmc-pytorch",
   "language": "python",
   "name": "python3"
  },
  "language_info": {
   "codemirror_mode": {
    "name": "ipython",
    "version": 3
   },
   "file_extension": ".py",
   "mimetype": "text/x-python",
   "name": "python",
   "nbconvert_exporter": "python",
   "pygments_lexer": "ipython3",
   "version": "3.11.3"
  }
 },
 "nbformat": 4,
 "nbformat_minor": 5
}
