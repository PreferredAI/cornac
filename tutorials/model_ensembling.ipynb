{
 "cells": [
  {
   "cell_type": "markdown",
   "id": "c9004b98-e34b-4ce3-bfb3-bb2ddba0f125",
   "metadata": {},
   "source": [
    "*Copyright (c) Cornac Authors. All rights reserved.*\n",
    "\n",
    "*Licensed under the Apache 2.0 License.*\n",
    "\n",
    "# Model Ensembling"
   ]
  },
  {
   "cell_type": "markdown",
   "id": "faed055c",
   "metadata": {},
   "source": [
    "<table class=\"tfo-notebook-buttons\" align=\"left\">\n",
    "  <td>\n",
    "    <a target=\"_blank\" href=\"https://colab.research.google.com/github/PreferredAI/cornac/blob/master/tutorials/model_ensembling.ipynb\"><img src=\"https://www.tensorflow.org/images/colab_logo_32px.png\" />Run in Google Colab</a>\n",
    "  </td>\n",
    "  <td>\n",
    "    <a target=\"_blank\" href=\"https://github.com/PreferredAI/cornac/blob/master/tutorials/model_ensembling.ipynb\"><img src=\"https://www.tensorflow.org/images/GitHub-Mark-32px.png\" />View source on GitHub</a>\n",
    "  </td>\n",
    "</table>"
   ]
  },
  {
   "cell_type": "markdown",
   "id": "9c98761e-37fc-4407-b451-d59a68aecd83",
   "metadata": {},
   "source": [
    "This notebook provides an example of how to ensemble multiple recommendation models in Cornac.\n",
    "\n",
    "Ensemble models is a technique that combines the predictions of multiple models to produce a single prediction. The idea is that by combining the predictions of multiple models, we can improve the overall performance of the recommendation system.\n",
    "\n",
    "We will use the MovieLens 100K dataset and ensemble 2 models."
   ]
  },
  {
   "cell_type": "markdown",
   "id": "8bd6262f",
   "metadata": {},
   "source": [
    "** Note: ** This notebook requires the `scikit-learn` package. "
   ]
  },
  {
   "cell_type": "markdown",
   "id": "82295d13-46da-4e8e-a052-b420beb969e8",
   "metadata": {},
   "source": [
    "## 1. Setup"
   ]
  },
  {
   "cell_type": "markdown",
   "id": "db09b809",
   "metadata": {},
   "source": [
    "### Install required dependencies"
   ]
  },
  {
   "cell_type": "code",
   "execution_count": 1,
   "id": "89ef2804",
   "metadata": {},
   "outputs": [
    {
     "name": "stdout",
     "output_type": "stream",
     "text": [
      "Collecting seaborn\n",
      "  Downloading seaborn-0.13.2-py3-none-any.whl (294 kB)\n",
      "\u001b[2K     \u001b[90m━━━━━━━━━━━━━━━━━━━━━━━━━━━━━━━━━━━━━━\u001b[0m \u001b[32m294.9/294.9 kB\u001b[0m \u001b[31m12.1 MB/s\u001b[0m eta \u001b[36m0:00:00\u001b[0m\n",
      "\u001b[?25hRequirement already satisfied: scikit-learn in /home/darrylong/miniconda3/envs/cornac/lib/python3.9/site-packages (1.3.0)\n",
      "Requirement already satisfied: numpy!=1.24.0,>=1.20 in /home/darrylong/miniconda3/envs/cornac/lib/python3.9/site-packages (from seaborn) (1.24.3)\n",
      "Requirement already satisfied: pandas>=1.2 in /home/darrylong/miniconda3/envs/cornac/lib/python3.9/site-packages (from seaborn) (2.0.3)\n",
      "Requirement already satisfied: matplotlib!=3.6.1,>=3.4 in /home/darrylong/miniconda3/envs/cornac/lib/python3.9/site-packages/matplotlib-3.7.2-py3.9-linux-x86_64.egg (from seaborn) (3.7.2)\n",
      "Requirement already satisfied: scipy>=1.5.0 in /home/darrylong/miniconda3/envs/cornac/lib/python3.9/site-packages (from scikit-learn) (1.11.1)\n",
      "Requirement already satisfied: joblib>=1.1.1 in /home/darrylong/miniconda3/envs/cornac/lib/python3.9/site-packages (from scikit-learn) (1.3.1)\n",
      "Requirement already satisfied: threadpoolctl>=2.0.0 in /home/darrylong/miniconda3/envs/cornac/lib/python3.9/site-packages (from scikit-learn) (3.2.0)\n",
      "Requirement already satisfied: contourpy>=1.0.1 in /home/darrylong/miniconda3/envs/cornac/lib/python3.9/site-packages/contourpy-1.1.0-py3.9-linux-x86_64.egg (from matplotlib!=3.6.1,>=3.4->seaborn) (1.1.0)\n",
      "Requirement already satisfied: cycler>=0.10 in /home/darrylong/miniconda3/envs/cornac/lib/python3.9/site-packages/cycler-0.11.0-py3.9.egg (from matplotlib!=3.6.1,>=3.4->seaborn) (0.11.0)\n",
      "Requirement already satisfied: fonttools>=4.22.0 in /home/darrylong/miniconda3/envs/cornac/lib/python3.9/site-packages/fonttools-4.41.0-py3.9.egg (from matplotlib!=3.6.1,>=3.4->seaborn) (4.41.0)\n",
      "Requirement already satisfied: kiwisolver>=1.0.1 in /home/darrylong/miniconda3/envs/cornac/lib/python3.9/site-packages/kiwisolver-1.4.4-py3.9-linux-x86_64.egg (from matplotlib!=3.6.1,>=3.4->seaborn) (1.4.4)\n",
      "Requirement already satisfied: packaging>=20.0 in /home/darrylong/miniconda3/envs/cornac/lib/python3.9/site-packages (from matplotlib!=3.6.1,>=3.4->seaborn) (24.1)\n",
      "Requirement already satisfied: pillow>=6.2.0 in /home/darrylong/miniconda3/envs/cornac/lib/python3.9/site-packages/Pillow-10.0.0-py3.9-linux-x86_64.egg (from matplotlib!=3.6.1,>=3.4->seaborn) (10.0.0)\n",
      "Requirement already satisfied: pyparsing<3.1,>=2.3.1 in /home/darrylong/miniconda3/envs/cornac/lib/python3.9/site-packages/pyparsing-3.0.9-py3.9.egg (from matplotlib!=3.6.1,>=3.4->seaborn) (3.0.9)\n",
      "Requirement already satisfied: python-dateutil>=2.7 in /home/darrylong/miniconda3/envs/cornac/lib/python3.9/site-packages (from matplotlib!=3.6.1,>=3.4->seaborn) (2.9.0)\n",
      "Requirement already satisfied: importlib-resources>=3.2.0 in /home/darrylong/miniconda3/envs/cornac/lib/python3.9/site-packages/importlib_resources-6.0.0-py3.9.egg (from matplotlib!=3.6.1,>=3.4->seaborn) (6.0.0)\n",
      "Requirement already satisfied: pytz>=2020.1 in /home/darrylong/miniconda3/envs/cornac/lib/python3.9/site-packages (from pandas>=1.2->seaborn) (2023.3)\n",
      "Requirement already satisfied: tzdata>=2022.1 in /home/darrylong/miniconda3/envs/cornac/lib/python3.9/site-packages (from pandas>=1.2->seaborn) (2023.3)\n",
      "Requirement already satisfied: zipp>=3.1.0 in /home/darrylong/miniconda3/envs/cornac/lib/python3.9/site-packages/zipp-3.16.2-py3.9.egg (from importlib-resources>=3.2.0->matplotlib!=3.6.1,>=3.4->seaborn) (3.16.2)\n",
      "Requirement already satisfied: six>=1.5 in /home/darrylong/miniconda3/envs/cornac/lib/python3.9/site-packages (from python-dateutil>=2.7->matplotlib!=3.6.1,>=3.4->seaborn) (1.16.0)\n",
      "Installing collected packages: seaborn\n",
      "Successfully installed seaborn-0.13.2\n"
     ]
    }
   ],
   "source": [
    "! pip install seaborn scikit-learn"
   ]
  },
  {
   "cell_type": "code",
   "execution_count": 51,
   "id": "bd266ee7",
   "metadata": {},
   "outputs": [],
   "source": [
    "import numpy as np\n",
    "import pandas as pd\n",
    "import seaborn as sns\n",
    "\n",
    "from cornac.datasets import movielens\n",
    "from cornac.data import Dataset\n",
    "from cornac.models import BPR, WMF\n",
    "\n",
    "from sklearn.ensemble import BaggingRegressor, RandomForestRegressor, AdaBoostRegressor\n",
    "from sklearn.tree import DecisionTreeRegressor"
   ]
  },
  {
   "cell_type": "markdown",
   "id": "c5636df0-91c3-4b73-8c60-26d75b9bd6f6",
   "metadata": {},
   "source": [
    "## 2. Prepare Experiment\n",
    "\n",
    "### Loading Dataset\n",
    "\n",
    "First, we load the MovieLens 100K dataset."
   ]
  },
  {
   "cell_type": "code",
   "execution_count": 52,
   "id": "92a57076",
   "metadata": {},
   "outputs": [],
   "source": [
    "data = movielens.load_feedback(variant=\"100K\") # load dataset\n",
    "dataset = Dataset.from_uir(data) # convert to Dataset object"
   ]
  },
  {
   "cell_type": "markdown",
   "id": "2d37011e-1384-42cb-8ea0-4667784f952a",
   "metadata": {},
   "source": [
    "### Training BPR and WMF models\n",
    "\n",
    "We will train two models: \n",
    "\n",
    "1. BPR (Bayesian Personalized Ranking)\n",
    "2. WMF (Weighted Matrix Factorization)"
   ]
  },
  {
   "cell_type": "code",
   "execution_count": 53,
   "id": "ea466b90",
   "metadata": {},
   "outputs": [
    {
     "name": "stderr",
     "output_type": "stream",
     "text": [
      "100%|██████████| 100/100 [00:04<00:00, 23.59it/s, loss=107]  \n"
     ]
    },
    {
     "name": "stdout",
     "output_type": "stream",
     "text": [
      "Learning completed!\n"
     ]
    },
    {
     "data": {
      "text/plain": [
       "<cornac.models.wmf.recom_wmf.WMF at 0x7f2f68022850>"
      ]
     },
     "execution_count": 53,
     "metadata": {},
     "output_type": "execute_result"
    }
   ],
   "source": [
    "# Train BPR model\n",
    "bpr_model = BPR(k=10, max_iter=100, learning_rate=0.01, lambda_reg=0.001)\n",
    "bpr_model.fit(dataset)\n",
    "\n",
    "# Train WMF model\n",
    "wmf_model = WMF(k=10, max_iter=100, a=1.0, b=0.01, learning_rate=0.001, lambda_u=0.01, lambda_v=0.01,)\n",
    "wmf_model.fit(dataset)"
   ]
  },
  {
   "cell_type": "markdown",
   "id": "d6bed0bc-f6c1-43fc-9c4b-acb56bcae554",
   "metadata": {},
   "source": [
    "### Reviewing Individual Trained Models\n",
    "\n",
    "These models are trained and evaluated individually. The scores of the models will be used to ensemble the models.\n",
    "\n",
    "Let's see what the prediction scores of user index 0 looks like.\n",
    "Take note that user index '0' may not correspond to user ID '0', depending on how the dataset is loaded.\n",
    "\n",
    "This prints scores of all items for user index 0. The higher the score, the more likely the user will like the item."
   ]
  },
  {
   "cell_type": "code",
   "execution_count": 54,
   "id": "0fe095ce",
   "metadata": {},
   "outputs": [
    {
     "name": "stdout",
     "output_type": "stream",
     "text": [
      "BPR scores for user idx 0: [ 3.1180067  3.2947896 -0.8666828 ... -1.8775543 -2.0990407 -1.9722794]\n",
      "WMF scores for user idx 0: [3.513375   3.7615533  1.1817346  ... 0.23760092 0.23549344 0.25031105]\n"
     ]
    }
   ],
   "source": [
    "# get item ids scores\n",
    "print(\"BPR scores for user idx 0:\", bpr_model.score(0)) # get BPR scores of user idx 0\n",
    "print(\"WMF scores for user idx 0:\", wmf_model.score(0)) # get WMF scores of user idx 0"
   ]
  },
  {
   "cell_type": "markdown",
   "id": "60b33ffd-fb38-42bf-976f-aec8dd5ca640",
   "metadata": {},
   "source": [
    "## 3. Perform Model Ensembling\n",
    "\n",
    "Prepare the data for the ensemble model. We will use the predictions of the individual models as features for the ensemble model."
   ]
  },
  {
   "cell_type": "code",
   "execution_count": 55,
   "id": "f2d279b0",
   "metadata": {},
   "outputs": [
    {
     "name": "stdout",
     "output_type": "stream",
     "text": [
      "BPR scores shape: (1682,)\n",
      "WMF scores shape: (1682,)\n",
      "(3364, 2) (3364,)\n"
     ]
    }
   ],
   "source": [
    "# Get all scores\n",
    "\n",
    "uidx_list = [0]\n",
    "# uidx_list = range(dataset.num_users)\n",
    "\n",
    "scores_bpr = np.array([bpr_model.score(uidx) for uidx in uidx_list])\n",
    "scores_wmf = np.array([wmf_model.score(uidx) for uidx in uidx_list])\n",
    "\n",
    "scores_bpr = scores_bpr.flatten()\n",
    "scores_wmf = scores_wmf.flatten()\n",
    "\n",
    "print(\"BPR scores shape:\", scores_bpr.shape)\n",
    "print(\"WMF scores shape:\", scores_wmf.shape)\n",
    "\n",
    "X_train = np.array(2 * [(uidx, iidx) for iidx in range(dataset.num_items) for uidx in uidx_list])\n",
    "y_train = np.concatenate((scores_bpr, scores_wmf))\n",
    "\n",
    "print(X_train.shape, y_train.shape)"
   ]
  },
  {
   "cell_type": "markdown",
   "id": "036683e6",
   "metadata": {},
   "source": [
    "Next, we train this ensemble model.\n",
    "\n",
    "We use a bagging ensemble model with a decision tree as the base estimator.\n",
    "\n"
   ]
  },
  {
   "cell_type": "markdown",
   "id": "a94597d8-dab4-43f5-bad3-9f74d6c034e7",
   "metadata": {},
   "source": [
    "### Training models"
   ]
  },
  {
   "cell_type": "code",
   "execution_count": 56,
   "id": "d5f6bfc4",
   "metadata": {},
   "outputs": [
    {
     "data": {
      "text/html": [
       "<style>#sk-container-id-2 {color: black;}#sk-container-id-2 pre{padding: 0;}#sk-container-id-2 div.sk-toggleable {background-color: white;}#sk-container-id-2 label.sk-toggleable__label {cursor: pointer;display: block;width: 100%;margin-bottom: 0;padding: 0.3em;box-sizing: border-box;text-align: center;}#sk-container-id-2 label.sk-toggleable__label-arrow:before {content: \"▸\";float: left;margin-right: 0.25em;color: #696969;}#sk-container-id-2 label.sk-toggleable__label-arrow:hover:before {color: black;}#sk-container-id-2 div.sk-estimator:hover label.sk-toggleable__label-arrow:before {color: black;}#sk-container-id-2 div.sk-toggleable__content {max-height: 0;max-width: 0;overflow: hidden;text-align: left;background-color: #f0f8ff;}#sk-container-id-2 div.sk-toggleable__content pre {margin: 0.2em;color: black;border-radius: 0.25em;background-color: #f0f8ff;}#sk-container-id-2 input.sk-toggleable__control:checked~div.sk-toggleable__content {max-height: 200px;max-width: 100%;overflow: auto;}#sk-container-id-2 input.sk-toggleable__control:checked~label.sk-toggleable__label-arrow:before {content: \"▾\";}#sk-container-id-2 div.sk-estimator input.sk-toggleable__control:checked~label.sk-toggleable__label {background-color: #d4ebff;}#sk-container-id-2 div.sk-label input.sk-toggleable__control:checked~label.sk-toggleable__label {background-color: #d4ebff;}#sk-container-id-2 input.sk-hidden--visually {border: 0;clip: rect(1px 1px 1px 1px);clip: rect(1px, 1px, 1px, 1px);height: 1px;margin: -1px;overflow: hidden;padding: 0;position: absolute;width: 1px;}#sk-container-id-2 div.sk-estimator {font-family: monospace;background-color: #f0f8ff;border: 1px dotted black;border-radius: 0.25em;box-sizing: border-box;margin-bottom: 0.5em;}#sk-container-id-2 div.sk-estimator:hover {background-color: #d4ebff;}#sk-container-id-2 div.sk-parallel-item::after {content: \"\";width: 100%;border-bottom: 1px solid gray;flex-grow: 1;}#sk-container-id-2 div.sk-label:hover label.sk-toggleable__label {background-color: #d4ebff;}#sk-container-id-2 div.sk-serial::before {content: \"\";position: absolute;border-left: 1px solid gray;box-sizing: border-box;top: 0;bottom: 0;left: 50%;z-index: 0;}#sk-container-id-2 div.sk-serial {display: flex;flex-direction: column;align-items: center;background-color: white;padding-right: 0.2em;padding-left: 0.2em;position: relative;}#sk-container-id-2 div.sk-item {position: relative;z-index: 1;}#sk-container-id-2 div.sk-parallel {display: flex;align-items: stretch;justify-content: center;background-color: white;position: relative;}#sk-container-id-2 div.sk-item::before, #sk-container-id-2 div.sk-parallel-item::before {content: \"\";position: absolute;border-left: 1px solid gray;box-sizing: border-box;top: 0;bottom: 0;left: 50%;z-index: -1;}#sk-container-id-2 div.sk-parallel-item {display: flex;flex-direction: column;z-index: 1;position: relative;background-color: white;}#sk-container-id-2 div.sk-parallel-item:first-child::after {align-self: flex-end;width: 50%;}#sk-container-id-2 div.sk-parallel-item:last-child::after {align-self: flex-start;width: 50%;}#sk-container-id-2 div.sk-parallel-item:only-child::after {width: 0;}#sk-container-id-2 div.sk-dashed-wrapped {border: 1px dashed gray;margin: 0 0.4em 0.5em 0.4em;box-sizing: border-box;padding-bottom: 0.4em;background-color: white;}#sk-container-id-2 div.sk-label label {font-family: monospace;font-weight: bold;display: inline-block;line-height: 1.2em;}#sk-container-id-2 div.sk-label-container {text-align: center;}#sk-container-id-2 div.sk-container {/* jupyter's `normalize.less` sets `[hidden] { display: none; }` but bootstrap.min.css set `[hidden] { display: none !important; }` so we also need the `!important` here to be able to override the default hidden behavior on the sphinx rendered scikit-learn.org. See: https://github.com/scikit-learn/scikit-learn/issues/21755 */display: inline-block !important;position: relative;}#sk-container-id-2 div.sk-text-repr-fallback {display: none;}</style><div id=\"sk-container-id-2\" class=\"sk-top-container\"><div class=\"sk-text-repr-fallback\"><pre>RandomForestRegressor(n_estimators=200, random_state=42)</pre><b>In a Jupyter environment, please rerun this cell to show the HTML representation or trust the notebook. <br />On GitHub, the HTML representation is unable to render, please try loading this page with nbviewer.org.</b></div><div class=\"sk-container\" hidden><div class=\"sk-item\"><div class=\"sk-estimator sk-toggleable\"><input class=\"sk-toggleable__control sk-hidden--visually\" id=\"sk-estimator-id-2\" type=\"checkbox\" checked><label for=\"sk-estimator-id-2\" class=\"sk-toggleable__label sk-toggleable__label-arrow\">RandomForestRegressor</label><div class=\"sk-toggleable__content\"><pre>RandomForestRegressor(n_estimators=200, random_state=42)</pre></div></div></div></div></div>"
      ],
      "text/plain": [
       "RandomForestRegressor(n_estimators=200, random_state=42)"
      ]
     },
     "execution_count": 56,
     "metadata": {},
     "output_type": "execute_result"
    }
   ],
   "source": [
    "base_model = DecisionTreeRegressor(random_state=42)\n",
    "bagging_model = BaggingRegressor(base_model, n_estimators=10)\n",
    "adaboost_model = AdaBoostRegressor(base_model, n_estimators=50)\n",
    "\n",
    "randomforest_model = RandomForestRegressor(n_estimators=200, random_state=42)\n",
    "\n",
    "# bagging_model.fit(X_train, y_train)\n",
    "adaboost_model.fit(X_train, y_train)\n",
    "randomforest_model.fit(X_train, y_train)"
   ]
  },
  {
   "cell_type": "markdown",
   "id": "f7df3fad-a6ef-44b8-94a6-0285256da6f0",
   "metadata": {},
   "source": [
    "## 4. New Model Prediction"
   ]
  },
  {
   "cell_type": "markdown",
   "id": "bba8f5c0-9a97-49f3-8a2e-862533d4d84d",
   "metadata": {},
   "source": [
    "### Prediction for a given input"
   ]
  },
  {
   "cell_type": "code",
   "execution_count": 57,
   "id": "30da6fa8-9416-4230-a1a8-e81b43b1f1f8",
   "metadata": {},
   "outputs": [
    {
     "name": "stdout",
     "output_type": "stream",
     "text": [
      "Adaboost model - Predict scoring of user index 0, item index 0: [3.11800671]\n",
      "Random Forest model - Predict scoring of user index 0, item index 0: [3.23781075]\n"
     ]
    }
   ],
   "source": [
    "print(\"Adaboost model - Predict scoring of user index 0, item index 0:\", adaboost_model.predict([(0, 0)]))\n",
    "print(\"Random Forest model - Predict scoring of user index 0, item index 0:\", randomforest_model.predict([(0, 0)]))\n",
    "\n",
    "adaboost_scores = adaboost_model.predict([(uidx, iidx) for iidx in range(dataset.num_items) for uidx in uidx_list])\n",
    "randomforest_scores = randomforest_model.predict([(uidx, iidx) for iidx in range(dataset.num_items) for uidx in uidx_list])"
   ]
  },
  {
   "cell_type": "code",
   "execution_count": 58,
   "id": "47a101cb",
   "metadata": {},
   "outputs": [],
   "source": [
    "df = pd.DataFrame({\n",
    "    'itemindex': 4 * [iidx for iidx in range(dataset.num_items) for _ in uidx_list],\n",
    "    'score': np.concatenate((scores_bpr, scores_wmf, adaboost_scores, randomforest_scores)),\n",
    "    'model': ['bpr'] * dataset.num_items * len(uidx_list) + ['wmf'] * dataset.num_items * len(uidx_list) + ['adaboost'] * dataset.num_items * len(uidx_list) + ['randomforest'] * dataset.num_items * len(uidx_list),\n",
    "})"
   ]
  },
  {
   "cell_type": "markdown",
   "id": "220249f5",
   "metadata": {},
   "source": [
    "Let's compare the scores of the ensemble model with the individual models."
   ]
  },
  {
   "cell_type": "code",
   "execution_count": 59,
   "id": "05b55f2e",
   "metadata": {},
   "outputs": [
    {
     "data": {
      "text/plain": [
       "<Axes: xlabel='itemindex', ylabel='score'>"
      ]
     },
     "execution_count": 59,
     "metadata": {},
     "output_type": "execute_result"
    },
    {
     "data": {
      "image/png": "[encoded data removed]",
      "text/plain": [
       "<Figure size 640x480 with 1 Axes>"
      ]
     },
     "metadata": {},
     "output_type": "display_data"
    }
   ],
   "source": [
    "# Get first 30 items and visualize them.\n",
    "sub_df = df[df['itemindex'] < 30]\n",
    "\n",
    "sns.scatterplot(x=sub_df['itemindex'], y=sub_df['score'], hue=sub_df['model'])\n"
   ]
  },
  {
   "cell_type": "markdown",
   "id": "5122516a",
   "metadata": {},
   "source": [
    "### Obtaining top N items for each model\n",
    "\n",
    "#### Using pandas DataFrame\n",
    "\n",
    "The following code snippet shows how to obtain the top N items for each model using pandas."
   ]
  },
  {
   "cell_type": "markdown",
   "id": "4cf7960c",
   "metadata": {},
   "source": [
    "Comparing top N items between models. Take note that these are item indexes instead of item IDs."
   ]
  },
  {
   "cell_type": "code",
   "execution_count": 60,
   "id": "df07570e",
   "metadata": {},
   "outputs": [
    {
     "name": "stdout",
     "output_type": "stream",
     "text": [
      "      itemindex     score     model\n",
      "3721        357  3.770982  adaboost\n",
      "3787        423  3.755059  adaboost\n",
      "3855        491  3.596724  adaboost\n",
      "3497        133  3.499176  adaboost\n",
      "3453         89  3.477541  adaboost\n",
      "3653        289  3.343402  adaboost\n",
      "4057        693  3.331351  adaboost\n",
      "3365          1  3.294790  adaboost\n",
      "3413         49  3.277095  adaboost\n",
      "3416         52  3.277095  adaboost\n",
      "      itemindex     score         model\n",
      "5403        357  4.019552  randomforest\n",
      "5135         89  3.839201  randomforest\n",
      "5095         49  3.831661  randomforest\n",
      "5335        289  3.817783  randomforest\n",
      "5098         52  3.806902  randomforest\n",
      "5537        491  3.738302  randomforest\n",
      "5646        600  3.695803  randomforest\n",
      "5070         24  3.660665  randomforest\n",
      "5203        157  3.606354  randomforest\n",
      "5367        321  3.538210  randomforest\n",
      "bpr item recommendations: [357, 600, 89, 491, 289, 24, 423, 49, 52, 83]\n",
      "wmf item recommendations: [357, 1, 189, 200, 719, 49, 180, 31, 239, 174]\n",
      "adaboost item recommendations: [357, 423, 491, 133, 89, 289, 693, 1, 49, 52]\n",
      "randomforest item recommendations: [357, 423, 491, 133, 89, 289, 693, 1, 49, 52]\n"
     ]
    }
   ],
   "source": [
    "n = 10\n",
    "\n",
    "bpr_df = df[df['model'] == 'bpr'].nlargest(n, 'score')\n",
    "\n",
    "wmf_df = df[df['model'] == 'wmf'].nlargest(n, 'score')\n",
    "\n",
    "adaboost_df = df[df['model'] == 'adaboost'].nlargest(n, 'score')\n",
    "print(adaboost_df)\n",
    "\n",
    "randomforest_df = df[df['model'] == 'randomforest'].nlargest(n, 'score')\n",
    "print(randomforest_df)\n",
    "\n",
    "bpr_top_n = bpr_df['itemindex'].values\n",
    "print(\"bpr item recommendations:\", list(bpr_top_n))\n",
    "wmf_top_n = wmf_df['itemindex'].values\n",
    "print(\"wmf item recommendations:\", list(wmf_top_n))\n",
    "adaboost_top_n = adaboost_df['itemindex'].values\n",
    "print(\"adaboost item recommendations:\", list(adaboost_top_n))\n",
    "randomforest_top_n = adaboost_df['itemindex'].values\n",
    "print(\"randomforest item recommendations:\", list(randomforest_top_n))\n",
    "\n"
   ]
  },
  {
   "cell_type": "markdown",
   "id": "1a903dfe",
   "metadata": {},
   "source": [
    "To map it back into Item IDs, we use the iid_map which gives us item ID to index mappings."
   ]
  },
  {
   "cell_type": "code",
   "execution_count": 61,
   "id": "d23af888",
   "metadata": {},
   "outputs": [
    {
     "name": "stdout",
     "output_type": "stream",
     "text": [
      "[('242', 0), ('302', 1), ('377', 2), ('51', 3), ('346', 4), ('474', 5), ('265', 6), ('465', 7), ('451', 8), ('86', 9), ('257', 10), ('1014', 11), ('222', 12), ('40', 13), ('29', 14), ('785', 15), ('387', 16), ('274', 17), ('1042', 18), ('1184', 19), ('392', 20), ('486', 21), ('144', 22), ('118', 23), ('1', 24), ('546', 25), ('95', 26), ('768', 27), ('277', 28), ('234', 29), ('246', 30), ('98', 31), ('193', 32), ('88', 33), ('194', 34), ('1081', 35), ('603', 36), ('796', 37), ('32', 38), ('16', 39), ('304', 40), ('979', 41), ('564', 42), ('327', 43), ('201', 44), ('1137', 45), ('241', 46), ('4', 47), ('332', 48), ('100', 49), ('432', 50), ('322', 51), ('181', 52), ('196', 53), ('679', 54), ('384', 55), ('143', 56), ('423', 57), ('515', 58), ('20', 59), ('288', 60), ('219', 61), ('526', 62), ('919', 63), ('26', 64), ('232', 65), ('427', 66), ('512', 67), ('15', 68), ('1049', 69), ('416', 70), ('165', 71), ('690', 72), ('248', 73), ('1444', 74), ('5', 75), ('229', 76), ('237', 77), ('480', 78), ('54', 79), ('366', 80), ('518', 81), ('403', 82), ('111', 83), ('625', 84), ('338', 85), ('25', 86), ('1016', 87), ('154', 88), ('275', 89), ('1153', 90), ('498', 91), ('382', 92), ('209', 93), ('23', 94), ('294', 95), ('208', 96), ('685', 97), ('328', 98), ('496', 99), ('132', 100), ('174', 101), ('96', 102), ('151', 103), ('307', 104), ('648', 105), ('21', 106), ('832', 107), ('514', 108), ('789', 109), ('485', 110), ('317', 111), ('195', 112), ('200', 113), ('385', 114), ('750', 115), ('264', 116), ('245', 117), ('135', 118), ('1147', 119), ('471', 120), ('658', 121), ('140', 122), ('379', 123), ('815', 124), ('479', 125), ('368', 126), ('1211', 127), ('1134', 128), ('836', 129), ('272', 130), ('756', 131), ('787', 132), ('14', 133), ('955', 134), ('419', 135), ('405', 136), ('504', 137), ('466', 138), ('268', 139), ('117', 140), ('273', 141), ('559', 142), ('794', 143), ('323', 144), ('177', 145), ('231', 146), ('2', 147), ('137', 148), ('1336', 149), ('164', 150), ('281', 151), ('1240', 152), ('298', 153), ('443', 154), ('1035', 155), ('79', 156), ('258', 157), ('455', 158), ('755', 159), ('673', 160), ('172', 161), ('1217', 162), ('719', 163), ('1267', 164), ('930', 165), ('216', 166), ('1079', 167), ('452', 168), ('61', 169), ('48', 170), ('360', 171), ('77', 172), ('476', 173), ('483', 174), ('748', 175), ('220', 176), ('255', 177), ('280', 178), ('202', 179), ('408', 180), ('235', 181), ('228', 182), ('1098', 183), ('347', 184), ('178', 185), ('478', 186), ('688', 187), ('10', 188), ('127', 189), ('106', 190), ('69', 191), ('944', 192), ('790', 193), ('1091', 194), ('214', 195), ('1028', 196), ('554', 197), ('109', 198), ('171', 199), ('318', 200), ('568', 201), ('842', 202), ('65', 203), ('591', 204), ('401', 205), ('339', 206), ('746', 207), ('68', 208), ('7', 209), ('1018', 210), ('218', 211), ('623', 212), ('334', 213), ('344', 214), ('145', 215), ('56', 216), ('89', 217), ('141', 218), ('576', 219), ('133', 220), ('153', 221), ('813', 222), ('872', 223), ('146', 224), ('507', 225), ('367', 226), ('468', 227), ('595', 228), ('11', 229), ('520', 230), ('82', 231), ('501', 232), ('3', 233), ('695', 234), ('198', 235), ('189', 236), ('767', 237), ('705', 238), ('64', 239), ('357', 240), ('484', 241), ('508', 242), ('303', 243), ('215', 244), ('749', 245), ('829', 246), ('204', 247), ('1295', 248), ('33', 249), ('160', 250), ('321', 251), ('343', 252), ('227', 253), ('191', 254), ('903', 255), ('183', 256), ('724', 257), ('430', 258), ('1197', 259), ('134', 260), ('751', 261), ('212', 262), ('256', 263), ('662', 264), ('984', 265), ('1067', 266), ('410', 267), ('879', 268), ('271', 269), ('1086', 270), ('649', 271), ('951', 272), ('197', 273), ('678', 274), ('199', 275), ('709', 276), ('169', 277), ('597', 278), ('1393', 279), ('333', 280), ('1115', 281), ('577', 282), ('378', 283), ('425', 284), ('959', 285), ('1224', 286), ('1017', 287), ('175', 288), ('286', 289), ('558', 290), ('66', 291), ('206', 292), ('402', 293), ('640', 294), ('522', 295), ('62', 296), ('12', 297), ('291', 298), ('462', 299), ('612', 300), ('758', 301), ('845', 302), ('163', 303), ('1451', 304), ('250', 305), ('823', 306), ('186', 307), ('731', 308), ('71', 309), ('781', 310), ('176', 311), ('1181', 312), ('78', 313), ('436', 314), ('631', 315), ('716', 316), ('188', 317), ('699', 318), ('604', 319), ('97', 320), ('173', 321), ('460', 322), ('715', 323), ('17', 324), ('315', 325), ('505', 326), ('279', 327), ('80', 328), ('238', 329), ('60', 330), ('325', 331), ('407', 332), ('531', 333), ('587', 334), ('892', 335), ('1047', 336), ('47', 337), ('217', 338), ('259', 339), ('596', 340), ('960', 341), ('211', 342), ('938', 343), ('1060', 344), ('404', 345), ('305', 346), ('210', 347), ('278', 348), ('770', 349), ('252', 350), ('156', 351), ('1110', 352), ('350', 353), ('431', 354), ('475', 355), ('182', 356), ('50', 357), ('365', 358), ('187', 359), ('289', 360), ('185', 361), ('712', 362), ('94', 363), ('742', 364), ('762', 365), ('732', 366), ('168', 367), ('550', 368), ('849', 369), ('406', 370), ('150', 371), ('869', 372), ('184', 373), ('371', 374), ('720', 375), ('873', 376), ('381', 377), ('922', 378), ('57', 379), ('306', 380), ('370', 381), ('249', 382), ('721', 383), ('611', 384), ('142', 385), ('943', 386), ('126', 387), ('824', 388), ('8', 389), ('58', 390), ('680', 391), ('741', 392), ('1061', 393), ('448', 394), ('900', 395), ('941', 396), ('905', 397), ('1497', 398), ('55', 399), ('744', 400), ('642', 401), ('1015', 402), ('121', 403), ('301', 404), ('81', 405), ('284', 406), ('740', 407), ('22', 408), ('864', 409), ('1099', 410), ('961', 411), ('812', 412), ('240', 413), ('376', 414), ('931', 415), ('717', 416), ('399', 417), ('1039', 418), ('1114', 419), ('292', 420), ('561', 421), ('901', 422), ('70', 423), ('417', 424), ('809', 425), ('540', 426), ('293', 427), ('497', 428), ('1462', 429), ('1246', 430), ('655', 431), ('13', 432), ('588', 433), ('409', 434), ('739', 435), ('661', 436), ('665', 437), ('692', 438), ('439', 439), ('632', 440), ('1198', 441), ('609', 442), ('225', 443), ('128', 444), ('866', 445), ('295', 446), ('49', 447), ('626', 448), ('707', 449), ('586', 450), ('593', 451), ('147', 452), ('1220', 453), ('492', 454), ('620', 455), ('161', 456), ('1070', 457), ('449', 458), ('948', 459), ('509', 460), ('870', 461), ('39', 462), ('1100', 463), ('820', 464), ('660', 465), ('1022', 466), ('120', 467), ('780', 468), ('44', 469), ('686', 470), ('28', 471), ('729', 472), ('52', 473), ('230', 474), ('506', 475), ('566', 476), ('774', 477), ('1003', 478), ('433', 479), ('99', 480), ('1288', 481), ('190', 482), ('1010', 483), ('877', 484), ('487', 485), ('1052', 486), ('287', 487), ('659', 488), ('927', 489), ('696', 490), ('269', 491), ('179', 492), ('440', 493), ('806', 494), ('572', 495), ('654', 496), ('324', 497), ('736', 498), ('92', 499), ('461', 500), ('129', 501), ('9', 502), ('152', 503), ('233', 504), ('589', 505), ('203', 506), ('1034', 507), ('923', 508), ('463', 509), ('122', 510), ('310', 511), ('285', 512), ('447', 513), ('412', 514), ('1428', 515), ('977', 516), ('1065', 517), ('421', 518), ('937', 519), ('583', 520), ('110', 521), ('251', 522), ('831', 523), ('543', 524), ('926', 525), ('155', 526), ('53', 527), ('393', 528), ('91', 529), ('477', 530), ('472', 531), ('761', 532), ('1286', 533), ('93', 534), ('644', 535), ('982', 536), ('491', 537), ('511', 538), ('397', 539), ('162', 540), ('513', 541), ('375', 542), ('38', 543), ('418', 544), ('858', 545), ('131', 546), ('87', 547), ('725', 548), ('72', 549), ('663', 550), ('1133', 551), ('125', 552), ('1248', 553), ('354', 554), ('105', 555), ('73', 556), ('239', 557), ('860', 558), ('1046', 559), ('1178', 560), ('523', 561), ('634', 562), ('1245', 563), ('974', 564), ('619', 565), ('107', 566), ('213', 567), ('319', 568), ('963', 569), ('875', 570), ('180', 571), ('1033', 572), ('380', 573), ('59', 574), ('1078', 575), ('585', 576), ('148', 577), ('683', 578), ('454', 579), ('737', 580), ('524', 581), ('995', 582), ('616', 583), ('945', 584), ('299', 585), ('792', 586), ('708', 587), ('950', 588), ('27', 589), ('747', 590), ('85', 591), ('516', 592), ('1063', 593), ('682', 594), ('221', 595), ('1150', 596), ('847', 597), ('138', 598), ('517', 599), ('283', 600), ('602', 601), ('573', 602), ('617', 603), ('569', 604), ('1332', 605), ('703', 606), ('386', 607), ('331', 608), ('355', 609), ('949', 610), ('488', 611), ('114', 612), ('24', 613), ('763', 614), ('43', 615), ('953', 616), ('670', 617), ('510', 618), ('372', 619), ('335', 620), ('779', 621), ('435', 622), ('223', 623), ('1334', 624), ('835', 625), ('1327', 626), ('263', 627), ('450', 628), ('651', 629), ('316', 630), ('929', 631), ('580', 632), ('1041', 633), ('424', 634), ('429', 635), ('868', 636), ('1161', 637), ('166', 638), ('1162', 639), ('1019', 640), ('908', 641), ('1160', 642), ('676', 643), ('1012', 644), ('1209', 645), ('693', 646), ('282', 647), ('253', 648), ('428', 649), ('1350', 650), ('363', 651), ('300', 652), ('1346', 653), ('1119', 654), ('674', 655), ('411', 656), ('527', 657), ('1397', 658), ('807', 659), ('657', 660), ('1142', 661), ('113', 662), ('426', 663), ('1109', 664), ('116', 665), ('898', 666), ('723', 667), ('243', 668), ('582', 669), ('778', 670), ('308', 671), ('1007', 672), ('641', 673), ('1165', 674), ('764', 675), ('1011', 676), ('1101', 677), ('396', 678), ('1260', 679), ('904', 680), ('312', 681), ('1048', 682), ('627', 683), ('571', 684), ('552', 685), ('1278', 686), ('499', 687), ('1186', 688), ('1057', 689), ('207', 690), ('309', 691), ('671', 692), ('83', 693), ('482', 694), ('276', 695), ('1094', 696), ('647', 697), ('578', 698), ('1021', 699), ('886', 700), ('1151', 701), ('855', 702), ('942', 703), ('826', 704), ('1044', 705), ('254', 706), ('290', 707), ('848', 708), ('542', 709), ('581', 710), ('1229', 711), ('718', 712), ('337', 713), ('1107', 714), ('539', 715), ('821', 716), ('364', 717), ('553', 718), ('313', 719), ('1218', 720), ('115', 721), ('1129', 722), ('493', 723), ('36', 724), ('205', 725), ('102', 726), ('1249', 727), ('773', 728), ('494', 729), ('192', 730), ('687', 731), ('772', 732), ('921', 733), ('42', 734), ('469', 735), ('874', 736), ('1216', 737), ('1139', 738), ('547', 739), ('157', 740), ('1208', 741), ('1157', 742), ('808', 743), ('906', 744), ('535', 745), ('470', 746), ('714', 747), ('939', 748), ('738', 749), ('525', 750), ('340', 751), ('1037', 752), ('530', 753), ('528', 754), ('754', 755), ('1436', 756), ('771', 757), ('226', 758), ('1383', 759), ('745', 760), ('1316', 761), ('846', 762), ('605', 763), ('575', 764), ('1284', 765), ('1298', 766), ('529', 767), ('743', 768), ('840', 769), ('244', 770), ('760', 771), ('1006', 772), ('1228', 773), ('1095', 774), ('34', 775), ('103', 776), ('441', 777), ('90', 778), ('1005', 779), ('863', 780), ('473', 781), ('1281', 782), ('356', 783), ('630', 784), ('793', 785), ('766', 786), ('1206', 787), ('1342', 788), ('980', 789), ('1263', 790), ('1376', 791), ('1182', 792), ('457', 793), ('710', 794), ('615', 795), ('101', 796), ('697', 797), ('1199', 798), ('395', 799), ('983', 800), ('684', 801), ('971', 802), ('1116', 803), ('267', 804), ('556', 805), ('853', 806), ('311', 807), ('1073', 808), ('975', 809), ('361', 810), ('643', 811), ('704', 812), ('997', 813), ('260', 814), ('990', 815), ('969', 816), ('167', 817), ('650', 818), ('320', 819), ('63', 820), ('965', 821), ('652', 822), ('1059', 823), ('882', 824), ('1164', 825), ('1207', 826), ('786', 827), ('614', 828), ('810', 829), ('1222', 830), ('139', 831), ('769', 832), ('765', 833), ('67', 834), ('624', 835), ('1001', 836), ('797', 837), ('883', 838), ('752', 839), ('1315', 840), ('560', 841), ('345', 842), ('1194', 843), ('464', 844), ('1348', 845), ('932', 846), ('1179', 847), ('536', 848), ('369', 849), ('1250', 850), ('880', 851), ('629', 852), ('775', 853), ('1289', 854), ('544', 855), ('170', 856), ('1518', 857), ('413', 858), ('618', 859), ('326', 860), ('123', 861), ('628', 862), ('262', 863), ('31', 864), ('1180', 865), ('414', 866), ('490', 867), ('839', 868), ('453', 869), ('149', 870), ('1320', 871), ('827', 872), ('124', 873), ('570', 874), ('843', 875), ('844', 876), ('420', 877), ('590', 878), ('1230', 879), ('1324', 880), ('895', 881), ('1149', 882), ('567', 883), ('606', 884), ('816', 885), ('672', 886), ('584', 887), ('521', 888), ('728', 889), ('689', 890), ('329', 891), ('859', 892), ('456', 893), ('791', 894), ('159', 895), ('489', 896), ('1266', 897), ('1416', 898), ('988', 899), ('636', 900), ('1411', 901), ('533', 902), ('1394', 903), ('819', 904), ('495', 905), ('1093', 906), ('1492', 907), ('30', 908), ('314', 909), ('958', 910), ('841', 911), ('838', 912), ('702', 913), ('1020', 914), ('947', 915), ('1000', 916), ('104', 917), ('1322', 918), ('622', 919), ('481', 920), ('532', 921), ('915', 922), ('502', 923), ('1291', 924), ('330', 925), ('802', 926), ('37', 927), ('1025', 928), ('1364', 929), ('266', 930), ('727', 931), ('828', 932), ('548', 933), ('1132', 934), ('993', 935), ('136', 936), ('996', 937), ('562', 938), ('653', 939), ('74', 940), ('1493', 941), ('45', 942), ('867', 943), ('876', 944), ('158', 945), ('1183', 946), ('1118', 947), ('500', 948), ('610', 949), ('887', 950), ('1299', 951), ('918', 952), ('41', 953), ('1066', 954), ('336', 955), ('1117', 956), ('1169', 957), ('1262', 958), ('348', 959), ('270', 960), ('1053', 961), ('1464', 962), ('374', 963), ('621', 964), ('607', 965), ('1030', 966), ('777', 967), ('700', 968), ('297', 969), ('925', 970), ('928', 971), ('394', 972), ('549', 973), ('999', 974), ('1471', 975), ('341', 976), ('1009', 977), ('391', 978), ('467', 979), ('811', 980), ('805', 981), ('519', 982), ('1036', 983), ('84', 984), ('894', 985), ('574', 986), ('1113', 987), ('1306', 988), ('638', 989), ('1314', 990), ('1131', 991), ('1069', 992), ('1084', 993), ('1407', 994), ('878', 995), ('1242', 996), ('359', 997), ('579', 998), ('884', 999), ('691', 1000), ('954', 1001), ('261', 1002), ('1112', 1003), ('1090', 1004), ('445', 1005), ('108', 1006), ('635', 1007), ('1135', 1008), ('76', 1009), ('1082', 1010), ('1215', 1011), ('1328', 1012), ('1013', 1013), ('1170', 1014), ('1265', 1015), ('735', 1016), ('352', 1017), ('833', 1018), ('722', 1019), ('434', 1020), ('801', 1021), ('224', 1022), ('358', 1023), ('966', 1024), ('1351', 1025), ('675', 1026), ('991', 1027), ('633', 1028), ('1102', 1029), ('1424', 1030), ('1163', 1031), ('1413', 1032), ('830', 1033), ('924', 1034), ('976', 1035), ('825', 1036), ('389', 1037), ('1189', 1038), ('978', 1039), ('444', 1040), ('1484', 1041), ('362', 1042), ('1442', 1043), ('1419', 1044), ('1241', 1045), ('613', 1046), ('656', 1047), ('734', 1048), ('946', 1049), ('913', 1050), ('1172', 1051), ('1108', 1052), ('1347', 1053), ('1074', 1054), ('1187', 1055), ('856', 1056), ('1212', 1057), ('1105', 1058), ('6', 1059), ('964', 1060), ('1043', 1061), ('398', 1062), ('694', 1063), ('1072', 1064), ('1141', 1065), ('733', 1066), ('1051', 1067), ('1478', 1068), ('19', 1069), ('1210', 1070), ('962', 1071), ('1203', 1072), ('563', 1073), ('1097', 1074), ('1292', 1075), ('458', 1076), ('871', 1077), ('1062', 1078), ('608', 1079), ('788', 1080), ('1508', 1081), ('1283', 1082), ('557', 1083), ('936', 1084), ('1362', 1085), ('551', 1086), ('1498', 1087), ('782', 1088), ('1225', 1089), ('1050', 1090), ('986', 1091), ('1188', 1092), ('1272', 1093), ('1268', 1094), ('415', 1095), ('1372', 1096), ('646', 1097), ('902', 1098), ('555', 1099), ('383', 1100), ('1239', 1101), ('1277', 1102), ('681', 1103), ('934', 1104), ('972', 1105), ('1152', 1106), ('645', 1107), ('664', 1108), ('795', 1109), ('940', 1110), ('1104', 1111), ('783', 1112), ('373', 1113), ('713', 1114), ('1126', 1115), ('342', 1116), ('1127', 1117), ('1503', 1118), ('818', 1119), ('896', 1120), ('351', 1121), ('1004', 1122), ('1008', 1123), ('1106', 1124), ('850', 1125), ('1226', 1126), ('639', 1127), ('422', 1128), ('910', 1129), ('1500', 1130), ('1463', 1131), ('1002', 1132), ('1495', 1133), ('1401', 1134), ('119', 1135), ('1040', 1136), ('1312', 1137), ('537', 1138), ('992', 1139), ('1384', 1140), ('1487', 1141), ('1192', 1142), ('1136', 1143), ('1227', 1144), ('865', 1145), ('1128', 1146), ('1371', 1147), ('1032', 1148), ('1071', 1149), ('814', 1150), ('503', 1151), ('1253', 1152), ('1318', 1153), ('1378', 1154), ('753', 1155), ('1124', 1156), ('1520', 1157), ('1270', 1158), ('1089', 1159), ('1123', 1160), ('1190', 1161), ('1459', 1162), ('1202', 1163), ('637', 1164), ('390', 1165), ('349', 1166), ('538', 1167), ('601', 1168), ('698', 1169), ('1386', 1170), ('1168', 1171), ('1023', 1172), ('437', 1173), ('1276', 1174), ('933', 1175), ('1077', 1176), ('968', 1177), ('1120', 1178), ('1221', 1179), ('956', 1180), ('353', 1181), ('1244', 1182), ('759', 1183), ('1024', 1184), ('1425', 1185), ('1259', 1186), ('711', 1187), ('1409', 1188), ('1254', 1189), ('112', 1190), ('1232', 1191), ('888', 1192), ('1213', 1193), ('1258', 1194), ('854', 1195), ('236', 1196), ('834', 1197), ('1083', 1198), ('1368', 1199), ('889', 1200), ('1466', 1201), ('893', 1202), ('776', 1203), ('1390', 1204), ('1282', 1205), ('952', 1206), ('1370', 1207), ('907', 1208), ('861', 1209), ('1054', 1210), ('46', 1211), ('598', 1212), ('1480', 1213), ('1297', 1214), ('1167', 1215), ('1300', 1216), ('1446', 1217), ('784', 1218), ('1143', 1219), ('1294', 1220), ('1373', 1221), ('1489', 1222), ('800', 1223), ('1088', 1224), ('989', 1225), ('1085', 1226), ('1473', 1227), ('1303', 1228), ('881', 1229), ('1529', 1230), ('1175', 1231), ('594', 1232), ('18', 1233), ('1274', 1234), ('970', 1235), ('1479', 1236), ('541', 1237), ('1403', 1238), ('1367', 1239), ('388', 1240), ('837', 1241), ('1309', 1242), ('1296', 1243), ('565', 1244), ('1045', 1245), ('1166', 1246), ('1427', 1247), ('1385', 1248), ('857', 1249), ('822', 1250), ('862', 1251), ('1158', 1252), ('967', 1253), ('1087', 1254), ('1449', 1255), ('592', 1256), ('890', 1257), ('998', 1258), ('985', 1259), ('1231', 1260), ('885', 1261), ('669', 1262), ('1438', 1263), ('1068', 1264), ('1219', 1265), ('667', 1266), ('545', 1267), ('1140', 1268), ('726', 1269), ('1056', 1270), ('1524', 1271), ('247', 1272), ('1430', 1273), ('1236', 1274), ('1361', 1275), ('1285', 1276), ('1058', 1277), ('1247', 1278), ('35', 1279), ('1527', 1280), ('916', 1281), ('1301', 1282), ('1374', 1283), ('1148', 1284), ('1388', 1285), ('1353', 1286), ('1125', 1287), ('1485', 1288), ('1530', 1289), ('803', 1290), ('1310', 1291), ('1313', 1292), ('1405', 1293), ('459', 1294), ('1469', 1295), ('1387', 1296), ('1536', 1297), ('1582', 1298), ('1343', 1299), ('1457', 1300), ('1404', 1301), ('994', 1302), ('1076', 1303), ('1543', 1304), ('1432', 1305), ('1271', 1306), ('1177', 1307), ('1223', 1308), ('1092', 1309), ('1302', 1310), ('599', 1311), ('1443', 1312), ('701', 1313), ('706', 1314), ('914', 1315), ('130', 1316), ('1195', 1317), ('1417', 1318), ('1357', 1319), ('1273', 1320), ('1578', 1321), ('1396', 1322), ('1398', 1323), ('75', 1324), ('534', 1325), ('1458', 1326), ('1379', 1327), ('1279', 1328), ('1330', 1329), ('1439', 1330), ('1338', 1331), ('1354', 1332), ('1554', 1333), ('1193', 1334), ('1561', 1335), ('804', 1336), ('668', 1337), ('1075', 1338), ('442', 1339), ('1533', 1340), ('1434', 1341), ('1565', 1342), ('1176', 1343), ('1456', 1344), ('1307', 1345), ('1534', 1346), ('1531', 1347), ('400', 1348), ('1421', 1349), ('1369', 1350), ('1455', 1351), ('1257', 1352), ('1555', 1353), ('730', 1354), ('1454', 1355), ('1441', 1356), ('1103', 1357), ('1477', 1358), ('1521', 1359), ('1174', 1360), ('1538', 1361), ('1344', 1362), ('798', 1363), ('1392', 1364), ('1517', 1365), ('1377', 1366), ('817', 1367), ('1563', 1368), ('1264', 1369), ('1470', 1370), ('1418', 1371), ('1156', 1372), ('1406', 1373), ('1360', 1374), ('935', 1375), ('1275', 1376), ('891', 1377), ('1121', 1378), ('1252', 1379), ('1505', 1380), ('1317', 1381), ('1519', 1382), ('1029', 1383), ('912', 1384), ('1200', 1385), ('1305', 1386), ('1400', 1387), ('852', 1388), ('1375', 1389), ('1501', 1390), ('1435', 1391), ('1395', 1392), ('1557', 1393), ('1333', 1394), ('1591', 1395), ('1562', 1396), ('1269', 1397), ('909', 1398), ('1450', 1399), ('1550', 1400), ('1154', 1401), ('1237', 1402), ('1261', 1403), ('1586', 1404), ('1038', 1405), ('1504', 1406), ('1214', 1407), ('1522', 1408), ('1238', 1409), ('1064', 1410), ('757', 1411), ('1476', 1412), ('1545', 1413), ('1537', 1414), ('1391', 1415), ('296', 1416), ('1472', 1417), ('1580', 1418), ('1331', 1419), ('1363', 1420), ('1280', 1421), ('1138', 1422), ('1308', 1423), ('1339', 1424), ('1523', 1425), ('1080', 1426), ('1096', 1427), ('1512', 1428), ('1287', 1429), ('1483', 1430), ('1566', 1431), ('1031', 1432), ('917', 1433), ('920', 1434), ('1589', 1435), ('1293', 1436), ('1349', 1437), ('1422', 1438), ('1389', 1439), ('1290', 1440), ('1447', 1441), ('1111', 1442), ('1513', 1443), ('1235', 1444), ('1412', 1445), ('1185', 1446), ('1337', 1447), ('1592', 1448), ('1399', 1449), ('1547', 1450), ('1420', 1451), ('1173', 1452), ('1159', 1453), ('1506', 1454), ('1468', 1455), ('1355', 1456), ('1437', 1457), ('1304', 1458), ('1359', 1459), ('1204', 1460), ('1426', 1461), ('1588', 1462), ('1590', 1463), ('1608', 1464), ('1617', 1465), ('1026', 1466), ('1311', 1467), ('957', 1468), ('1326', 1469), ('1587', 1470), ('1496', 1471), ('981', 1472), ('899', 1473), ('1560', 1474), ('677', 1475), ('1571', 1476), ('1549', 1477), ('1402', 1478), ('1598', 1479), ('1514', 1480), ('1558', 1481), ('1415', 1482), ('1528', 1483), ('1575', 1484), ('1510', 1485), ('438', 1486), ('1597', 1487), ('1579', 1488), ('600', 1489), ('1499', 1490), ('446', 1491), ('1205', 1492), ('1191', 1493), ('1445', 1494), ('1603', 1495), ('1616', 1496), ('1465', 1497), ('1146', 1498), ('1539', 1499), ('1255', 1500), ('1526', 1501), ('1585', 1502), ('1596', 1503), ('1605', 1504), ('1453', 1505), ('1488', 1506), ('1516', 1507), ('1461', 1508), ('973', 1509), ('1553', 1510), ('1559', 1511), ('1431', 1512), ('851', 1513), ('666', 1514), ('1532', 1515), ('1507', 1516), ('1540', 1517), ('1593', 1518), ('1243', 1519), ('1623', 1520), ('1576', 1521), ('1511', 1522), ('1525', 1523), ('1569', 1524), ('1568', 1525), ('1408', 1526), ('1602', 1527), ('1381', 1528), ('1340', 1529), ('1055', 1530), ('1440', 1531), ('1358', 1532), ('1502', 1533), ('1171', 1534), ('1619', 1535), ('1319', 1536), ('1601', 1537), ('1620', 1538), ('1474', 1539), ('1145', 1540), ('1155', 1541), ('799', 1542), ('1535', 1543), ('1615', 1544), ('1583', 1545), ('1475', 1546), ('1624', 1547), ('1234', 1548), ('1323', 1549), ('1541', 1550), ('1609', 1551), ('1651', 1552), ('1414', 1553), ('1486', 1554), ('1552', 1555), ('1614', 1556), ('1570', 1557), ('1335', 1558), ('1251', 1559), ('1233', 1560), ('1612', 1561), ('1599', 1562), ('1607', 1563), ('1345', 1564), ('1649', 1565), ('1656', 1566), ('1321', 1567), ('1380', 1568), ('1491', 1569), ('1610', 1570), ('1642', 1571), ('1572', 1572), ('1629', 1573), ('1481', 1574), ('1628', 1575), ('1144', 1576), ('1490', 1577), ('1600', 1578), ('1653', 1579), ('1452', 1580), ('1644', 1581), ('1595', 1582), ('1410', 1583), ('1548', 1584), ('1655', 1585), ('1654', 1586), ('1027', 1587), ('1482', 1588), ('1657', 1589), ('1639', 1590), ('1650', 1591), ('1196', 1592), ('1660', 1593), ('1509', 1594), ('897', 1595), ('1365', 1596), ('1661', 1597), ('1423', 1598), ('1515', 1599), ('1658', 1600), ('1621', 1601), ('1662', 1602), ('1646', 1603), ('1632', 1604), ('1618', 1605), ('1647', 1606), ('1429', 1607), ('1643', 1608), ('987', 1609), ('1581', 1610), ('1584', 1611), ('1669', 1612), ('1664', 1613), ('1613', 1614), ('911', 1615), ('1130', 1616), ('1663', 1617), ('1652', 1618), ('1467', 1619), ('1634', 1620), ('1256', 1621), ('1606', 1622), ('1544', 1623), ('1622', 1624), ('1329', 1625), ('1494', 1626), ('1672', 1627), ('1673', 1628), ('1382', 1629), ('1633', 1630), ('1677', 1631), ('1679', 1632), ('1577', 1633), ('1666', 1634), ('1356', 1635), ('1635', 1636), ('1433', 1637), ('1648', 1638), ('1573', 1639), ('1551', 1640), ('1631', 1641), ('1542', 1642), ('1556', 1643), ('1678', 1644), ('1567', 1645), ('1122', 1646), ('1201', 1647), ('1546', 1648), ('1627', 1649), ('1676', 1650), ('1680', 1651), ('1366', 1652), ('1611', 1653), ('1668', 1654), ('1564', 1655), ('1604', 1656), ('1574', 1657), ('1448', 1658), ('1671', 1659), ('1625', 1660), ('1665', 1661), ('1325', 1662), ('1670', 1663), ('1341', 1664), ('1352', 1665), ('1636', 1666), ('1681', 1667), ('1638', 1668), ('1667', 1669), ('1675', 1670), ('1460', 1671), ('1594', 1672), ('1626', 1673), ('1645', 1674), ('1659', 1675), ('1682', 1676), ('1674', 1677), ('1640', 1678), ('1637', 1679), ('1630', 1680), ('1641', 1681)]\n",
      "bpr item recommendations: ['50', '283', '275', '269', '286', '1', '70', '100', '181', '111']\n",
      "wmf item recommendations: ['50', '302', '127', '318', '313', '100', '408', '98', '64', '483']\n",
      "adaboost item recommendations: ['50', '70', '269', '14', '275', '286', '83', '302', '100', '181']\n",
      "randomforest item recommendations: ['50', '70', '269', '14', '275', '286', '83', '302', '100', '181']\n"
     ]
    }
   ],
   "source": [
    "iid_to_index_list = list(dataset.iid_map.items())\n",
    "\n",
    "print(iid_to_index_list)\n",
    "\n",
    "bpr_top_n_iid = [iid_to_index_list[item_idx][0] for item_idx in bpr_top_n]\n",
    "wmf_top_n_iid = [iid_to_index_list[item_idx][0] for item_idx in wmf_top_n]\n",
    "adaboost_top_n_iid = [iid_to_index_list[item_idx][0] for item_idx in adaboost_top_n]\n",
    "randomforest_top_n_iid = [iid_to_index_list[item_idx][0] for item_idx in randomforest_top_n]\n",
    "\n",
    "print(\"bpr item recommendations:\", bpr_top_n_iid)\n",
    "print(\"wmf item recommendations:\", wmf_top_n_iid)\n",
    "print(\"adaboost item recommendations:\", adaboost_top_n_iid)\n",
    "print(\"randomforest item recommendations:\", randomforest_top_n_iid)"
   ]
  },
  {
   "cell_type": "code",
   "execution_count": null,
   "id": "a3bf97ae",
   "metadata": {},
   "outputs": [],
   "source": []
  }
 ],
 "metadata": {
  "kernelspec": {
   "display_name": "Python 3 (ipykernel)",
   "language": "python",
   "name": "python3"
  },
  "language_info": {
   "codemirror_mode": {
    "name": "ipython",
    "version": 3
   },
   "file_extension": ".py",
   "mimetype": "text/x-python",
   "name": "python",
   "nbconvert_exporter": "python",
   "pygments_lexer": "ipython3",
   "version": "3.9.17"
  }
 },
 "nbformat": 4,
 "nbformat_minor": 5
}
